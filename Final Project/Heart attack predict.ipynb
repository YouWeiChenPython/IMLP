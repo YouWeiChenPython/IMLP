{
 "cells": [
  {
   "cell_type": "markdown",
   "id": "6244e034",
   "metadata": {},
   "source": [
    "# Heart attack prediction \n",
    "\n",
    "#### 大致參考了 kaggle網站裡面 Rishabh Arya的程式碼 名稱是 \n",
    "Heart Attack Analysis - Beginner friendly....💘🤓\n",
    "\n",
    "\n",
    "\n",
    "##### 網站：https://www.kaggle.com/aryarishabh/heart-attack-analysis-beginner-friendly-90"
   ]
  },
  {
   "cell_type": "code",
   "execution_count": 1,
   "id": "949c883a",
   "metadata": {},
   "outputs": [],
   "source": [
    "import numpy as np \n",
    "import pandas as pd\n",
    "import matplotlib.pyplot as plt\n",
    "%matplotlib inline\n",
    "import seaborn as sns\n",
    "\n",
    "\n",
    "import warnings\n",
    "warnings.filterwarnings('ignore')\n"
   ]
  },
  {
   "cell_type": "code",
   "execution_count": 2,
   "id": "97f26424",
   "metadata": {},
   "outputs": [
    {
     "data": {
      "text/html": [
       "<div>\n",
       "<style scoped>\n",
       "    .dataframe tbody tr th:only-of-type {\n",
       "        vertical-align: middle;\n",
       "    }\n",
       "\n",
       "    .dataframe tbody tr th {\n",
       "        vertical-align: top;\n",
       "    }\n",
       "\n",
       "    .dataframe thead th {\n",
       "        text-align: right;\n",
       "    }\n",
       "</style>\n",
       "<table border=\"1\" class=\"dataframe\">\n",
       "  <thead>\n",
       "    <tr style=\"text-align: right;\">\n",
       "      <th></th>\n",
       "      <th>age</th>\n",
       "      <th>sex</th>\n",
       "      <th>cp</th>\n",
       "      <th>trtbps</th>\n",
       "      <th>chol</th>\n",
       "      <th>fbs</th>\n",
       "      <th>restecg</th>\n",
       "      <th>thalachh</th>\n",
       "      <th>exng</th>\n",
       "      <th>oldpeak</th>\n",
       "      <th>slp</th>\n",
       "      <th>caa</th>\n",
       "      <th>thall</th>\n",
       "      <th>output</th>\n",
       "    </tr>\n",
       "  </thead>\n",
       "  <tbody>\n",
       "    <tr>\n",
       "      <th>0</th>\n",
       "      <td>63</td>\n",
       "      <td>1</td>\n",
       "      <td>3</td>\n",
       "      <td>145</td>\n",
       "      <td>233</td>\n",
       "      <td>1</td>\n",
       "      <td>0</td>\n",
       "      <td>150</td>\n",
       "      <td>0</td>\n",
       "      <td>2.3</td>\n",
       "      <td>0</td>\n",
       "      <td>0</td>\n",
       "      <td>1</td>\n",
       "      <td>1</td>\n",
       "    </tr>\n",
       "    <tr>\n",
       "      <th>1</th>\n",
       "      <td>37</td>\n",
       "      <td>1</td>\n",
       "      <td>2</td>\n",
       "      <td>130</td>\n",
       "      <td>250</td>\n",
       "      <td>0</td>\n",
       "      <td>1</td>\n",
       "      <td>187</td>\n",
       "      <td>0</td>\n",
       "      <td>3.5</td>\n",
       "      <td>0</td>\n",
       "      <td>0</td>\n",
       "      <td>2</td>\n",
       "      <td>1</td>\n",
       "    </tr>\n",
       "    <tr>\n",
       "      <th>2</th>\n",
       "      <td>41</td>\n",
       "      <td>0</td>\n",
       "      <td>1</td>\n",
       "      <td>130</td>\n",
       "      <td>204</td>\n",
       "      <td>0</td>\n",
       "      <td>0</td>\n",
       "      <td>172</td>\n",
       "      <td>0</td>\n",
       "      <td>1.4</td>\n",
       "      <td>2</td>\n",
       "      <td>0</td>\n",
       "      <td>2</td>\n",
       "      <td>1</td>\n",
       "    </tr>\n",
       "    <tr>\n",
       "      <th>3</th>\n",
       "      <td>56</td>\n",
       "      <td>1</td>\n",
       "      <td>1</td>\n",
       "      <td>120</td>\n",
       "      <td>236</td>\n",
       "      <td>0</td>\n",
       "      <td>1</td>\n",
       "      <td>178</td>\n",
       "      <td>0</td>\n",
       "      <td>0.8</td>\n",
       "      <td>2</td>\n",
       "      <td>0</td>\n",
       "      <td>2</td>\n",
       "      <td>1</td>\n",
       "    </tr>\n",
       "    <tr>\n",
       "      <th>4</th>\n",
       "      <td>57</td>\n",
       "      <td>0</td>\n",
       "      <td>0</td>\n",
       "      <td>120</td>\n",
       "      <td>354</td>\n",
       "      <td>0</td>\n",
       "      <td>1</td>\n",
       "      <td>163</td>\n",
       "      <td>1</td>\n",
       "      <td>0.6</td>\n",
       "      <td>2</td>\n",
       "      <td>0</td>\n",
       "      <td>2</td>\n",
       "      <td>1</td>\n",
       "    </tr>\n",
       "    <tr>\n",
       "      <th>...</th>\n",
       "      <td>...</td>\n",
       "      <td>...</td>\n",
       "      <td>...</td>\n",
       "      <td>...</td>\n",
       "      <td>...</td>\n",
       "      <td>...</td>\n",
       "      <td>...</td>\n",
       "      <td>...</td>\n",
       "      <td>...</td>\n",
       "      <td>...</td>\n",
       "      <td>...</td>\n",
       "      <td>...</td>\n",
       "      <td>...</td>\n",
       "      <td>...</td>\n",
       "    </tr>\n",
       "    <tr>\n",
       "      <th>298</th>\n",
       "      <td>57</td>\n",
       "      <td>0</td>\n",
       "      <td>0</td>\n",
       "      <td>140</td>\n",
       "      <td>241</td>\n",
       "      <td>0</td>\n",
       "      <td>1</td>\n",
       "      <td>123</td>\n",
       "      <td>1</td>\n",
       "      <td>0.2</td>\n",
       "      <td>1</td>\n",
       "      <td>0</td>\n",
       "      <td>3</td>\n",
       "      <td>0</td>\n",
       "    </tr>\n",
       "    <tr>\n",
       "      <th>299</th>\n",
       "      <td>45</td>\n",
       "      <td>1</td>\n",
       "      <td>3</td>\n",
       "      <td>110</td>\n",
       "      <td>264</td>\n",
       "      <td>0</td>\n",
       "      <td>1</td>\n",
       "      <td>132</td>\n",
       "      <td>0</td>\n",
       "      <td>1.2</td>\n",
       "      <td>1</td>\n",
       "      <td>0</td>\n",
       "      <td>3</td>\n",
       "      <td>0</td>\n",
       "    </tr>\n",
       "    <tr>\n",
       "      <th>300</th>\n",
       "      <td>68</td>\n",
       "      <td>1</td>\n",
       "      <td>0</td>\n",
       "      <td>144</td>\n",
       "      <td>193</td>\n",
       "      <td>1</td>\n",
       "      <td>1</td>\n",
       "      <td>141</td>\n",
       "      <td>0</td>\n",
       "      <td>3.4</td>\n",
       "      <td>1</td>\n",
       "      <td>2</td>\n",
       "      <td>3</td>\n",
       "      <td>0</td>\n",
       "    </tr>\n",
       "    <tr>\n",
       "      <th>301</th>\n",
       "      <td>57</td>\n",
       "      <td>1</td>\n",
       "      <td>0</td>\n",
       "      <td>130</td>\n",
       "      <td>131</td>\n",
       "      <td>0</td>\n",
       "      <td>1</td>\n",
       "      <td>115</td>\n",
       "      <td>1</td>\n",
       "      <td>1.2</td>\n",
       "      <td>1</td>\n",
       "      <td>1</td>\n",
       "      <td>3</td>\n",
       "      <td>0</td>\n",
       "    </tr>\n",
       "    <tr>\n",
       "      <th>302</th>\n",
       "      <td>57</td>\n",
       "      <td>0</td>\n",
       "      <td>1</td>\n",
       "      <td>130</td>\n",
       "      <td>236</td>\n",
       "      <td>0</td>\n",
       "      <td>0</td>\n",
       "      <td>174</td>\n",
       "      <td>0</td>\n",
       "      <td>0.0</td>\n",
       "      <td>1</td>\n",
       "      <td>1</td>\n",
       "      <td>2</td>\n",
       "      <td>0</td>\n",
       "    </tr>\n",
       "  </tbody>\n",
       "</table>\n",
       "<p>303 rows × 14 columns</p>\n",
       "</div>"
      ],
      "text/plain": [
       "     age  sex  cp  trtbps  chol  fbs  restecg  thalachh  exng  oldpeak  slp  \\\n",
       "0     63    1   3     145   233    1        0       150     0      2.3    0   \n",
       "1     37    1   2     130   250    0        1       187     0      3.5    0   \n",
       "2     41    0   1     130   204    0        0       172     0      1.4    2   \n",
       "3     56    1   1     120   236    0        1       178     0      0.8    2   \n",
       "4     57    0   0     120   354    0        1       163     1      0.6    2   \n",
       "..   ...  ...  ..     ...   ...  ...      ...       ...   ...      ...  ...   \n",
       "298   57    0   0     140   241    0        1       123     1      0.2    1   \n",
       "299   45    1   3     110   264    0        1       132     0      1.2    1   \n",
       "300   68    1   0     144   193    1        1       141     0      3.4    1   \n",
       "301   57    1   0     130   131    0        1       115     1      1.2    1   \n",
       "302   57    0   1     130   236    0        0       174     0      0.0    1   \n",
       "\n",
       "     caa  thall  output  \n",
       "0      0      1       1  \n",
       "1      0      2       1  \n",
       "2      0      2       1  \n",
       "3      0      2       1  \n",
       "4      0      2       1  \n",
       "..   ...    ...     ...  \n",
       "298    0      3       0  \n",
       "299    0      3       0  \n",
       "300    2      3       0  \n",
       "301    1      3       0  \n",
       "302    1      2       0  \n",
       "\n",
       "[303 rows x 14 columns]"
      ]
     },
     "execution_count": 2,
     "metadata": {},
     "output_type": "execute_result"
    }
   ],
   "source": [
    "df = pd.read_csv('data/heart.csv')\n",
    "df"
   ]
  },
  {
   "cell_type": "code",
   "execution_count": 3,
   "id": "754187b0",
   "metadata": {},
   "outputs": [
    {
     "name": "stdout",
     "output_type": "stream",
     "text": [
      "<class 'pandas.core.frame.DataFrame'>\n",
      "RangeIndex: 303 entries, 0 to 302\n",
      "Data columns (total 14 columns):\n",
      " #   Column    Non-Null Count  Dtype  \n",
      "---  ------    --------------  -----  \n",
      " 0   age       303 non-null    int64  \n",
      " 1   sex       303 non-null    int64  \n",
      " 2   cp        303 non-null    int64  \n",
      " 3   trtbps    303 non-null    int64  \n",
      " 4   chol      303 non-null    int64  \n",
      " 5   fbs       303 non-null    int64  \n",
      " 6   restecg   303 non-null    int64  \n",
      " 7   thalachh  303 non-null    int64  \n",
      " 8   exng      303 non-null    int64  \n",
      " 9   oldpeak   303 non-null    float64\n",
      " 10  slp       303 non-null    int64  \n",
      " 11  caa       303 non-null    int64  \n",
      " 12  thall     303 non-null    int64  \n",
      " 13  output    303 non-null    int64  \n",
      "dtypes: float64(1), int64(13)\n",
      "memory usage: 33.3 KB\n"
     ]
    }
   ],
   "source": [
    "df.info() ## look up type of data"
   ]
  },
  {
   "cell_type": "code",
   "execution_count": 4,
   "id": "adab0a6f",
   "metadata": {},
   "outputs": [
    {
     "data": {
      "text/plain": [
       "age          41\n",
       "sex           2\n",
       "cp            4\n",
       "trtbps       49\n",
       "chol        152\n",
       "fbs           2\n",
       "restecg       3\n",
       "thalachh     91\n",
       "exng          2\n",
       "oldpeak      40\n",
       "slp           3\n",
       "caa           5\n",
       "thall         4\n",
       "output        2\n",
       "dtype: int64"
      ]
     },
     "execution_count": 4,
     "metadata": {},
     "output_type": "execute_result"
    }
   ],
   "source": [
    "df.nunique() ## Gross glace data categorical condition."
   ]
  },
  {
   "cell_type": "markdown",
   "id": "0b178d29",
   "metadata": {},
   "source": [
    "# About this data:\n",
    "About this dataset\n",
    "\n",
    "Age : Age of the patient\n",
    "\n",
    "Sex : Sex of the patient (male=1, female=0)\n",
    "\n",
    "exang: exercise induced angina (1 = yes; 0 = no)\n",
    "\n",
    "ca: number of major vessels (0-3)\n",
    "\n",
    "cp : Chest Pain type chest pain type\n",
    "Value 1: typical angina\n",
    "Value 2: atypical angina\n",
    "Value 3: non-anginal pain\n",
    "Value 4: asymptomatic\n",
    "\n",
    "trtbps : resting blood pressure (in mm Hg)\n",
    "\n",
    "chol : cholestoral in mg/dl fetched via BMI sensor\n",
    "\n",
    "fbs : (fasting blood sugar > 120 mg/dl) (1 = true; 0 = false)\n",
    "\n",
    "rest_ecg : resting electrocardiographic results\n",
    "Value 0: normal\n",
    "Value 1: having ST-T wave abnormality (T wave inversions and/or ST elevation or depression of > 0.05 mV)\n",
    "Value 2: showing probable or definite left ventricular hypertrophy by Estes' criteria\n",
    "\n",
    "thalach : maximum heart rate achieved\n",
    "\n",
    "target : 0= less chance of heart attack 1= more chance of heart attack"
   ]
  },
  {
   "cell_type": "code",
   "execution_count": 5,
   "id": "fa033677",
   "metadata": {},
   "outputs": [
    {
     "data": {
      "text/plain": [
       "age         0\n",
       "sex         0\n",
       "cp          0\n",
       "trtbps      0\n",
       "chol        0\n",
       "fbs         0\n",
       "restecg     0\n",
       "thalachh    0\n",
       "exng        0\n",
       "oldpeak     0\n",
       "slp         0\n",
       "caa         0\n",
       "thall       0\n",
       "output      0\n",
       "dtype: int64"
      ]
     },
     "execution_count": 5,
     "metadata": {},
     "output_type": "execute_result"
    }
   ],
   "source": [
    "df.isna().sum() # check up na value."
   ]
  },
  {
   "cell_type": "markdown",
   "id": "f50ad9e1",
   "metadata": {},
   "source": [
    "## About sex distribution"
   ]
  },
  {
   "cell_type": "code",
   "execution_count": 6,
   "id": "65fdea44",
   "metadata": {},
   "outputs": [
    {
     "data": {
      "text/plain": [
       "1    207\n",
       "0     96\n",
       "Name: sex, dtype: int64"
      ]
     },
     "execution_count": 6,
     "metadata": {},
     "output_type": "execute_result"
    }
   ],
   "source": [
    "pd.value_counts(df['sex']) # male=1, female=0"
   ]
  },
  {
   "cell_type": "code",
   "execution_count": 7,
   "id": "d5320028",
   "metadata": {},
   "outputs": [
    {
     "data": {
      "image/png": "[encoded data removed]",
      "text/plain": [
       "<Figure size 432x432 with 1 Axes>"
      ]
     },
     "metadata": {
      "needs_background": "light"
     },
     "output_type": "display_data"
    }
   ],
   "source": [
    "plt.figure(figsize=(6, 6))\n",
    "sns.countplot(x=\"sex\", data=df);"
   ]
  },
  {
   "cell_type": "markdown",
   "id": "1c15cfae",
   "metadata": {},
   "source": [
    "## About output distribution:"
   ]
  },
  {
   "cell_type": "code",
   "execution_count": 8,
   "id": "357aa784",
   "metadata": {},
   "outputs": [
    {
     "data": {
      "text/plain": [
       "1    165\n",
       "0    138\n",
       "Name: output, dtype: int64"
      ]
     },
     "execution_count": 8,
     "metadata": {},
     "output_type": "execute_result"
    }
   ],
   "source": [
    "pd.value_counts(df['output']) # male=1, female=0"
   ]
  },
  {
   "cell_type": "code",
   "execution_count": 9,
   "id": "2af87c40",
   "metadata": {},
   "outputs": [
    {
     "data": {
      "image/png": "[encoded data removed]",
      "text/plain": [
       "<Figure size 432x288 with 1 Axes>"
      ]
     },
     "metadata": {
      "needs_background": "light"
     },
     "output_type": "display_data"
    }
   ],
   "source": [
    "sns.countplot(x=\"output\", data=df);"
   ]
  },
  {
   "cell_type": "markdown",
   "id": "109cbd0d",
   "metadata": {},
   "source": [
    "## About age distribution:"
   ]
  },
  {
   "cell_type": "code",
   "execution_count": 10,
   "id": "d3a1b1e1",
   "metadata": {},
   "outputs": [
    {
     "data": {
      "image/png": "[encoded data removed]",
      "text/plain": [
       "<Figure size 1296x720 with 1 Axes>"
      ]
     },
     "metadata": {
      "needs_background": "light"
     },
     "output_type": "display_data"
    }
   ],
   "source": [
    "plt.figure(figsize=(18, 10))\n",
    "sns.countplot(x=df[\"age\"]);  # using countplot\n",
    "plt.title(\"Age to Count Plot\")\n",
    "plt.xlabel(\"AGE\")\n",
    "plt.ylabel(\"COUNT\")\n",
    "plt.show();"
   ]
  },
  {
   "cell_type": "markdown",
   "id": "19ba50c6",
   "metadata": {},
   "source": [
    "## Other way for brief glance of data\n",
    "       -pip install pandas_profiling "
   ]
  },
  {
   "cell_type": "code",
   "execution_count": 11,
   "id": "48b68fd6",
   "metadata": {},
   "outputs": [],
   "source": [
    "import pandas_profiling as profile"
   ]
  },
  {
   "cell_type": "code",
   "execution_count": 12,
   "id": "a5b8065d",
   "metadata": {},
   "outputs": [],
   "source": [
    "#profile.ProfileReport(df)"
   ]
  },
  {
   "cell_type": "markdown",
   "id": "f92b0a52",
   "metadata": {},
   "source": [
    "## Data variable correlation"
   ]
  },
  {
   "cell_type": "code",
   "execution_count": 13,
   "id": "c239fbca",
   "metadata": {},
   "outputs": [
    {
     "data": {
      "image/png": "[encoded data removed]",
      "text/plain": [
       "<Figure size 720x720 with 2 Axes>"
      ]
     },
     "metadata": {
      "needs_background": "light"
     },
     "output_type": "display_data"
    }
   ],
   "source": [
    "corr = df.corr()\n",
    "plt.figure(figsize=(10,10))\n",
    "mask = np.zeros_like(corr,dtype=np.bool) #\n",
    "mask[np.triu_indices_from(mask)] = True  #\n",
    "sns.heatmap(corr, mask = mask, annot=True)\n",
    "plt.show()"
   ]
  },
  {
   "cell_type": "markdown",
   "id": "501c424c",
   "metadata": {},
   "source": [
    "# Prepare data:"
   ]
  },
  {
   "cell_type": "code",
   "execution_count": 14,
   "id": "1110848f",
   "metadata": {},
   "outputs": [
    {
     "data": {
      "text/html": [
       "<div>\n",
       "<style scoped>\n",
       "    .dataframe tbody tr th:only-of-type {\n",
       "        vertical-align: middle;\n",
       "    }\n",
       "\n",
       "    .dataframe tbody tr th {\n",
       "        vertical-align: top;\n",
       "    }\n",
       "\n",
       "    .dataframe thead th {\n",
       "        text-align: right;\n",
       "    }\n",
       "</style>\n",
       "<table border=\"1\" class=\"dataframe\">\n",
       "  <thead>\n",
       "    <tr style=\"text-align: right;\">\n",
       "      <th></th>\n",
       "      <th>age</th>\n",
       "      <th>sex</th>\n",
       "      <th>cp</th>\n",
       "      <th>trtbps</th>\n",
       "      <th>chol</th>\n",
       "      <th>fbs</th>\n",
       "      <th>restecg</th>\n",
       "      <th>thalachh</th>\n",
       "      <th>exng</th>\n",
       "      <th>oldpeak</th>\n",
       "      <th>slp</th>\n",
       "      <th>caa</th>\n",
       "      <th>thall</th>\n",
       "    </tr>\n",
       "  </thead>\n",
       "  <tbody>\n",
       "    <tr>\n",
       "      <th>0</th>\n",
       "      <td>63</td>\n",
       "      <td>1</td>\n",
       "      <td>3</td>\n",
       "      <td>145</td>\n",
       "      <td>233</td>\n",
       "      <td>1</td>\n",
       "      <td>0</td>\n",
       "      <td>150</td>\n",
       "      <td>0</td>\n",
       "      <td>2.3</td>\n",
       "      <td>0</td>\n",
       "      <td>0</td>\n",
       "      <td>1</td>\n",
       "    </tr>\n",
       "    <tr>\n",
       "      <th>1</th>\n",
       "      <td>37</td>\n",
       "      <td>1</td>\n",
       "      <td>2</td>\n",
       "      <td>130</td>\n",
       "      <td>250</td>\n",
       "      <td>0</td>\n",
       "      <td>1</td>\n",
       "      <td>187</td>\n",
       "      <td>0</td>\n",
       "      <td>3.5</td>\n",
       "      <td>0</td>\n",
       "      <td>0</td>\n",
       "      <td>2</td>\n",
       "    </tr>\n",
       "    <tr>\n",
       "      <th>2</th>\n",
       "      <td>41</td>\n",
       "      <td>0</td>\n",
       "      <td>1</td>\n",
       "      <td>130</td>\n",
       "      <td>204</td>\n",
       "      <td>0</td>\n",
       "      <td>0</td>\n",
       "      <td>172</td>\n",
       "      <td>0</td>\n",
       "      <td>1.4</td>\n",
       "      <td>2</td>\n",
       "      <td>0</td>\n",
       "      <td>2</td>\n",
       "    </tr>\n",
       "    <tr>\n",
       "      <th>3</th>\n",
       "      <td>56</td>\n",
       "      <td>1</td>\n",
       "      <td>1</td>\n",
       "      <td>120</td>\n",
       "      <td>236</td>\n",
       "      <td>0</td>\n",
       "      <td>1</td>\n",
       "      <td>178</td>\n",
       "      <td>0</td>\n",
       "      <td>0.8</td>\n",
       "      <td>2</td>\n",
       "      <td>0</td>\n",
       "      <td>2</td>\n",
       "    </tr>\n",
       "    <tr>\n",
       "      <th>4</th>\n",
       "      <td>57</td>\n",
       "      <td>0</td>\n",
       "      <td>0</td>\n",
       "      <td>120</td>\n",
       "      <td>354</td>\n",
       "      <td>0</td>\n",
       "      <td>1</td>\n",
       "      <td>163</td>\n",
       "      <td>1</td>\n",
       "      <td>0.6</td>\n",
       "      <td>2</td>\n",
       "      <td>0</td>\n",
       "      <td>2</td>\n",
       "    </tr>\n",
       "  </tbody>\n",
       "</table>\n",
       "</div>"
      ],
      "text/plain": [
       "   age  sex  cp  trtbps  chol  fbs  restecg  thalachh  exng  oldpeak  slp  \\\n",
       "0   63    1   3     145   233    1        0       150     0      2.3    0   \n",
       "1   37    1   2     130   250    0        1       187     0      3.5    0   \n",
       "2   41    0   1     130   204    0        0       172     0      1.4    2   \n",
       "3   56    1   1     120   236    0        1       178     0      0.8    2   \n",
       "4   57    0   0     120   354    0        1       163     1      0.6    2   \n",
       "\n",
       "   caa  thall  \n",
       "0    0      1  \n",
       "1    0      2  \n",
       "2    0      2  \n",
       "3    0      2  \n",
       "4    0      2  "
      ]
     },
     "execution_count": 14,
     "metadata": {},
     "output_type": "execute_result"
    }
   ],
   "source": [
    "X_data = df.drop(['output'], axis = 1)\n",
    "X_data.head()"
   ]
  },
  {
   "cell_type": "code",
   "execution_count": 15,
   "id": "69c851dd",
   "metadata": {},
   "outputs": [
    {
     "data": {
      "text/plain": [
       "0      1\n",
       "1      1\n",
       "2      1\n",
       "3      1\n",
       "4      1\n",
       "      ..\n",
       "298    0\n",
       "299    0\n",
       "300    0\n",
       "301    0\n",
       "302    0\n",
       "Name: output, Length: 303, dtype: int64"
      ]
     },
     "execution_count": 15,
     "metadata": {},
     "output_type": "execute_result"
    }
   ],
   "source": [
    "Y_data = df['output']\n",
    "Y_data"
   ]
  },
  {
   "cell_type": "code",
   "execution_count": 36,
   "id": "baffdcaf",
   "metadata": {
    "scrolled": true
   },
   "outputs": [
    {
     "name": "stdout",
     "output_type": "stream",
     "text": [
      "X shape:  (303, 13)\n",
      "Y shape:  (303,)\n"
     ]
    }
   ],
   "source": [
    "print('X shape: ',X_data.shape)\n",
    "print('Y shape: ',Y_data.shape)"
   ]
  },
  {
   "cell_type": "markdown",
   "id": "d23c2af1",
   "metadata": {},
   "source": [
    "# Scaling the numerical features\n",
    "\n",
    "exang: exercise induced angina (1 = yes; 0 = no)\n",
    "\n",
    "ca: number of major vessels (0-3)\n",
    "\n",
    "cp : Chest Pain type chest pain type\n",
    "Value 1: typical angina\n",
    "Value 2: atypical angina\n",
    "Value 3: non-anginal pain\n",
    "Value 4: asymptomatic\n",
    "\n",
    "trtbps : resting blood pressure (in mm Hg)\n",
    "\n",
    "fbs : (fasting blood sugar > 120 mg/dl) (1 = true; 0 = false)?\n",
    "\n",
    "rest_ecg : resting electrocardiographic results\n",
    "Value 0: normal\n",
    "Value 1: having ST-T wave abnormality (T wave inversions and/or ST elevation or depression of > 0.05 mV)\n",
    "Value 2: showing probable or definite left ventricular hypertrophy by Estes' criteria\n",
    "\n",
    "thalach : maximum heart rate achieved\n",
    "\n",
    "target : 0= less chance of heart attack 1= more chance of heart attack"
   ]
  },
  {
   "cell_type": "code",
   "execution_count": 48,
   "id": "45a8c19b",
   "metadata": {},
   "outputs": [
    {
     "data": {
      "text/html": [
       "<div>\n",
       "<style scoped>\n",
       "    .dataframe tbody tr th:only-of-type {\n",
       "        vertical-align: middle;\n",
       "    }\n",
       "\n",
       "    .dataframe tbody tr th {\n",
       "        vertical-align: top;\n",
       "    }\n",
       "\n",
       "    .dataframe thead th {\n",
       "        text-align: right;\n",
       "    }\n",
       "</style>\n",
       "<table border=\"1\" class=\"dataframe\">\n",
       "  <thead>\n",
       "    <tr style=\"text-align: right;\">\n",
       "      <th></th>\n",
       "      <th>age</th>\n",
       "      <th>trtbps</th>\n",
       "      <th>chol</th>\n",
       "      <th>thalachh</th>\n",
       "      <th>oldpeak</th>\n",
       "      <th>sex</th>\n",
       "      <th>cp</th>\n",
       "      <th>fbs</th>\n",
       "      <th>restecg</th>\n",
       "      <th>exng</th>\n",
       "      <th>slp</th>\n",
       "      <th>caa</th>\n",
       "      <th>thall</th>\n",
       "    </tr>\n",
       "  </thead>\n",
       "  <tbody>\n",
       "    <tr>\n",
       "      <th>0</th>\n",
       "      <td>0.708333</td>\n",
       "      <td>0.481132</td>\n",
       "      <td>0.244292</td>\n",
       "      <td>0.603053</td>\n",
       "      <td>0.370968</td>\n",
       "      <td>1</td>\n",
       "      <td>3</td>\n",
       "      <td>1</td>\n",
       "      <td>0</td>\n",
       "      <td>0</td>\n",
       "      <td>0</td>\n",
       "      <td>0</td>\n",
       "      <td>1</td>\n",
       "    </tr>\n",
       "    <tr>\n",
       "      <th>1</th>\n",
       "      <td>0.166667</td>\n",
       "      <td>0.339623</td>\n",
       "      <td>0.283105</td>\n",
       "      <td>0.885496</td>\n",
       "      <td>0.564516</td>\n",
       "      <td>1</td>\n",
       "      <td>2</td>\n",
       "      <td>0</td>\n",
       "      <td>1</td>\n",
       "      <td>0</td>\n",
       "      <td>0</td>\n",
       "      <td>0</td>\n",
       "      <td>2</td>\n",
       "    </tr>\n",
       "    <tr>\n",
       "      <th>2</th>\n",
       "      <td>0.250000</td>\n",
       "      <td>0.339623</td>\n",
       "      <td>0.178082</td>\n",
       "      <td>0.770992</td>\n",
       "      <td>0.225806</td>\n",
       "      <td>0</td>\n",
       "      <td>1</td>\n",
       "      <td>0</td>\n",
       "      <td>0</td>\n",
       "      <td>0</td>\n",
       "      <td>2</td>\n",
       "      <td>0</td>\n",
       "      <td>2</td>\n",
       "    </tr>\n",
       "    <tr>\n",
       "      <th>3</th>\n",
       "      <td>0.562500</td>\n",
       "      <td>0.245283</td>\n",
       "      <td>0.251142</td>\n",
       "      <td>0.816794</td>\n",
       "      <td>0.129032</td>\n",
       "      <td>1</td>\n",
       "      <td>1</td>\n",
       "      <td>0</td>\n",
       "      <td>1</td>\n",
       "      <td>0</td>\n",
       "      <td>2</td>\n",
       "      <td>0</td>\n",
       "      <td>2</td>\n",
       "    </tr>\n",
       "    <tr>\n",
       "      <th>4</th>\n",
       "      <td>0.583333</td>\n",
       "      <td>0.245283</td>\n",
       "      <td>0.520548</td>\n",
       "      <td>0.702290</td>\n",
       "      <td>0.096774</td>\n",
       "      <td>0</td>\n",
       "      <td>0</td>\n",
       "      <td>0</td>\n",
       "      <td>1</td>\n",
       "      <td>1</td>\n",
       "      <td>2</td>\n",
       "      <td>0</td>\n",
       "      <td>2</td>\n",
       "    </tr>\n",
       "  </tbody>\n",
       "</table>\n",
       "</div>"
      ],
      "text/plain": [
       "        age    trtbps      chol  thalachh   oldpeak  sex  cp  fbs  restecg  \\\n",
       "0  0.708333  0.481132  0.244292  0.603053  0.370968    1   3    1        0   \n",
       "1  0.166667  0.339623  0.283105  0.885496  0.564516    1   2    0        1   \n",
       "2  0.250000  0.339623  0.178082  0.770992  0.225806    0   1    0        0   \n",
       "3  0.562500  0.245283  0.251142  0.816794  0.129032    1   1    0        1   \n",
       "4  0.583333  0.245283  0.520548  0.702290  0.096774    0   0    0        1   \n",
       "\n",
       "   exng  slp  caa  thall  \n",
       "0     0    0    0      1  \n",
       "1     0    0    0      2  \n",
       "2     0    2    0      2  \n",
       "3     0    2    0      2  \n",
       "4     1    2    0      2  "
      ]
     },
     "execution_count": 48,
     "metadata": {},
     "output_type": "execute_result"
    }
   ],
   "source": [
    "from sklearn.preprocessing import MinMaxScaler\n",
    "\n",
    "num_features = ['age','trtbps','chol','thalachh','oldpeak']\n",
    "cat_features = ['sex','cp','fbs','restecg','exng','slp','caa','thall']\n",
    "\n",
    "scaler.fit(X_data[num_features])\n",
    "X_scaled = pd.DataFrame(scaler.transform(X_data[num_features]),columns=num_features)\n",
    "X_scaled = pd.concat([X_scaled, X_data[cat_features]], axis=1)\n",
    "X_scaled.head()"
   ]
  },
  {
   "cell_type": "code",
   "execution_count": null,
   "id": "c7367ac3",
   "metadata": {},
   "outputs": [],
   "source": []
  },
  {
   "cell_type": "markdown",
   "id": "f745e3a2",
   "metadata": {},
   "source": [
    "# Prepare traning data set and test data set"
   ]
  },
  {
   "cell_type": "code",
   "execution_count": 56,
   "id": "b202e81c",
   "metadata": {},
   "outputs": [
    {
     "name": "stdout",
     "output_type": "stream",
     "text": [
      "(227, 13) (227,)\n",
      "(76, 13) (76,)\n"
     ]
    },
    {
     "data": {
      "text/html": [
       "<div>\n",
       "<style scoped>\n",
       "    .dataframe tbody tr th:only-of-type {\n",
       "        vertical-align: middle;\n",
       "    }\n",
       "\n",
       "    .dataframe tbody tr th {\n",
       "        vertical-align: top;\n",
       "    }\n",
       "\n",
       "    .dataframe thead th {\n",
       "        text-align: right;\n",
       "    }\n",
       "</style>\n",
       "<table border=\"1\" class=\"dataframe\">\n",
       "  <thead>\n",
       "    <tr style=\"text-align: right;\">\n",
       "      <th></th>\n",
       "      <th>age</th>\n",
       "      <th>trtbps</th>\n",
       "      <th>chol</th>\n",
       "      <th>thalachh</th>\n",
       "      <th>oldpeak</th>\n",
       "      <th>sex</th>\n",
       "      <th>cp</th>\n",
       "      <th>fbs</th>\n",
       "      <th>restecg</th>\n",
       "      <th>exng</th>\n",
       "      <th>slp</th>\n",
       "      <th>caa</th>\n",
       "      <th>thall</th>\n",
       "    </tr>\n",
       "  </thead>\n",
       "  <tbody>\n",
       "    <tr>\n",
       "      <th>287</th>\n",
       "      <td>0.583333</td>\n",
       "      <td>0.566038</td>\n",
       "      <td>0.242009</td>\n",
       "      <td>0.709924</td>\n",
       "      <td>0.000000</td>\n",
       "      <td>1</td>\n",
       "      <td>1</td>\n",
       "      <td>0</td>\n",
       "      <td>0</td>\n",
       "      <td>0</td>\n",
       "      <td>2</td>\n",
       "      <td>1</td>\n",
       "      <td>2</td>\n",
       "    </tr>\n",
       "    <tr>\n",
       "      <th>282</th>\n",
       "      <td>0.625000</td>\n",
       "      <td>0.301887</td>\n",
       "      <td>0.210046</td>\n",
       "      <td>0.480916</td>\n",
       "      <td>0.354839</td>\n",
       "      <td>1</td>\n",
       "      <td>2</td>\n",
       "      <td>1</td>\n",
       "      <td>1</td>\n",
       "      <td>0</td>\n",
       "      <td>1</td>\n",
       "      <td>1</td>\n",
       "      <td>1</td>\n",
       "    </tr>\n",
       "    <tr>\n",
       "      <th>197</th>\n",
       "      <td>0.791667</td>\n",
       "      <td>0.292453</td>\n",
       "      <td>0.292237</td>\n",
       "      <td>0.702290</td>\n",
       "      <td>0.032258</td>\n",
       "      <td>1</td>\n",
       "      <td>0</td>\n",
       "      <td>1</td>\n",
       "      <td>1</td>\n",
       "      <td>0</td>\n",
       "      <td>1</td>\n",
       "      <td>2</td>\n",
       "      <td>3</td>\n",
       "    </tr>\n",
       "    <tr>\n",
       "      <th>158</th>\n",
       "      <td>0.604167</td>\n",
       "      <td>0.292453</td>\n",
       "      <td>0.214612</td>\n",
       "      <td>0.557252</td>\n",
       "      <td>0.064516</td>\n",
       "      <td>1</td>\n",
       "      <td>1</td>\n",
       "      <td>0</td>\n",
       "      <td>1</td>\n",
       "      <td>0</td>\n",
       "      <td>1</td>\n",
       "      <td>4</td>\n",
       "      <td>3</td>\n",
       "    </tr>\n",
       "    <tr>\n",
       "      <th>164</th>\n",
       "      <td>0.187500</td>\n",
       "      <td>0.415094</td>\n",
       "      <td>0.111872</td>\n",
       "      <td>0.778626</td>\n",
       "      <td>0.000000</td>\n",
       "      <td>1</td>\n",
       "      <td>2</td>\n",
       "      <td>0</td>\n",
       "      <td>1</td>\n",
       "      <td>0</td>\n",
       "      <td>2</td>\n",
       "      <td>4</td>\n",
       "      <td>2</td>\n",
       "    </tr>\n",
       "    <tr>\n",
       "      <th>...</th>\n",
       "      <td>...</td>\n",
       "      <td>...</td>\n",
       "      <td>...</td>\n",
       "      <td>...</td>\n",
       "      <td>...</td>\n",
       "      <td>...</td>\n",
       "      <td>...</td>\n",
       "      <td>...</td>\n",
       "      <td>...</td>\n",
       "      <td>...</td>\n",
       "      <td>...</td>\n",
       "      <td>...</td>\n",
       "      <td>...</td>\n",
       "    </tr>\n",
       "    <tr>\n",
       "      <th>188</th>\n",
       "      <td>0.437500</td>\n",
       "      <td>0.433962</td>\n",
       "      <td>0.244292</td>\n",
       "      <td>0.702290</td>\n",
       "      <td>0.096774</td>\n",
       "      <td>1</td>\n",
       "      <td>2</td>\n",
       "      <td>0</td>\n",
       "      <td>1</td>\n",
       "      <td>0</td>\n",
       "      <td>1</td>\n",
       "      <td>1</td>\n",
       "      <td>3</td>\n",
       "    </tr>\n",
       "    <tr>\n",
       "      <th>71</th>\n",
       "      <td>0.458333</td>\n",
       "      <td>0.000000</td>\n",
       "      <td>0.230594</td>\n",
       "      <td>0.633588</td>\n",
       "      <td>0.000000</td>\n",
       "      <td>1</td>\n",
       "      <td>2</td>\n",
       "      <td>0</td>\n",
       "      <td>1</td>\n",
       "      <td>1</td>\n",
       "      <td>2</td>\n",
       "      <td>1</td>\n",
       "      <td>3</td>\n",
       "    </tr>\n",
       "    <tr>\n",
       "      <th>106</th>\n",
       "      <td>0.833333</td>\n",
       "      <td>0.622642</td>\n",
       "      <td>0.246575</td>\n",
       "      <td>0.458015</td>\n",
       "      <td>0.016129</td>\n",
       "      <td>1</td>\n",
       "      <td>3</td>\n",
       "      <td>1</td>\n",
       "      <td>0</td>\n",
       "      <td>0</td>\n",
       "      <td>1</td>\n",
       "      <td>1</td>\n",
       "      <td>2</td>\n",
       "    </tr>\n",
       "    <tr>\n",
       "      <th>270</th>\n",
       "      <td>0.354167</td>\n",
       "      <td>0.245283</td>\n",
       "      <td>0.280822</td>\n",
       "      <td>0.557252</td>\n",
       "      <td>0.129032</td>\n",
       "      <td>1</td>\n",
       "      <td>0</td>\n",
       "      <td>0</td>\n",
       "      <td>0</td>\n",
       "      <td>0</td>\n",
       "      <td>2</td>\n",
       "      <td>0</td>\n",
       "      <td>3</td>\n",
       "    </tr>\n",
       "    <tr>\n",
       "      <th>102</th>\n",
       "      <td>0.708333</td>\n",
       "      <td>0.433962</td>\n",
       "      <td>0.157534</td>\n",
       "      <td>0.824427</td>\n",
       "      <td>0.000000</td>\n",
       "      <td>0</td>\n",
       "      <td>1</td>\n",
       "      <td>0</td>\n",
       "      <td>1</td>\n",
       "      <td>0</td>\n",
       "      <td>2</td>\n",
       "      <td>2</td>\n",
       "      <td>2</td>\n",
       "    </tr>\n",
       "  </tbody>\n",
       "</table>\n",
       "<p>227 rows × 13 columns</p>\n",
       "</div>"
      ],
      "text/plain": [
       "          age    trtbps      chol  thalachh   oldpeak  sex  cp  fbs  restecg  \\\n",
       "287  0.583333  0.566038  0.242009  0.709924  0.000000    1   1    0        0   \n",
       "282  0.625000  0.301887  0.210046  0.480916  0.354839    1   2    1        1   \n",
       "197  0.791667  0.292453  0.292237  0.702290  0.032258    1   0    1        1   \n",
       "158  0.604167  0.292453  0.214612  0.557252  0.064516    1   1    0        1   \n",
       "164  0.187500  0.415094  0.111872  0.778626  0.000000    1   2    0        1   \n",
       "..        ...       ...       ...       ...       ...  ...  ..  ...      ...   \n",
       "188  0.437500  0.433962  0.244292  0.702290  0.096774    1   2    0        1   \n",
       "71   0.458333  0.000000  0.230594  0.633588  0.000000    1   2    0        1   \n",
       "106  0.833333  0.622642  0.246575  0.458015  0.016129    1   3    1        0   \n",
       "270  0.354167  0.245283  0.280822  0.557252  0.129032    1   0    0        0   \n",
       "102  0.708333  0.433962  0.157534  0.824427  0.000000    0   1    0        1   \n",
       "\n",
       "     exng  slp  caa  thall  \n",
       "287     0    2    1      2  \n",
       "282     0    1    1      1  \n",
       "197     0    1    2      3  \n",
       "158     0    1    4      3  \n",
       "164     0    2    4      2  \n",
       "..    ...  ...  ...    ...  \n",
       "188     0    1    1      3  \n",
       "71      1    2    1      3  \n",
       "106     0    1    1      2  \n",
       "270     0    2    0      3  \n",
       "102     0    2    2      2  \n",
       "\n",
       "[227 rows x 13 columns]"
      ]
     },
     "execution_count": 56,
     "metadata": {},
     "output_type": "execute_result"
    }
   ],
   "source": [
    "from sklearn.model_selection import train_test_split\n",
    "x_train,x_test,y_train,y_test = train_test_split(X_scaled,Y_data,train_size=0.75,random_state=42)\n",
    "\n",
    "print(x_train.shape,y_train.shape)\n",
    "print(x_test.shape,y_test.shape)\n",
    "x_train"
   ]
  },
  {
   "cell_type": "markdown",
   "id": "e682039b",
   "metadata": {},
   "source": []
  },
  {
   "cell_type": "markdown",
   "id": "f267cb28",
   "metadata": {},
   "source": [
    "# Model prediction\n",
    "## KNN"
   ]
  },
  {
   "cell_type": "code",
   "execution_count": 66,
   "id": "ed71ccc8",
   "metadata": {},
   "outputs": [
    {
     "name": "stdout",
     "output_type": "stream",
     "text": [
      "knn(n = 1): train accuracy =  1.00, testing accuracy= 0.82\n",
      "knn(n = 2): train accuracy =  0.89, testing accuracy= 0.74\n",
      "knn(n = 3): train accuracy =  0.90, testing accuracy= 0.87\n",
      "knn(n = 4): train accuracy =  0.90, testing accuracy= 0.78\n",
      "knn(n = 5): train accuracy =  0.90, testing accuracy= 0.83\n",
      "knn(n = 6): train accuracy =  0.89, testing accuracy= 0.80\n",
      "knn(n = 7): train accuracy =  0.88, testing accuracy= 0.87\n",
      "knn(n = 8): train accuracy =  0.89, testing accuracy= 0.84\n",
      "knn(n = 9): train accuracy =  0.87, testing accuracy= 0.87\n",
      "knn(n = 10): train accuracy =  0.88, testing accuracy= 0.84\n",
      "knn(n = 11): train accuracy =  0.87, testing accuracy= 0.87\n",
      "knn(n = 12): train accuracy =  0.87, testing accuracy= 0.86\n"
     ]
    }
   ],
   "source": [
    "from sklearn.neighbors import KNeighborsClassifier\n",
    "\n",
    "n_neighbors = range(1,x_train.shape[1])\n",
    "training_accuracy = [] \n",
    "testing_accuracy = []\n",
    "\n",
    "for n in n_neighbors:\n",
    "    knn = KNeighborsClassifier(n_neighbors =n)\n",
    "    knn.fit(x_train, y_train)\n",
    "    training_accuracy.append(knn.score(x_train, y_train))\n",
    "    testing_accuracy.append(knn.score(x_test, y_test))\n",
    "    print(f'knn(n = {n}): train accuracy = ', '{:.2f}, testing accuracy= {:.2f}'.format(training_accuracy[n-1], testing_accuracy[n-1]))\n",
    "\n"
   ]
  },
  {
   "cell_type": "code",
   "execution_count": 67,
   "id": "f5640ca5",
   "metadata": {},
   "outputs": [
    {
     "data": {
      "text/plain": [
       "<matplotlib.legend.Legend at 0x7fee45105130>"
      ]
     },
     "execution_count": 67,
     "metadata": {},
     "output_type": "execute_result"
    },
    {
     "data": {
      "image/png": "[encoded data removed]",
      "text/plain": [
       "<Figure size 432x288 with 1 Axes>"
      ]
     },
     "metadata": {
      "needs_background": "light"
     },
     "output_type": "display_data"
    }
   ],
   "source": [
    "plt.plot(n_neighbors, training_accuracy, label='Training Accuracy')\n",
    "plt.plot(n_neighbors, testing_accuracy, label = 'Testing Accuracy')\n",
    "plt.xlabel('n_neighbors')\n",
    "plt.ylabel('Accuracy')\n",
    "plt.legend()"
   ]
  },
  {
   "cell_type": "code",
   "execution_count": 81,
   "id": "92e2f797",
   "metadata": {},
   "outputs": [
    {
     "name": "stdout",
     "output_type": "stream",
     "text": [
      "max testing accuracy, when k=3, accuracy =0.868421052631579\n"
     ]
    }
   ],
   "source": [
    "best_predict_k =testing_accuracy.index(max(testing_accuracy))+1\n",
    "print(f'max testing accuracy, when k={best_predict_k}, accuracy ={max(testing_accuracy)}')\n"
   ]
  },
  {
   "cell_type": "code",
   "execution_count": 100,
   "id": "6cd23adb",
   "metadata": {},
   "outputs": [
    {
     "name": "stdout",
     "output_type": "stream",
     "text": [
      "{'knn_model (k= 3)': KNeighborsClassifier(n_neighbors=3)}\n"
     ]
    }
   ],
   "source": [
    "Each_model_dict = {} ##prepare for further used.\n",
    "knn_best_testing_predict_model = KNeighborsClassifier(n_neighbors=best_predict_k)\n",
    "Each_model_dict['knn_model (k= {})'.format(best_predict_k)] = knn_best_testing_predict_model\n",
    "knn_best_testing_predict_model.fit(X_scaled, Y_data)\n",
    "knn_best_testing_model_predict =  knn_best_testing_predict_model.predict(X_scaled)"
   ]
  },
  {
   "cell_type": "code",
   "execution_count": null,
   "id": "7edcfecd",
   "metadata": {},
   "outputs": [],
   "source": []
  },
  {
   "cell_type": "code",
   "execution_count": null,
   "id": "c9b4630e",
   "metadata": {},
   "outputs": [],
   "source": []
  },
  {
   "cell_type": "code",
   "execution_count": null,
   "id": "85df8454",
   "metadata": {},
   "outputs": [],
   "source": []
  },
  {
   "cell_type": "code",
   "execution_count": null,
   "id": "ef5910cc",
   "metadata": {},
   "outputs": [],
   "source": []
  },
  {
   "cell_type": "code",
   "execution_count": null,
   "id": "0233c8d3",
   "metadata": {},
   "outputs": [],
   "source": []
  },
  {
   "cell_type": "markdown",
   "id": "9fb02505",
   "metadata": {},
   "source": [
    "# Logistic Regression"
   ]
  },
  {
   "cell_type": "code",
   "execution_count": 111,
   "id": "ca3b8557",
   "metadata": {},
   "outputs": [
    {
     "name": "stdout",
     "output_type": "stream",
     "text": [
      "Traing Score: 0.8590308370044053\n",
      "Testing Score: 0.8421052631578947\n"
     ]
    }
   ],
   "source": [
    "from sklearn.linear_model import LogisticRegression\n",
    "logreg = LogisticRegression(C=10) ##\n",
    "logreg.fit(x_train, y_train)\n",
    "print('Traing Score:', logreg.score(x_train, y_train))\n",
    "print('Testing Score:', logreg.score(x_test, y_test))\n",
    "\n",
    "Each_model_dict['Logistic Regression'] = logreg"
   ]
  },
  {
   "cell_type": "code",
   "execution_count": null,
   "id": "9d04ac4f",
   "metadata": {},
   "outputs": [],
   "source": []
  },
  {
   "cell_type": "markdown",
   "id": "85d80560",
   "metadata": {},
   "source": [
    "# Linear SVC"
   ]
  },
  {
   "cell_type": "code",
   "execution_count": 126,
   "id": "1f310c1c",
   "metadata": {},
   "outputs": [
    {
     "name": "stdout",
     "output_type": "stream",
     "text": [
      "Trainig Score: 0.8458149779735683\n",
      "Testing Score: 0.8421052631578947\n"
     ]
    }
   ],
   "source": [
    "from sklearn.svm import LinearSVC\n",
    "linearsvm = LinearSVC().fit(x_train,y_train)\n",
    "#print(\"Coefficient :\",linearsvm.coef_)\n",
    "#print(\"Intercept :\",linearsvm.intercept_)\n",
    "print(\"Trainig Score:\",linearsvm.score(x_train, y_train))\n",
    "print(\"Testing Score:\",linearsvm.score(x_test, y_test))"
   ]
  },
  {
   "cell_type": "code",
   "execution_count": 149,
   "id": "23fdc6fc",
   "metadata": {},
   "outputs": [],
   "source": [
    "Each_model_dict['Linear SVC'] = linearsvm"
   ]
  },
  {
   "cell_type": "markdown",
   "id": "eaa86fd6",
   "metadata": {},
   "source": [
    "# Decision Tree Classifier"
   ]
  },
  {
   "cell_type": "code",
   "execution_count": 150,
   "id": "f6a643ef",
   "metadata": {},
   "outputs": [
    {
     "name": "stdout",
     "output_type": "stream",
     "text": [
      "Training Accuracy 0.903\n",
      "Testing Accuracy 0.816\n"
     ]
    }
   ],
   "source": [
    "from sklearn.tree import DecisionTreeClassifier\n",
    "tree = DecisionTreeClassifier(max_depth=4)\n",
    "tree.fit(x_train,y_train)\n",
    "print(\"Training Accuracy {:.3f}\".format(tree.score(x_train,y_train)))\n",
    "print(\"Testing Accuracy {:.3f}\".format(tree.score(x_test,y_test)))"
   ]
  },
  {
   "cell_type": "code",
   "execution_count": 151,
   "id": "aacde77f",
   "metadata": {},
   "outputs": [],
   "source": [
    "Each_model_dict['Decision Tree Classifier'] = tree"
   ]
  },
  {
   "cell_type": "markdown",
   "id": "a8416d01",
   "metadata": {},
   "source": [
    "# MLP Classifier"
   ]
  },
  {
   "cell_type": "code",
   "execution_count": 152,
   "id": "901ddfd9",
   "metadata": {},
   "outputs": [
    {
     "name": "stdout",
     "output_type": "stream",
     "text": [
      "Training Accuracy 0.872\n",
      "Testing Accuracy 0.868\n"
     ]
    }
   ],
   "source": [
    "from sklearn.neural_network import MLPClassifier\n",
    "clf = MLPClassifier().fit(x_train,y_train)\n",
    "print(\"Training Accuracy {:.3f}\".format(clf.score(x_train,y_train)))\n",
    "print(\"Testing Accuracy {:.3f}\".format(clf.score(x_test,y_test)))"
   ]
  },
  {
   "cell_type": "code",
   "execution_count": 166,
   "id": "451cbf62",
   "metadata": {},
   "outputs": [],
   "source": [
    "Each_model_dict['MLP Classifier'] = clf"
   ]
  },
  {
   "cell_type": "markdown",
   "id": "022d1623",
   "metadata": {},
   "source": [
    "# Random Forest Classifier"
   ]
  },
  {
   "cell_type": "code",
   "execution_count": 154,
   "id": "2835f67f",
   "metadata": {},
   "outputs": [
    {
     "name": "stdout",
     "output_type": "stream",
     "text": [
      "Training Accuracy 0.921\n",
      "Testing Accuracy 0.842\n"
     ]
    }
   ],
   "source": [
    "from sklearn.ensemble import RandomForestClassifier\n",
    "rf = RandomForestClassifier(n_estimators=500,max_depth=4).fit(x_train,y_train)\n",
    "print(\"Training Accuracy {:.3f}\".format(rf.score(x_train,y_train)))\n",
    "print(\"Testing Accuracy {:.3f}\".format(rf.score(x_test,y_test)))"
   ]
  },
  {
   "cell_type": "code",
   "execution_count": 155,
   "id": "0ea69a14",
   "metadata": {},
   "outputs": [],
   "source": [
    "Each_model_dict['Random Forest Classifier'] = rf"
   ]
  },
  {
   "cell_type": "markdown",
   "id": "cfe5ba3b",
   "metadata": {},
   "source": [
    "# Grandient Boosting Classifier"
   ]
  },
  {
   "cell_type": "code",
   "execution_count": 164,
   "id": "6b84d5ce",
   "metadata": {},
   "outputs": [
    {
     "name": "stdout",
     "output_type": "stream",
     "text": [
      "Training Accuracy 0.620\n",
      "Testing Accuracy 0.763\n"
     ]
    }
   ],
   "source": [
    "from sklearn.ensemble import GradientBoostingClassifier\n",
    "gbrt = GradientBoostingClassifier()\n",
    "gbrt.fit(x_train,y_train)\n",
    "print(\"Training Accuracy {:.3f}\".format(gbrt.score(x_train, y_train)))\n",
    "print(\"Testing Accuracy {:.3f}\".format(gbrt.score(x_test, y_test)))"
   ]
  },
  {
   "cell_type": "code",
   "execution_count": 157,
   "id": "ee3aec67",
   "metadata": {},
   "outputs": [],
   "source": [
    "Each_model_dict['Grandient Boosting Classifier'] = gbrt"
   ]
  },
  {
   "cell_type": "markdown",
   "id": "343d14c0",
   "metadata": {},
   "source": [
    "# AdaBoost Classifier"
   ]
  },
  {
   "cell_type": "code",
   "execution_count": 158,
   "id": "a1489470",
   "metadata": {},
   "outputs": [
    {
     "name": "stdout",
     "output_type": "stream",
     "text": [
      "Training Accuracy 0.943\n",
      "Testing Accuracy 0.803\n"
     ]
    }
   ],
   "source": [
    "from sklearn.ensemble import AdaBoostClassifier\n",
    "ada = AdaBoostClassifier(n_estimators=1000,learning_rate=0.05)\n",
    "ada.fit(x_train,y_train)\n",
    "print(\"Training Accuracy {:.3f}\".format(ada.score(x_train,y_train)))\n",
    "print(\"Testing Accuracy {:.3f}\".format(ada.score(x_test,y_test)))"
   ]
  },
  {
   "cell_type": "code",
   "execution_count": 159,
   "id": "5db481e2",
   "metadata": {},
   "outputs": [],
   "source": [
    "Each_model_dict['AdaBoost Classifier'] = ada"
   ]
  },
  {
   "cell_type": "markdown",
   "id": "93a46e57",
   "metadata": {},
   "source": [
    "# LightGBM"
   ]
  },
  {
   "cell_type": "code",
   "execution_count": 165,
   "id": "f4bd377b",
   "metadata": {},
   "outputs": [
    {
     "name": "stdout",
     "output_type": "stream",
     "text": [
      "Training Accuracy 0.875\n",
      "Testing Accuracy 0.842\n"
     ]
    }
   ],
   "source": [
    "import lightgbm\n",
    "from lightgbm import LGBMClassifier\n",
    "lgbm = LGBMClassifier(max_depth=1,learning_rate=0.1,reg_alpha=0.05,reg_lambda=0.01)\n",
    "lgbm.fit(x_train, y_train)\n",
    "print(\"Training Accuracy {:.3f}\".format(lgbm.score(x_train,y_train)))\n",
    "print(\"Testing Accuracy {:.3f}\".format(lgbm.score(x_test,y_test)))"
   ]
  },
  {
   "cell_type": "code",
   "execution_count": 171,
   "id": "984fe9ce",
   "metadata": {},
   "outputs": [],
   "source": [
    "Each_model_dict['LightGBM'] = lgbm"
   ]
  },
  {
   "cell_type": "code",
   "execution_count": null,
   "id": "f0013bda",
   "metadata": {},
   "outputs": [],
   "source": []
  },
  {
   "cell_type": "markdown",
   "id": "b9ca8d46",
   "metadata": {},
   "source": [
    "# Ensemble Bagging"
   ]
  },
  {
   "cell_type": "code",
   "execution_count": 175,
   "id": "0fed0ebc",
   "metadata": {},
   "outputs": [],
   "source": [
    "from sklearn.ensemble import BaggingClassifier\n",
    "from sklearn.naive_bayes import GaussianNB\n",
    "Ensemble_base_dict = {'DecisionTreeClassifier':DecisionTreeClassifier(), 'LinearSVC':LinearSVC(), 'GaussianNB':GaussianNB()}\n"
   ]
  },
  {
   "cell_type": "code",
   "execution_count": 180,
   "id": "8103c00e",
   "metadata": {},
   "outputs": [
    {
     "name": "stdout",
     "output_type": "stream",
     "text": [
      "Bagging Model : DecisionTreeClassifier\n",
      "Training Accuracy 0.947\n",
      "Testing Accuracy 0.724\n",
      "\n",
      "Bagging Model : LinearSVC\n",
      "Training Accuracy 0.806\n",
      "Testing Accuracy 0.855\n",
      "\n",
      "Bagging Model : GaussianNB\n",
      "Training Accuracy 0.753\n",
      "Testing Accuracy 0.868\n",
      "\n"
     ]
    }
   ],
   "source": [
    "for clf in Ensemble_base_dict:\n",
    "    bagging=BaggingClassifier(base_estimator=Ensemble_base_dict[clf],n_estimators=10,\n",
    "                          bootstrap=True,bootstrap_features=True,max_features=3,max_samples=0.7)\n",
    "    bagging.fit(x_train, y_train)\n",
    "    print('Bagging Model :', clf)\n",
    "    print(\"Training Accuracy {:.3f}\".format(bagging.score(x_train,y_train)))\n",
    "    print(\"Testing Accuracy {:.3f}\\n\".format(bagging.score(x_test,y_test)))\n",
    "    Each_model_dict[f'En_bagging({clf})'] = bagging\n",
    "    "
   ]
  },
  {
   "cell_type": "code",
   "execution_count": null,
   "id": "ad18efcf",
   "metadata": {},
   "outputs": [],
   "source": []
  },
  {
   "cell_type": "code",
   "execution_count": null,
   "id": "4cefa97c",
   "metadata": {},
   "outputs": [],
   "source": []
  },
  {
   "cell_type": "code",
   "execution_count": null,
   "id": "088f1b7a",
   "metadata": {},
   "outputs": [],
   "source": []
  },
  {
   "cell_type": "markdown",
   "id": "164b0bb4",
   "metadata": {},
   "source": [
    "# Dense layer based ANN Classifier"
   ]
  },
  {
   "cell_type": "code",
   "execution_count": 98,
   "id": "16d3f972",
   "metadata": {},
   "outputs": [],
   "source": [
    "import keras\n",
    "import tensorflow as tf"
   ]
  },
  {
   "cell_type": "code",
   "execution_count": null,
   "id": "622c1670",
   "metadata": {},
   "outputs": [],
   "source": []
  },
  {
   "cell_type": "code",
   "execution_count": null,
   "id": "84037a1a",
   "metadata": {},
   "outputs": [],
   "source": []
  },
  {
   "cell_type": "markdown",
   "id": "229e5322",
   "metadata": {},
   "source": [
    "# Each Model ROC\n"
   ]
  },
  {
   "cell_type": "code",
   "execution_count": 181,
   "id": "e9af7818",
   "metadata": {},
   "outputs": [
    {
     "name": "stdout",
     "output_type": "stream",
     "text": [
      "{'knn_model (k= 3)': KNeighborsClassifier(n_neighbors=3), 'Logistic Regression': LogisticRegression(C=10), 'Linear SVC': LinearSVC(), 'Decision Tree Classifier': DecisionTreeClassifier(max_depth=4), 'MLP Classifier': MLPClassifier(), 'Random Forest Classifier': RandomForestClassifier(max_depth=4, n_estimators=500), 'Grandient Boosting Classifier': GradientBoostingClassifier(), 'AdaBoost Classifier': AdaBoostClassifier(learning_rate=0.05, n_estimators=1000), 'LightGBM': LGBMClassifier(max_depth=1, reg_alpha=0.05, reg_lambda=0.01), 'Ensemble_bagging(DecisionTreeClassifier)': BaggingClassifier(base_estimator=DecisionTreeClassifier(),\n",
      "                  bootstrap_features=True, max_features=3, max_samples=0.7), 'Ensemble_bagging(LinearSVC)': BaggingClassifier(base_estimator=LinearSVC(), bootstrap_features=True,\n",
      "                  max_features=3, max_samples=0.7), 'Ensemble_bagging(GaussianNB)': BaggingClassifier(base_estimator=GaussianNB(), bootstrap_features=True,\n",
      "                  max_features=3, max_samples=0.7), 'En_bagging(DecisionTreeClassifier)': BaggingClassifier(base_estimator=DecisionTreeClassifier(),\n",
      "                  bootstrap_features=True, max_features=3, max_samples=0.7), 'En_bagging(LinearSVC)': BaggingClassifier(base_estimator=LinearSVC(), bootstrap_features=True,\n",
      "                  max_features=3, max_samples=0.7), 'En_bagging(GaussianNB)': BaggingClassifier(base_estimator=GaussianNB(), bootstrap_features=True,\n",
      "                  max_features=3, max_samples=0.7)}\n"
     ]
    }
   ],
   "source": [
    "print(Each_model_dict)"
   ]
  },
  {
   "cell_type": "code",
   "execution_count": 182,
   "id": "d643d3c4",
   "metadata": {},
   "outputs": [
    {
     "data": {
      "image/png": "[encoded data removed]",
      "text/plain": [
       "<Figure size 432x288 with 1 Axes>"
      ]
     },
     "metadata": {
      "needs_background": "light"
     },
     "output_type": "display_data"
    }
   ],
   "source": [
    "from sklearn.metrics import plot_roc_curve, roc_curve, roc_auc_score, auc\n",
    "\n",
    "for name in Each_model_dict:\n",
    "    Each_model_dict[name].fit(X_scaled, Y_data)\n",
    "    ax = plt.gca()\n",
    "    plt.plot(ax=ax, alpha=0.8)\n",
    "    plot_roc_curve(Each_model_dict[name], X_scaled, Y_data, ax=ax, alpha=0.8)\n",
    "plt.plot([0, 1], [0, 1],'r--',label ='AUC = 0.50')\n",
    "plt.show()"
   ]
  },
  {
   "cell_type": "code",
   "execution_count": 170,
   "id": "884e0bb3",
   "metadata": {},
   "outputs": [
    {
     "name": "stdout",
     "output_type": "stream",
     "text": [
      "[0.         0.13768116 1.        ] [0.         0.93939394 1.        ] [2 1 0]\n",
      "0.9008563899868248\n"
     ]
    }
   ],
   "source": []
  },
  {
   "cell_type": "code",
   "execution_count": null,
   "id": "fc6ab4de",
   "metadata": {},
   "outputs": [],
   "source": []
  },
  {
   "cell_type": "code",
   "execution_count": null,
   "id": "c897f498",
   "metadata": {},
   "outputs": [],
   "source": []
  }
 ],
 "metadata": {
  "kernelspec": {
   "display_name": "Python 3",
   "language": "python",
   "name": "python3"
  },
  "language_info": {
   "codemirror_mode": {
    "name": "ipython",
    "version": 3
   },
   "file_extension": ".py",
   "mimetype": "text/x-python",
   "name": "python",
   "nbconvert_exporter": "python",
   "pygments_lexer": "ipython3",
   "version": "3.8.8"
  }
 },
 "nbformat": 4,
 "nbformat_minor": 5
}
