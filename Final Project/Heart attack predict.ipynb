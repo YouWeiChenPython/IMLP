{
 "cells": [
  {
   "cell_type": "markdown",
   "id": "6244e034",
   "metadata": {},
   "source": [
    "# Heart attack prediction \n",
    "\n",
    "#### 大致參考了 kaggle網站裡面 Rishabh Arya的程式碼 名稱是 \n",
    "Heart Attack Analysis - Beginner friendly....💘🤓\n",
    "\n",
    "\n",
    "\n",
    "##### 網站：https://www.kaggle.com/aryarishabh/heart-attack-analysis-beginner-friendly-90"
   ]
  },
  {
   "cell_type": "code",
   "execution_count": 1,
   "id": "949c883a",
   "metadata": {},
   "outputs": [],
   "source": [
    "import numpy as np \n",
    "import pandas as pd\n",
    "import matplotlib.pyplot as plt\n",
    "import matplotlib as mpl\n",
    "%matplotlib inline\n",
    "import seaborn as sns\n",
    "\n",
    "import warnings\n",
    "warnings.filterwarnings('ignore')\n"
   ]
  },
  {
   "cell_type": "code",
   "execution_count": 3,
   "id": "97f26424",
   "metadata": {},
   "outputs": [
    {
     "data": {
      "text/html": [
       "<div>\n",
       "<style scoped>\n",
       "    .dataframe tbody tr th:only-of-type {\n",
       "        vertical-align: middle;\n",
       "    }\n",
       "\n",
       "    .dataframe tbody tr th {\n",
       "        vertical-align: top;\n",
       "    }\n",
       "\n",
       "    .dataframe thead th {\n",
       "        text-align: right;\n",
       "    }\n",
       "</style>\n",
       "<table border=\"1\" class=\"dataframe\">\n",
       "  <thead>\n",
       "    <tr style=\"text-align: right;\">\n",
       "      <th></th>\n",
       "      <th>age</th>\n",
       "      <th>sex</th>\n",
       "      <th>cp</th>\n",
       "      <th>trtbps</th>\n",
       "      <th>chol</th>\n",
       "      <th>fbs</th>\n",
       "      <th>restecg</th>\n",
       "      <th>thalachh</th>\n",
       "      <th>exng</th>\n",
       "      <th>oldpeak</th>\n",
       "      <th>slp</th>\n",
       "      <th>caa</th>\n",
       "      <th>thall</th>\n",
       "      <th>output</th>\n",
       "    </tr>\n",
       "  </thead>\n",
       "  <tbody>\n",
       "    <tr>\n",
       "      <th>0</th>\n",
       "      <td>63</td>\n",
       "      <td>1</td>\n",
       "      <td>3</td>\n",
       "      <td>145</td>\n",
       "      <td>233</td>\n",
       "      <td>1</td>\n",
       "      <td>0</td>\n",
       "      <td>150</td>\n",
       "      <td>0</td>\n",
       "      <td>2.3</td>\n",
       "      <td>0</td>\n",
       "      <td>0</td>\n",
       "      <td>1</td>\n",
       "      <td>1</td>\n",
       "    </tr>\n",
       "    <tr>\n",
       "      <th>1</th>\n",
       "      <td>37</td>\n",
       "      <td>1</td>\n",
       "      <td>2</td>\n",
       "      <td>130</td>\n",
       "      <td>250</td>\n",
       "      <td>0</td>\n",
       "      <td>1</td>\n",
       "      <td>187</td>\n",
       "      <td>0</td>\n",
       "      <td>3.5</td>\n",
       "      <td>0</td>\n",
       "      <td>0</td>\n",
       "      <td>2</td>\n",
       "      <td>1</td>\n",
       "    </tr>\n",
       "    <tr>\n",
       "      <th>2</th>\n",
       "      <td>41</td>\n",
       "      <td>0</td>\n",
       "      <td>1</td>\n",
       "      <td>130</td>\n",
       "      <td>204</td>\n",
       "      <td>0</td>\n",
       "      <td>0</td>\n",
       "      <td>172</td>\n",
       "      <td>0</td>\n",
       "      <td>1.4</td>\n",
       "      <td>2</td>\n",
       "      <td>0</td>\n",
       "      <td>2</td>\n",
       "      <td>1</td>\n",
       "    </tr>\n",
       "    <tr>\n",
       "      <th>3</th>\n",
       "      <td>56</td>\n",
       "      <td>1</td>\n",
       "      <td>1</td>\n",
       "      <td>120</td>\n",
       "      <td>236</td>\n",
       "      <td>0</td>\n",
       "      <td>1</td>\n",
       "      <td>178</td>\n",
       "      <td>0</td>\n",
       "      <td>0.8</td>\n",
       "      <td>2</td>\n",
       "      <td>0</td>\n",
       "      <td>2</td>\n",
       "      <td>1</td>\n",
       "    </tr>\n",
       "    <tr>\n",
       "      <th>4</th>\n",
       "      <td>57</td>\n",
       "      <td>0</td>\n",
       "      <td>0</td>\n",
       "      <td>120</td>\n",
       "      <td>354</td>\n",
       "      <td>0</td>\n",
       "      <td>1</td>\n",
       "      <td>163</td>\n",
       "      <td>1</td>\n",
       "      <td>0.6</td>\n",
       "      <td>2</td>\n",
       "      <td>0</td>\n",
       "      <td>2</td>\n",
       "      <td>1</td>\n",
       "    </tr>\n",
       "    <tr>\n",
       "      <th>...</th>\n",
       "      <td>...</td>\n",
       "      <td>...</td>\n",
       "      <td>...</td>\n",
       "      <td>...</td>\n",
       "      <td>...</td>\n",
       "      <td>...</td>\n",
       "      <td>...</td>\n",
       "      <td>...</td>\n",
       "      <td>...</td>\n",
       "      <td>...</td>\n",
       "      <td>...</td>\n",
       "      <td>...</td>\n",
       "      <td>...</td>\n",
       "      <td>...</td>\n",
       "    </tr>\n",
       "    <tr>\n",
       "      <th>298</th>\n",
       "      <td>57</td>\n",
       "      <td>0</td>\n",
       "      <td>0</td>\n",
       "      <td>140</td>\n",
       "      <td>241</td>\n",
       "      <td>0</td>\n",
       "      <td>1</td>\n",
       "      <td>123</td>\n",
       "      <td>1</td>\n",
       "      <td>0.2</td>\n",
       "      <td>1</td>\n",
       "      <td>0</td>\n",
       "      <td>3</td>\n",
       "      <td>0</td>\n",
       "    </tr>\n",
       "    <tr>\n",
       "      <th>299</th>\n",
       "      <td>45</td>\n",
       "      <td>1</td>\n",
       "      <td>3</td>\n",
       "      <td>110</td>\n",
       "      <td>264</td>\n",
       "      <td>0</td>\n",
       "      <td>1</td>\n",
       "      <td>132</td>\n",
       "      <td>0</td>\n",
       "      <td>1.2</td>\n",
       "      <td>1</td>\n",
       "      <td>0</td>\n",
       "      <td>3</td>\n",
       "      <td>0</td>\n",
       "    </tr>\n",
       "    <tr>\n",
       "      <th>300</th>\n",
       "      <td>68</td>\n",
       "      <td>1</td>\n",
       "      <td>0</td>\n",
       "      <td>144</td>\n",
       "      <td>193</td>\n",
       "      <td>1</td>\n",
       "      <td>1</td>\n",
       "      <td>141</td>\n",
       "      <td>0</td>\n",
       "      <td>3.4</td>\n",
       "      <td>1</td>\n",
       "      <td>2</td>\n",
       "      <td>3</td>\n",
       "      <td>0</td>\n",
       "    </tr>\n",
       "    <tr>\n",
       "      <th>301</th>\n",
       "      <td>57</td>\n",
       "      <td>1</td>\n",
       "      <td>0</td>\n",
       "      <td>130</td>\n",
       "      <td>131</td>\n",
       "      <td>0</td>\n",
       "      <td>1</td>\n",
       "      <td>115</td>\n",
       "      <td>1</td>\n",
       "      <td>1.2</td>\n",
       "      <td>1</td>\n",
       "      <td>1</td>\n",
       "      <td>3</td>\n",
       "      <td>0</td>\n",
       "    </tr>\n",
       "    <tr>\n",
       "      <th>302</th>\n",
       "      <td>57</td>\n",
       "      <td>0</td>\n",
       "      <td>1</td>\n",
       "      <td>130</td>\n",
       "      <td>236</td>\n",
       "      <td>0</td>\n",
       "      <td>0</td>\n",
       "      <td>174</td>\n",
       "      <td>0</td>\n",
       "      <td>0.0</td>\n",
       "      <td>1</td>\n",
       "      <td>1</td>\n",
       "      <td>2</td>\n",
       "      <td>0</td>\n",
       "    </tr>\n",
       "  </tbody>\n",
       "</table>\n",
       "<p>303 rows × 14 columns</p>\n",
       "</div>"
      ],
      "text/plain": [
       "     age  sex  cp  trtbps  chol  fbs  restecg  thalachh  exng  oldpeak  slp  \\\n",
       "0     63    1   3     145   233    1        0       150     0      2.3    0   \n",
       "1     37    1   2     130   250    0        1       187     0      3.5    0   \n",
       "2     41    0   1     130   204    0        0       172     0      1.4    2   \n",
       "3     56    1   1     120   236    0        1       178     0      0.8    2   \n",
       "4     57    0   0     120   354    0        1       163     1      0.6    2   \n",
       "..   ...  ...  ..     ...   ...  ...      ...       ...   ...      ...  ...   \n",
       "298   57    0   0     140   241    0        1       123     1      0.2    1   \n",
       "299   45    1   3     110   264    0        1       132     0      1.2    1   \n",
       "300   68    1   0     144   193    1        1       141     0      3.4    1   \n",
       "301   57    1   0     130   131    0        1       115     1      1.2    1   \n",
       "302   57    0   1     130   236    0        0       174     0      0.0    1   \n",
       "\n",
       "     caa  thall  output  \n",
       "0      0      1       1  \n",
       "1      0      2       1  \n",
       "2      0      2       1  \n",
       "3      0      2       1  \n",
       "4      0      2       1  \n",
       "..   ...    ...     ...  \n",
       "298    0      3       0  \n",
       "299    0      3       0  \n",
       "300    2      3       0  \n",
       "301    1      3       0  \n",
       "302    1      2       0  \n",
       "\n",
       "[303 rows x 14 columns]"
      ]
     },
     "execution_count": 3,
     "metadata": {},
     "output_type": "execute_result"
    }
   ],
   "source": [
    "df = pd.read_csv('data/heart.csv')\n",
    "df"
   ]
  },
  {
   "cell_type": "code",
   "execution_count": 4,
   "id": "754187b0",
   "metadata": {},
   "outputs": [
    {
     "name": "stdout",
     "output_type": "stream",
     "text": [
      "<class 'pandas.core.frame.DataFrame'>\n",
      "RangeIndex: 303 entries, 0 to 302\n",
      "Data columns (total 14 columns):\n",
      " #   Column    Non-Null Count  Dtype  \n",
      "---  ------    --------------  -----  \n",
      " 0   age       303 non-null    int64  \n",
      " 1   sex       303 non-null    int64  \n",
      " 2   cp        303 non-null    int64  \n",
      " 3   trtbps    303 non-null    int64  \n",
      " 4   chol      303 non-null    int64  \n",
      " 5   fbs       303 non-null    int64  \n",
      " 6   restecg   303 non-null    int64  \n",
      " 7   thalachh  303 non-null    int64  \n",
      " 8   exng      303 non-null    int64  \n",
      " 9   oldpeak   303 non-null    float64\n",
      " 10  slp       303 non-null    int64  \n",
      " 11  caa       303 non-null    int64  \n",
      " 12  thall     303 non-null    int64  \n",
      " 13  output    303 non-null    int64  \n",
      "dtypes: float64(1), int64(13)\n",
      "memory usage: 33.3 KB\n"
     ]
    }
   ],
   "source": [
    "df.info() ## look up type of data"
   ]
  },
  {
   "cell_type": "code",
   "execution_count": 5,
   "id": "adab0a6f",
   "metadata": {},
   "outputs": [
    {
     "data": {
      "text/plain": [
       "age          41\n",
       "sex           2\n",
       "cp            4\n",
       "trtbps       49\n",
       "chol        152\n",
       "fbs           2\n",
       "restecg       3\n",
       "thalachh     91\n",
       "exng          2\n",
       "oldpeak      40\n",
       "slp           3\n",
       "caa           5\n",
       "thall         4\n",
       "output        2\n",
       "dtype: int64"
      ]
     },
     "execution_count": 5,
     "metadata": {},
     "output_type": "execute_result"
    }
   ],
   "source": [
    "df.nunique() ## Gross glace data categorical condition."
   ]
  },
  {
   "cell_type": "markdown",
   "id": "0b178d29",
   "metadata": {},
   "source": [
    "# About this data:\n",
    "About this dataset\n",
    "\n",
    "1.age:- it respresents the age of patients\n",
    "\n",
    "2.sex:- it represents the sex of patients (1 stands for 'MALE' and 0 stands for 'FEAMLE')\n",
    "\n",
    "3.cp:- cp stands for chest pain.\n",
    "In this dataset,there are four types of chest pain \n",
    "(0=asymptomatic, 1=typical angina, 2=atypical angina, 3=non-anginal pain)\n",
    "\n",
    "4.trtbps:- Resting blood pressure(in mm hg on admission to the hospital)\n",
    "\n",
    "5.chol:- Serum cholestoral in mg/dl\n",
    "\n",
    "6.fbs:-Fasting blood sugar>120mg/dl (1=true, 0=false)\n",
    "\n",
    "7.restecg:-Resting electrocardiography results(0=normal, 1=having ST-T wave normality, 2=hypertrophy)\n",
    "\n",
    "8.thalachh:- Maximum heart rate achieved\n",
    "\n",
    "9.exng:-exercise induced angina(1=yes, 0=no)\n",
    "\n",
    "10.oldpeak:-ST depression induced by exercise relative to rest\n",
    "\n",
    "11.slp:- Slope of peak exercise ST segment(0= dowmsloping, 1=flat, 2=upsloping)\n",
    "\n",
    "12.caa:-Number of major vessels(0-3) coloured by flourosopy)\n",
    "\n",
    "13.thall:-Thalassemia blood disorder(1=fixed defect, 2=normal, 3=reversable defect)\n",
    "\n",
    "14.output:- The target variable and predicted attribute(0=less chance of heart attack, 1=high rate of heart attack)"
   ]
  },
  {
   "cell_type": "code",
   "execution_count": 6,
   "id": "fa033677",
   "metadata": {},
   "outputs": [
    {
     "data": {
      "text/plain": [
       "age         0\n",
       "sex         0\n",
       "cp          0\n",
       "trtbps      0\n",
       "chol        0\n",
       "fbs         0\n",
       "restecg     0\n",
       "thalachh    0\n",
       "exng        0\n",
       "oldpeak     0\n",
       "slp         0\n",
       "caa         0\n",
       "thall       0\n",
       "output      0\n",
       "dtype: int64"
      ]
     },
     "execution_count": 6,
     "metadata": {},
     "output_type": "execute_result"
    }
   ],
   "source": [
    "df.isna().sum() # check up na value."
   ]
  },
  {
   "cell_type": "markdown",
   "id": "f50ad9e1",
   "metadata": {},
   "source": [
    "## About sex distribution"
   ]
  },
  {
   "cell_type": "code",
   "execution_count": 7,
   "id": "65fdea44",
   "metadata": {},
   "outputs": [
    {
     "data": {
      "text/plain": [
       "1    207\n",
       "0     96\n",
       "Name: sex, dtype: int64"
      ]
     },
     "execution_count": 7,
     "metadata": {},
     "output_type": "execute_result"
    }
   ],
   "source": [
    "pd.value_counts(df['sex']) # male=1, female=0"
   ]
  },
  {
   "cell_type": "code",
   "execution_count": 8,
   "id": "d5320028",
   "metadata": {},
   "outputs": [
    {
     "data": {
      "image/png": "[encoded data removed]",
      "text/plain": [
       "<Figure size 432x432 with 1 Axes>"
      ]
     },
     "metadata": {
      "needs_background": "light"
     },
     "output_type": "display_data"
    }
   ],
   "source": [
    "plt.figure(figsize=(6, 6))\n",
    "sns.countplot(x=\"sex\", data=df);"
   ]
  },
  {
   "cell_type": "markdown",
   "id": "1c15cfae",
   "metadata": {},
   "source": [
    "## About output distribution:"
   ]
  },
  {
   "cell_type": "code",
   "execution_count": 9,
   "id": "357aa784",
   "metadata": {},
   "outputs": [
    {
     "data": {
      "text/plain": [
       "1    165\n",
       "0    138\n",
       "Name: output, dtype: int64"
      ]
     },
     "execution_count": 9,
     "metadata": {},
     "output_type": "execute_result"
    }
   ],
   "source": [
    "pd.value_counts(df['output']) "
   ]
  },
  {
   "cell_type": "code",
   "execution_count": 10,
   "id": "2af87c40",
   "metadata": {},
   "outputs": [
    {
     "data": {
      "image/png": "[encoded data removed]",
      "text/plain": [
       "<Figure size 432x288 with 1 Axes>"
      ]
     },
     "metadata": {
      "needs_background": "light"
     },
     "output_type": "display_data"
    }
   ],
   "source": [
    "sns.countplot(x=\"output\", data=df);"
   ]
  },
  {
   "cell_type": "markdown",
   "id": "109cbd0d",
   "metadata": {},
   "source": [
    "## About age distribution:"
   ]
  },
  {
   "cell_type": "code",
   "execution_count": 11,
   "id": "d3a1b1e1",
   "metadata": {},
   "outputs": [
    {
     "data": {
      "image/png": "[encoded data removed]",
      "text/plain": [
       "<Figure size 1296x720 with 1 Axes>"
      ]
     },
     "metadata": {
      "needs_background": "light"
     },
     "output_type": "display_data"
    }
   ],
   "source": [
    "plt.figure(figsize=(18, 10))\n",
    "sns.countplot(x=df[\"age\"]);  # using countplot\n",
    "plt.title(\"Age to Count Plot\")\n",
    "plt.xlabel(\"AGE\")\n",
    "plt.ylabel(\"COUNT\")\n",
    "plt.show();"
   ]
  },
  {
   "cell_type": "markdown",
   "id": "f92b0a52",
   "metadata": {},
   "source": [
    "## Data variable correlation"
   ]
  },
  {
   "cell_type": "code",
   "execution_count": 21,
   "id": "c239fbca",
   "metadata": {},
   "outputs": [
    {
     "data": {
      "image/png": "[encoded data removed]",
      "text/plain": [
       "<Figure size 720x720 with 2 Axes>"
      ]
     },
     "metadata": {
      "needs_background": "light"
     },
     "output_type": "display_data"
    }
   ],
   "source": [
    "corr = df.corr()\n",
    "plt.figure(figsize=(10,10))\n",
    "mask = np.zeros_like(corr,dtype=np.bool) #\n",
    "mask[np.triu_indices_from(mask)] = True  #\n",
    "sns.heatmap(corr, mask = mask, annot=True)\n",
    "plt.show()"
   ]
  },
  {
   "cell_type": "markdown",
   "id": "501c424c",
   "metadata": {},
   "source": [
    "# Prepare data:"
   ]
  },
  {
   "cell_type": "code",
   "execution_count": 22,
   "id": "1110848f",
   "metadata": {},
   "outputs": [
    {
     "data": {
      "text/html": [
       "<div>\n",
       "<style scoped>\n",
       "    .dataframe tbody tr th:only-of-type {\n",
       "        vertical-align: middle;\n",
       "    }\n",
       "\n",
       "    .dataframe tbody tr th {\n",
       "        vertical-align: top;\n",
       "    }\n",
       "\n",
       "    .dataframe thead th {\n",
       "        text-align: right;\n",
       "    }\n",
       "</style>\n",
       "<table border=\"1\" class=\"dataframe\">\n",
       "  <thead>\n",
       "    <tr style=\"text-align: right;\">\n",
       "      <th></th>\n",
       "      <th>age</th>\n",
       "      <th>sex</th>\n",
       "      <th>cp</th>\n",
       "      <th>trtbps</th>\n",
       "      <th>chol</th>\n",
       "      <th>fbs</th>\n",
       "      <th>restecg</th>\n",
       "      <th>thalachh</th>\n",
       "      <th>exng</th>\n",
       "      <th>oldpeak</th>\n",
       "      <th>slp</th>\n",
       "      <th>caa</th>\n",
       "      <th>thall</th>\n",
       "    </tr>\n",
       "  </thead>\n",
       "  <tbody>\n",
       "    <tr>\n",
       "      <th>0</th>\n",
       "      <td>63</td>\n",
       "      <td>1</td>\n",
       "      <td>3</td>\n",
       "      <td>145</td>\n",
       "      <td>233</td>\n",
       "      <td>1</td>\n",
       "      <td>0</td>\n",
       "      <td>150</td>\n",
       "      <td>0</td>\n",
       "      <td>2.3</td>\n",
       "      <td>0</td>\n",
       "      <td>0</td>\n",
       "      <td>1</td>\n",
       "    </tr>\n",
       "    <tr>\n",
       "      <th>1</th>\n",
       "      <td>37</td>\n",
       "      <td>1</td>\n",
       "      <td>2</td>\n",
       "      <td>130</td>\n",
       "      <td>250</td>\n",
       "      <td>0</td>\n",
       "      <td>1</td>\n",
       "      <td>187</td>\n",
       "      <td>0</td>\n",
       "      <td>3.5</td>\n",
       "      <td>0</td>\n",
       "      <td>0</td>\n",
       "      <td>2</td>\n",
       "    </tr>\n",
       "    <tr>\n",
       "      <th>2</th>\n",
       "      <td>41</td>\n",
       "      <td>0</td>\n",
       "      <td>1</td>\n",
       "      <td>130</td>\n",
       "      <td>204</td>\n",
       "      <td>0</td>\n",
       "      <td>0</td>\n",
       "      <td>172</td>\n",
       "      <td>0</td>\n",
       "      <td>1.4</td>\n",
       "      <td>2</td>\n",
       "      <td>0</td>\n",
       "      <td>2</td>\n",
       "    </tr>\n",
       "    <tr>\n",
       "      <th>3</th>\n",
       "      <td>56</td>\n",
       "      <td>1</td>\n",
       "      <td>1</td>\n",
       "      <td>120</td>\n",
       "      <td>236</td>\n",
       "      <td>0</td>\n",
       "      <td>1</td>\n",
       "      <td>178</td>\n",
       "      <td>0</td>\n",
       "      <td>0.8</td>\n",
       "      <td>2</td>\n",
       "      <td>0</td>\n",
       "      <td>2</td>\n",
       "    </tr>\n",
       "    <tr>\n",
       "      <th>4</th>\n",
       "      <td>57</td>\n",
       "      <td>0</td>\n",
       "      <td>0</td>\n",
       "      <td>120</td>\n",
       "      <td>354</td>\n",
       "      <td>0</td>\n",
       "      <td>1</td>\n",
       "      <td>163</td>\n",
       "      <td>1</td>\n",
       "      <td>0.6</td>\n",
       "      <td>2</td>\n",
       "      <td>0</td>\n",
       "      <td>2</td>\n",
       "    </tr>\n",
       "  </tbody>\n",
       "</table>\n",
       "</div>"
      ],
      "text/plain": [
       "   age  sex  cp  trtbps  chol  fbs  restecg  thalachh  exng  oldpeak  slp  \\\n",
       "0   63    1   3     145   233    1        0       150     0      2.3    0   \n",
       "1   37    1   2     130   250    0        1       187     0      3.5    0   \n",
       "2   41    0   1     130   204    0        0       172     0      1.4    2   \n",
       "3   56    1   1     120   236    0        1       178     0      0.8    2   \n",
       "4   57    0   0     120   354    0        1       163     1      0.6    2   \n",
       "\n",
       "   caa  thall  \n",
       "0    0      1  \n",
       "1    0      2  \n",
       "2    0      2  \n",
       "3    0      2  \n",
       "4    0      2  "
      ]
     },
     "execution_count": 22,
     "metadata": {},
     "output_type": "execute_result"
    }
   ],
   "source": [
    "X_data = df.drop(['output'], axis = 1)\n",
    "X_data.head()"
   ]
  },
  {
   "cell_type": "code",
   "execution_count": 23,
   "id": "69c851dd",
   "metadata": {},
   "outputs": [
    {
     "data": {
      "text/plain": [
       "0      1\n",
       "1      1\n",
       "2      1\n",
       "3      1\n",
       "4      1\n",
       "      ..\n",
       "298    0\n",
       "299    0\n",
       "300    0\n",
       "301    0\n",
       "302    0\n",
       "Name: output, Length: 303, dtype: int64"
      ]
     },
     "execution_count": 23,
     "metadata": {},
     "output_type": "execute_result"
    }
   ],
   "source": [
    "Y_data = df['output']\n",
    "Y_data"
   ]
  },
  {
   "cell_type": "code",
   "execution_count": 24,
   "id": "baffdcaf",
   "metadata": {
    "scrolled": true
   },
   "outputs": [
    {
     "name": "stdout",
     "output_type": "stream",
     "text": [
      "X shape:  (303, 13)\n",
      "Y shape:  (303,)\n"
     ]
    }
   ],
   "source": [
    "print('X shape: ',X_data.shape)\n",
    "print('Y shape: ',Y_data.shape)"
   ]
  },
  {
   "cell_type": "markdown",
   "id": "d23c2af1",
   "metadata": {},
   "source": [
    "# Scaling the numerical features\n",
    "\n",
    "exang: exercise induced angina (1 = yes; 0 = no)\n",
    "\n",
    "ca: number of major vessels (0-3)\n",
    "\n",
    "cp : Chest Pain type chest pain type\n",
    "Value 1: typical angina\n",
    "Value 2: atypical angina\n",
    "Value 3: non-anginal pain\n",
    "Value 4: asymptomatic\n",
    "\n",
    "trtbps : resting blood pressure (in mm Hg)\n",
    "\n",
    "fbs : (fasting blood sugar > 120 mg/dl) (1 = true; 0 = false)?\n",
    "\n",
    "rest_ecg : resting electrocardiographic results\n",
    "Value 0: normal\n",
    "Value 1: having ST-T wave abnormality (T wave inversions and/or ST elevation or depression of > 0.05 mV)\n",
    "Value 2: showing probable or definite left ventricular hypertrophy by Estes' criteria\n",
    "\n",
    "thalach : maximum heart rate achieved\n",
    "\n",
    "target : 0= less chance of heart attack 1= more chance of heart attack"
   ]
  },
  {
   "cell_type": "code",
   "execution_count": 25,
   "id": "45a8c19b",
   "metadata": {},
   "outputs": [
    {
     "data": {
      "text/html": [
       "<div>\n",
       "<style scoped>\n",
       "    .dataframe tbody tr th:only-of-type {\n",
       "        vertical-align: middle;\n",
       "    }\n",
       "\n",
       "    .dataframe tbody tr th {\n",
       "        vertical-align: top;\n",
       "    }\n",
       "\n",
       "    .dataframe thead th {\n",
       "        text-align: right;\n",
       "    }\n",
       "</style>\n",
       "<table border=\"1\" class=\"dataframe\">\n",
       "  <thead>\n",
       "    <tr style=\"text-align: right;\">\n",
       "      <th></th>\n",
       "      <th>age</th>\n",
       "      <th>trtbps</th>\n",
       "      <th>chol</th>\n",
       "      <th>thalachh</th>\n",
       "      <th>oldpeak</th>\n",
       "      <th>sex</th>\n",
       "      <th>cp</th>\n",
       "      <th>fbs</th>\n",
       "      <th>restecg</th>\n",
       "      <th>exng</th>\n",
       "      <th>slp</th>\n",
       "      <th>caa</th>\n",
       "      <th>thall</th>\n",
       "    </tr>\n",
       "  </thead>\n",
       "  <tbody>\n",
       "    <tr>\n",
       "      <th>0</th>\n",
       "      <td>0.708333</td>\n",
       "      <td>0.481132</td>\n",
       "      <td>0.244292</td>\n",
       "      <td>0.603053</td>\n",
       "      <td>0.370968</td>\n",
       "      <td>1</td>\n",
       "      <td>3</td>\n",
       "      <td>1</td>\n",
       "      <td>0</td>\n",
       "      <td>0</td>\n",
       "      <td>0</td>\n",
       "      <td>0</td>\n",
       "      <td>1</td>\n",
       "    </tr>\n",
       "    <tr>\n",
       "      <th>1</th>\n",
       "      <td>0.166667</td>\n",
       "      <td>0.339623</td>\n",
       "      <td>0.283105</td>\n",
       "      <td>0.885496</td>\n",
       "      <td>0.564516</td>\n",
       "      <td>1</td>\n",
       "      <td>2</td>\n",
       "      <td>0</td>\n",
       "      <td>1</td>\n",
       "      <td>0</td>\n",
       "      <td>0</td>\n",
       "      <td>0</td>\n",
       "      <td>2</td>\n",
       "    </tr>\n",
       "    <tr>\n",
       "      <th>2</th>\n",
       "      <td>0.250000</td>\n",
       "      <td>0.339623</td>\n",
       "      <td>0.178082</td>\n",
       "      <td>0.770992</td>\n",
       "      <td>0.225806</td>\n",
       "      <td>0</td>\n",
       "      <td>1</td>\n",
       "      <td>0</td>\n",
       "      <td>0</td>\n",
       "      <td>0</td>\n",
       "      <td>2</td>\n",
       "      <td>0</td>\n",
       "      <td>2</td>\n",
       "    </tr>\n",
       "    <tr>\n",
       "      <th>3</th>\n",
       "      <td>0.562500</td>\n",
       "      <td>0.245283</td>\n",
       "      <td>0.251142</td>\n",
       "      <td>0.816794</td>\n",
       "      <td>0.129032</td>\n",
       "      <td>1</td>\n",
       "      <td>1</td>\n",
       "      <td>0</td>\n",
       "      <td>1</td>\n",
       "      <td>0</td>\n",
       "      <td>2</td>\n",
       "      <td>0</td>\n",
       "      <td>2</td>\n",
       "    </tr>\n",
       "    <tr>\n",
       "      <th>4</th>\n",
       "      <td>0.583333</td>\n",
       "      <td>0.245283</td>\n",
       "      <td>0.520548</td>\n",
       "      <td>0.702290</td>\n",
       "      <td>0.096774</td>\n",
       "      <td>0</td>\n",
       "      <td>0</td>\n",
       "      <td>0</td>\n",
       "      <td>1</td>\n",
       "      <td>1</td>\n",
       "      <td>2</td>\n",
       "      <td>0</td>\n",
       "      <td>2</td>\n",
       "    </tr>\n",
       "  </tbody>\n",
       "</table>\n",
       "</div>"
      ],
      "text/plain": [
       "        age    trtbps      chol  thalachh   oldpeak  sex  cp  fbs  restecg  \\\n",
       "0  0.708333  0.481132  0.244292  0.603053  0.370968    1   3    1        0   \n",
       "1  0.166667  0.339623  0.283105  0.885496  0.564516    1   2    0        1   \n",
       "2  0.250000  0.339623  0.178082  0.770992  0.225806    0   1    0        0   \n",
       "3  0.562500  0.245283  0.251142  0.816794  0.129032    1   1    0        1   \n",
       "4  0.583333  0.245283  0.520548  0.702290  0.096774    0   0    0        1   \n",
       "\n",
       "   exng  slp  caa  thall  \n",
       "0     0    0    0      1  \n",
       "1     0    0    0      2  \n",
       "2     0    2    0      2  \n",
       "3     0    2    0      2  \n",
       "4     1    2    0      2  "
      ]
     },
     "execution_count": 25,
     "metadata": {},
     "output_type": "execute_result"
    }
   ],
   "source": [
    "from sklearn.preprocessing import MinMaxScaler\n",
    "\n",
    "num_features = ['age','trtbps','chol','thalachh','oldpeak']\n",
    "cat_features = ['sex','cp','fbs','restecg','exng','slp','caa','thall']\n",
    "\n",
    "scaler = MinMaxScaler()\n",
    "scaler.fit(X_data[num_features])\n",
    "X_scaled = pd.DataFrame(scaler.transform(X_data[num_features]),columns=num_features)\n",
    "X_scaled = pd.concat([X_scaled, X_data[cat_features]], axis=1)\n",
    "X_scaled.head()"
   ]
  },
  {
   "cell_type": "code",
   "execution_count": null,
   "id": "c7367ac3",
   "metadata": {},
   "outputs": [],
   "source": []
  },
  {
   "cell_type": "markdown",
   "id": "f745e3a2",
   "metadata": {},
   "source": [
    "# Prepare traning data set and test data set"
   ]
  },
  {
   "cell_type": "code",
   "execution_count": 26,
   "id": "b202e81c",
   "metadata": {},
   "outputs": [
    {
     "name": "stdout",
     "output_type": "stream",
     "text": [
      "(227, 13) (227,)\n",
      "(76, 13) (76,)\n"
     ]
    },
    {
     "data": {
      "text/html": [
       "<div>\n",
       "<style scoped>\n",
       "    .dataframe tbody tr th:only-of-type {\n",
       "        vertical-align: middle;\n",
       "    }\n",
       "\n",
       "    .dataframe tbody tr th {\n",
       "        vertical-align: top;\n",
       "    }\n",
       "\n",
       "    .dataframe thead th {\n",
       "        text-align: right;\n",
       "    }\n",
       "</style>\n",
       "<table border=\"1\" class=\"dataframe\">\n",
       "  <thead>\n",
       "    <tr style=\"text-align: right;\">\n",
       "      <th></th>\n",
       "      <th>age</th>\n",
       "      <th>trtbps</th>\n",
       "      <th>chol</th>\n",
       "      <th>thalachh</th>\n",
       "      <th>oldpeak</th>\n",
       "      <th>sex</th>\n",
       "      <th>cp</th>\n",
       "      <th>fbs</th>\n",
       "      <th>restecg</th>\n",
       "      <th>exng</th>\n",
       "      <th>slp</th>\n",
       "      <th>caa</th>\n",
       "      <th>thall</th>\n",
       "    </tr>\n",
       "  </thead>\n",
       "  <tbody>\n",
       "    <tr>\n",
       "      <th>287</th>\n",
       "      <td>0.58</td>\n",
       "      <td>0.57</td>\n",
       "      <td>0.24</td>\n",
       "      <td>0.71</td>\n",
       "      <td>0.00</td>\n",
       "      <td>1</td>\n",
       "      <td>1</td>\n",
       "      <td>0</td>\n",
       "      <td>0</td>\n",
       "      <td>0</td>\n",
       "      <td>2</td>\n",
       "      <td>1</td>\n",
       "      <td>2</td>\n",
       "    </tr>\n",
       "    <tr>\n",
       "      <th>282</th>\n",
       "      <td>0.62</td>\n",
       "      <td>0.30</td>\n",
       "      <td>0.21</td>\n",
       "      <td>0.48</td>\n",
       "      <td>0.35</td>\n",
       "      <td>1</td>\n",
       "      <td>2</td>\n",
       "      <td>1</td>\n",
       "      <td>1</td>\n",
       "      <td>0</td>\n",
       "      <td>1</td>\n",
       "      <td>1</td>\n",
       "      <td>1</td>\n",
       "    </tr>\n",
       "    <tr>\n",
       "      <th>197</th>\n",
       "      <td>0.79</td>\n",
       "      <td>0.29</td>\n",
       "      <td>0.29</td>\n",
       "      <td>0.70</td>\n",
       "      <td>0.03</td>\n",
       "      <td>1</td>\n",
       "      <td>0</td>\n",
       "      <td>1</td>\n",
       "      <td>1</td>\n",
       "      <td>0</td>\n",
       "      <td>1</td>\n",
       "      <td>2</td>\n",
       "      <td>3</td>\n",
       "    </tr>\n",
       "    <tr>\n",
       "      <th>158</th>\n",
       "      <td>0.60</td>\n",
       "      <td>0.29</td>\n",
       "      <td>0.21</td>\n",
       "      <td>0.56</td>\n",
       "      <td>0.06</td>\n",
       "      <td>1</td>\n",
       "      <td>1</td>\n",
       "      <td>0</td>\n",
       "      <td>1</td>\n",
       "      <td>0</td>\n",
       "      <td>1</td>\n",
       "      <td>4</td>\n",
       "      <td>3</td>\n",
       "    </tr>\n",
       "    <tr>\n",
       "      <th>164</th>\n",
       "      <td>0.19</td>\n",
       "      <td>0.42</td>\n",
       "      <td>0.11</td>\n",
       "      <td>0.78</td>\n",
       "      <td>0.00</td>\n",
       "      <td>1</td>\n",
       "      <td>2</td>\n",
       "      <td>0</td>\n",
       "      <td>1</td>\n",
       "      <td>0</td>\n",
       "      <td>2</td>\n",
       "      <td>4</td>\n",
       "      <td>2</td>\n",
       "    </tr>\n",
       "  </tbody>\n",
       "</table>\n",
       "</div>"
      ],
      "text/plain": [
       "     age  trtbps  chol  thalachh  oldpeak  sex  cp  fbs  restecg  exng  slp  \\\n",
       "287 0.58    0.57  0.24      0.71     0.00    1   1    0        0     0    2   \n",
       "282 0.62    0.30  0.21      0.48     0.35    1   2    1        1     0    1   \n",
       "197 0.79    0.29  0.29      0.70     0.03    1   0    1        1     0    1   \n",
       "158 0.60    0.29  0.21      0.56     0.06    1   1    0        1     0    1   \n",
       "164 0.19    0.42  0.11      0.78     0.00    1   2    0        1     0    2   \n",
       "\n",
       "     caa  thall  \n",
       "287    1      2  \n",
       "282    1      1  \n",
       "197    2      3  \n",
       "158    4      3  \n",
       "164    4      2  "
      ]
     },
     "execution_count": 26,
     "metadata": {},
     "output_type": "execute_result"
    }
   ],
   "source": [
    "from sklearn.model_selection import train_test_split\n",
    "x_train,x_test,y_train,y_test = train_test_split(X_scaled,Y_data,train_size=0.75,random_state=42)\n",
    "pd.options.mode.chained_assignment = None\n",
    "pd.options.display.float_format = '{:.2f}'.format\n",
    "print(x_train.shape,y_train.shape)\n",
    "print(x_test.shape,y_test.shape)\n",
    "x_train.head()"
   ]
  },
  {
   "cell_type": "markdown",
   "id": "e682039b",
   "metadata": {},
   "source": []
  },
  {
   "cell_type": "markdown",
   "id": "f267cb28",
   "metadata": {},
   "source": [
    "# Model prediction\n",
    "## KNN"
   ]
  },
  {
   "cell_type": "code",
   "execution_count": 27,
   "id": "ed71ccc8",
   "metadata": {},
   "outputs": [
    {
     "name": "stdout",
     "output_type": "stream",
     "text": [
      "knn(n = 1): train accuracy =  1.00, testing accuracy= 0.82\n",
      "knn(n = 2): train accuracy =  0.89, testing accuracy= 0.74\n",
      "knn(n = 3): train accuracy =  0.90, testing accuracy= 0.87\n",
      "knn(n = 4): train accuracy =  0.90, testing accuracy= 0.78\n",
      "knn(n = 5): train accuracy =  0.90, testing accuracy= 0.83\n",
      "knn(n = 6): train accuracy =  0.89, testing accuracy= 0.80\n",
      "knn(n = 7): train accuracy =  0.88, testing accuracy= 0.87\n",
      "knn(n = 8): train accuracy =  0.89, testing accuracy= 0.84\n",
      "knn(n = 9): train accuracy =  0.87, testing accuracy= 0.87\n",
      "knn(n = 10): train accuracy =  0.88, testing accuracy= 0.84\n",
      "knn(n = 11): train accuracy =  0.87, testing accuracy= 0.87\n",
      "knn(n = 12): train accuracy =  0.87, testing accuracy= 0.86\n"
     ]
    }
   ],
   "source": [
    "from sklearn.neighbors import KNeighborsClassifier\n",
    "\n",
    "n_neighbors = range(1,x_train.shape[1])#\n",
    "training_accuracy = [] \n",
    "testing_accuracy = []\n",
    "for n in n_neighbors:\n",
    "    knn = KNeighborsClassifier(n_neighbors =n, n_jobs=-1)\n",
    "    knn.fit(x_train, y_train)\n",
    "    training_accuracy.append(knn.score(x_train, y_train))\n",
    "    testing_accuracy.append(knn.score(x_test, y_test))\n",
    "    print(f'knn(n = {n}): train accuracy = ', '{:.2f}, testing accuracy= {:.2f}'.format(training_accuracy[n-1], testing_accuracy[n-1]))\n",
    "\n"
   ]
  },
  {
   "cell_type": "code",
   "execution_count": 28,
   "id": "f5640ca5",
   "metadata": {},
   "outputs": [
    {
     "data": {
      "text/plain": [
       "<matplotlib.legend.Legend at 0x1da5eedebe0>"
      ]
     },
     "execution_count": 28,
     "metadata": {},
     "output_type": "execute_result"
    },
    {
     "data": {
      "image/png": "[encoded data removed]",
      "text/plain": [
       "<Figure size 432x288 with 1 Axes>"
      ]
     },
     "metadata": {
      "needs_background": "light"
     },
     "output_type": "display_data"
    }
   ],
   "source": [
    "plt.plot(n_neighbors, training_accuracy, label='Training Accuracy')\n",
    "plt.plot(n_neighbors, testing_accuracy, label = 'Testing Accuracy')\n",
    "plt.xlabel('n_neighbors')\n",
    "plt.ylabel('Accuracy')\n",
    "plt.legend()"
   ]
  },
  {
   "cell_type": "code",
   "execution_count": 29,
   "id": "92e2f797",
   "metadata": {},
   "outputs": [
    {
     "name": "stdout",
     "output_type": "stream",
     "text": [
      "max testing accuracy, when k=3, accuracy =0.868421052631579\n"
     ]
    }
   ],
   "source": [
    "best_predict_k =testing_accuracy.index(max(testing_accuracy))+1\n",
    "\n",
    "print(f'max testing accuracy, when k={best_predict_k}, accuracy ={max(testing_accuracy)}')\n"
   ]
  },
  {
   "cell_type": "code",
   "execution_count": 30,
   "id": "6cd23adb",
   "metadata": {},
   "outputs": [],
   "source": [
    "Each_model_name = [] ##prepare for further used.\n",
    "Each_model_accuracy = {}\n",
    "Each_model_dict = {}\n",
    "knn_best_testing_predict_model = KNeighborsClassifier(n_neighbors=best_predict_k)\n",
    "Each_model_name.append('knn_model (k= {})'.format(best_predict_k))\n",
    "Each_model_dict['knn_model (k= {})'.format(best_predict_k)] = knn_best_testing_predict_model\n",
    "Each_model_accuracy['knn_model (k= {})'.format(best_predict_k)] = max(testing_accuracy)"
   ]
  },
  {
   "cell_type": "code",
   "execution_count": 31,
   "id": "7edcfecd",
   "metadata": {},
   "outputs": [
    {
     "data": {
      "text/plain": [
       "{'knn_model (k= 3)': 0.868421052631579}"
      ]
     },
     "execution_count": 31,
     "metadata": {},
     "output_type": "execute_result"
    }
   ],
   "source": [
    "Each_model_accuracy"
   ]
  },
  {
   "cell_type": "code",
   "execution_count": null,
   "id": "0233c8d3",
   "metadata": {},
   "outputs": [],
   "source": []
  },
  {
   "cell_type": "markdown",
   "id": "9fb02505",
   "metadata": {},
   "source": [
    "# Logistic Regression"
   ]
  },
  {
   "cell_type": "code",
   "execution_count": 32,
   "id": "ca3b8557",
   "metadata": {},
   "outputs": [
    {
     "name": "stdout",
     "output_type": "stream",
     "text": [
      "Traing Score: 0.8590308370044053\n",
      "Testing Score: 0.8421052631578947\n"
     ]
    }
   ],
   "source": [
    "from sklearn.linear_model import LogisticRegression\n",
    "logreg = LogisticRegression(C=10) ##\n",
    "logreg.fit(x_train, y_train)\n",
    "print('Traing Score:', logreg.score(x_train, y_train))\n",
    "print('Testing Score:', logreg.score(x_test, y_test))\n",
    "\n"
   ]
  },
  {
   "cell_type": "code",
   "execution_count": 33,
   "id": "9d04ac4f",
   "metadata": {},
   "outputs": [],
   "source": [
    "Each_model_name.append('Logistic Regression')\n",
    "Each_model_dict['Logistic Regression'] = logreg\n",
    "Each_model_accuracy['Logistic Regression']= logreg.score(x_test, y_test)"
   ]
  },
  {
   "cell_type": "markdown",
   "id": "85d80560",
   "metadata": {},
   "source": [
    "# Linear SVC"
   ]
  },
  {
   "cell_type": "code",
   "execution_count": 34,
   "id": "1f310c1c",
   "metadata": {},
   "outputs": [
    {
     "name": "stdout",
     "output_type": "stream",
     "text": [
      "Trainig Score: 0.8458149779735683\n",
      "Testing Score: 0.8421052631578947\n"
     ]
    }
   ],
   "source": [
    "from sklearn.svm import LinearSVC\n",
    "linearsvm = LinearSVC().fit(x_train,y_train)\n",
    "#print(\"Coefficient :\",linearsvm.coef_)\n",
    "#print(\"Intercept :\",linearsvm.intercept_)\n",
    "print(\"Trainig Score:\",linearsvm.score(x_train, y_train))\n",
    "print(\"Testing Score:\",linearsvm.score(x_test, y_test))"
   ]
  },
  {
   "cell_type": "code",
   "execution_count": 35,
   "id": "23fdc6fc",
   "metadata": {},
   "outputs": [],
   "source": [
    "Each_model_name.append('Linear SVC') \n",
    "Each_model_dict['Linear SVC'] = linearsvm\n",
    "Each_model_accuracy['Linear SVC']=linearsvm.score(x_test,y_test)"
   ]
  },
  {
   "cell_type": "markdown",
   "id": "eaa86fd6",
   "metadata": {},
   "source": [
    "# Decision Tree Classifier"
   ]
  },
  {
   "cell_type": "code",
   "execution_count": 36,
   "id": "f6a643ef",
   "metadata": {},
   "outputs": [
    {
     "name": "stdout",
     "output_type": "stream",
     "text": [
      "Training Accuracy 0.903\n",
      "Testing Accuracy 0.816\n"
     ]
    }
   ],
   "source": [
    "from sklearn.tree import DecisionTreeClassifier\n",
    "tree = DecisionTreeClassifier(max_depth=4)\n",
    "tree.fit(x_train,y_train)\n",
    "print(\"Training Accuracy {:.3f}\".format(tree.score(x_train,y_train)))\n",
    "print(\"Testing Accuracy {:.3f}\".format(tree.score(x_test,y_test)))"
   ]
  },
  {
   "cell_type": "markdown",
   "id": "24bc510d",
   "metadata": {},
   "source": [
    "###### cross validation for hyperparamter tunning of DecisionTreeClassifier model"
   ]
  },
  {
   "cell_type": "code",
   "execution_count": 37,
   "id": "b0f76f14",
   "metadata": {},
   "outputs": [
    {
     "name": "stdout",
     "output_type": "stream",
     "text": [
      "{'max_depth': 7, 'min_samples_leaf': 3, 'min_samples_split': 2} 0.7843478260869566\n",
      "Training Accuracy 0.925\n",
      "Testing Accuracy 0.816\n"
     ]
    }
   ],
   "source": [
    "from sklearn.model_selection import GridSearchCV\n",
    "param_test = {\n",
    "    'max_depth' : [2,3,4,5,6,7],\n",
    "    'min_samples_split' : [2,3,4,5],\n",
    "    'min_samples_leaf' :[2,3,4,5]\n",
    "}\n",
    "tree_cv = GridSearchCV(estimator= DecisionTreeClassifier(),\n",
    "                             param_grid = param_test,scoring='accuracy',\n",
    "                             n_jobs=-1,cv=5)\n",
    "tree_cv.fit(x_train,y_train)\n",
    "## This best score is the mean of five cross validation folds with the best hyperparamters. \n",
    "print(tree_cv.best_params_, tree_cv.best_score_)\n",
    "print(\"Training Accuracy {:.3f}\".format(tree_cv.score(x_train,y_train)))\n",
    "print(\"Testing Accuracy {:.3f}\".format(tree_cv.score(x_test,y_test)))"
   ]
  },
  {
   "cell_type": "code",
   "execution_count": 38,
   "id": "492dcd12",
   "metadata": {},
   "outputs": [],
   "source": [
    "Each_model_name.append('Decision Tree Classifier-after cv')\n",
    "Each_model_dict['Decision Tree Classifier-after cv'] = tree_cv"
   ]
  },
  {
   "cell_type": "code",
   "execution_count": 39,
   "id": "aacde77f",
   "metadata": {},
   "outputs": [],
   "source": [
    "Each_model_accuracy['Decision Tree Classifier-after cv'] = tree_cv.score(x_test,y_test)"
   ]
  },
  {
   "cell_type": "markdown",
   "id": "a8416d01",
   "metadata": {},
   "source": [
    "# MLP Classifier\n",
    "\n",
    "在sklearn中，MLP是利用隨機梯度或是LBFGS來做權重(參數)θ的計算。\n",
    "MLP意為多層類神經網路，即有輸入層、輸出層跟至少一個隱藏層。\n",
    "\n",
    "Multi-layer Perceptron classifier\n",
    "\n",
    "This model optimizes the log-loss function using LBFGS or stochastic gradient descent.\n",
    "\n",
    "it can learn a non-linear function approximator for either classification or regression. It is different from logistic regression, in that between the input and the output layer, there can be one or more non-linear layers, called hidden layers. Figure 1 shows a one hidden layer MLP with scalar output.\n",
    "\n",
    "參考網站：\n",
    "##### https://scikit-learn.org/stable/modules/neural_networks_supervised.html#mlp-tips\n",
    "##### https://martychen920.blogspot.com/2017/10/ml-mlpclassifier.html"
   ]
  },
  {
   "cell_type": "code",
   "execution_count": 40,
   "id": "901ddfd9",
   "metadata": {},
   "outputs": [
    {
     "name": "stdout",
     "output_type": "stream",
     "text": [
      "Training Accuracy 0.894\n",
      "Testing Accuracy 0.842\n"
     ]
    }
   ],
   "source": [
    "from sklearn.neural_network import MLPClassifier\n",
    "mlp = MLPClassifier().fit(x_train,y_train)\n",
    "print(\"Training Accuracy {:.3f}\".format(mlp.score(x_train,y_train)))\n",
    "print(\"Testing Accuracy {:.3f}\".format(mlp.score(x_test,y_test)))"
   ]
  },
  {
   "cell_type": "markdown",
   "id": "d49a593f",
   "metadata": {},
   "source": [
    "#### Cross validation for hyperparamter tunning of MLPClassifier model."
   ]
  },
  {
   "cell_type": "code",
   "execution_count": 41,
   "id": "99c45565",
   "metadata": {},
   "outputs": [
    {
     "name": "stdout",
     "output_type": "stream",
     "text": [
      "{'activation': 'logistic', 'alpha': 0.01, 'learning_rate': 'adaptive'} 0.8371014492753623\n",
      "Training Accuracy 0.841\n",
      "Testing Accuracy 0.829\n"
     ]
    }
   ],
   "source": [
    "param_test = {\n",
    "    'activation' : ['logistic', 'tanh', 'relu'],\n",
    "    'alpha' : [0.01,0.1,0.5,1],\n",
    "    'learning_rate' : ['adaptive']\n",
    "    \n",
    "}\n",
    "mlp_cv = GridSearchCV(estimator= MLPClassifier(),\n",
    "                             param_grid = param_test,scoring='accuracy',\n",
    "                             n_jobs=-1,cv=5)\n",
    "mlp_cv.fit(x_train,y_train)\n",
    "## This best score is the mean of five cross validation folds with the best hyperparamters. \n",
    "print(mlp_cv.best_params_, mlp_cv.best_score_)\n",
    "print(\"Training Accuracy {:.3f}\".format(mlp_cv.score(x_train,y_train)))\n",
    "print(\"Testing Accuracy {:.3f}\".format(mlp_cv.score(x_test,y_test)))"
   ]
  },
  {
   "cell_type": "code",
   "execution_count": 42,
   "id": "4161cc4c",
   "metadata": {},
   "outputs": [],
   "source": [
    "Each_model_name.append('MLP Classifier-after cv')\n",
    "Each_model_dict['MLP Classifier-after cv'] = mlp_cv"
   ]
  },
  {
   "cell_type": "code",
   "execution_count": 43,
   "id": "abbb97a9",
   "metadata": {},
   "outputs": [],
   "source": [
    "Each_model_accuracy['MLP Classifier-after cv'] = mlp_cv.score(x_test,y_test)"
   ]
  },
  {
   "cell_type": "code",
   "execution_count": null,
   "id": "67694122",
   "metadata": {},
   "outputs": [],
   "source": []
  },
  {
   "cell_type": "markdown",
   "id": "022d1623",
   "metadata": {},
   "source": [
    "# Random Forest Classifier"
   ]
  },
  {
   "cell_type": "code",
   "execution_count": 44,
   "id": "2835f67f",
   "metadata": {},
   "outputs": [
    {
     "name": "stdout",
     "output_type": "stream",
     "text": [
      "Training Accuracy 0.912\n",
      "Testing Accuracy 0.842\n"
     ]
    }
   ],
   "source": [
    "from sklearn.ensemble import RandomForestClassifier\n",
    "rf = RandomForestClassifier(n_estimators=500,max_depth=4).fit(x_train,y_train)\n",
    "print(\"Training Accuracy {:.3f}\".format(rf.score(x_train,y_train)))\n",
    "print(\"Testing Accuracy {:.3f}\".format(rf.score(x_test,y_test)))"
   ]
  },
  {
   "cell_type": "markdown",
   "id": "6e7c02ca",
   "metadata": {},
   "source": [
    "#### Cross validation for hyperparamter tunning of random forest classifier model."
   ]
  },
  {
   "cell_type": "code",
   "execution_count": 45,
   "id": "a20d6c04",
   "metadata": {},
   "outputs": [
    {
     "name": "stdout",
     "output_type": "stream",
     "text": [
      "{'max_depth': 3, 'min_samples_leaf': 3, 'min_samples_split': 3} 0.8368115942028986\n",
      "Training Accuracy 0.881\n",
      "Testing Accuracy 0.855\n"
     ]
    }
   ],
   "source": [
    "param_test = {\n",
    "    'max_depth' : [2,3,4,5,6,7],\n",
    "    'min_samples_split' : [2,3,4,5],\n",
    "    'min_samples_leaf' :[2,3,4,5]\n",
    "}\n",
    "rf_cv = GridSearchCV(estimator= RandomForestClassifier(n_estimators=500),\n",
    "                             param_grid = param_test,scoring='accuracy',\n",
    "                             n_jobs=-1,cv=5)\n",
    "rf_cv.fit(x_train,y_train)\n",
    "## This best score is the mean of five cross validation folds with the best hyperparamters. \n",
    "print(rf_cv.best_params_, rf_cv.best_score_)\n",
    "print(\"Training Accuracy {:.3f}\".format(rf_cv.score(x_train,y_train)))\n",
    "print(\"Testing Accuracy {:.3f}\".format(rf_cv.score(x_test,y_test)))"
   ]
  },
  {
   "cell_type": "code",
   "execution_count": 46,
   "id": "505ad0cf",
   "metadata": {},
   "outputs": [],
   "source": [
    "Each_model_name.append('Random Forest Classifier-after cv')\n",
    "Each_model_dict['Random Forest Classifier-after cv'] = rf_cv"
   ]
  },
  {
   "cell_type": "code",
   "execution_count": 47,
   "id": "a7d66322",
   "metadata": {},
   "outputs": [],
   "source": [
    "Each_model_accuracy['Random Forest Classifier-after cv'] = rf_cv.score(x_test,y_test)"
   ]
  },
  {
   "cell_type": "code",
   "execution_count": null,
   "id": "0ea69a14",
   "metadata": {},
   "outputs": [],
   "source": []
  },
  {
   "cell_type": "markdown",
   "id": "cfe5ba3b",
   "metadata": {},
   "source": [
    "# Grandient Boosting Classifier"
   ]
  },
  {
   "cell_type": "code",
   "execution_count": 48,
   "id": "6b84d5ce",
   "metadata": {},
   "outputs": [
    {
     "name": "stdout",
     "output_type": "stream",
     "text": [
      "Training Accuracy 1.000\n",
      "Testing Accuracy 0.763\n"
     ]
    }
   ],
   "source": [
    "from sklearn.ensemble import GradientBoostingClassifier\n",
    "gbrt = GradientBoostingClassifier()\n",
    "gbrt.fit(x_train,y_train)\n",
    "print(\"Training Accuracy {:.3f}\".format(gbrt.score(x_train, y_train)))\n",
    "print(\"Testing Accuracy {:.3f}\".format(gbrt.score(x_test, y_test)))\n"
   ]
  },
  {
   "cell_type": "markdown",
   "id": "6540c0ae",
   "metadata": {},
   "source": [
    "### cross validation for hyperparamter tunning of GradientBoostingClassifier model."
   ]
  },
  {
   "cell_type": "code",
   "execution_count": 49,
   "id": "9bb60447",
   "metadata": {},
   "outputs": [
    {
     "name": "stdout",
     "output_type": "stream",
     "text": [
      "{'max_depth': 5, 'min_samples_leaf': 7, 'min_samples_split': 5} 0.8105314009661836\n",
      "Training Accuracy 1.000\n",
      "Testing Accuracy 0.789\n"
     ]
    }
   ],
   "source": [
    "param_test = {\n",
    "    'max_depth' : [2,3,4,5,6,7],\n",
    "    'min_samples_split': np.arange(2, 12, 3),\n",
    "    'min_samples_leaf': np.arange(1, 10, 3)\n",
    "}\n",
    "gbrt_cv = GridSearchCV(estimator= GradientBoostingClassifier(n_estimators=1000),\n",
    "                             param_grid = param_test,scoring='accuracy',\n",
    "                             n_jobs=-1,cv=5)\n",
    "gbrt_cv.fit(x_train,y_train)\n",
    "print(gbrt_cv.best_params_, gbrt_cv.best_score_)\n",
    "print(\"Training Accuracy {:.3f}\".format(gbrt_cv.score(x_train,y_train)))\n",
    "print(\"Testing Accuracy {:.3f}\".format(gbrt_cv.score(x_test,y_test)))"
   ]
  },
  {
   "cell_type": "code",
   "execution_count": 50,
   "id": "2351a4c9",
   "metadata": {},
   "outputs": [],
   "source": [
    "Each_model_name.append('Grandient Boosting Classifier aftr_cv')\n",
    "Each_model_dict['Grandient Boosting Classifier aftr_cv'] = gbrt_cv"
   ]
  },
  {
   "cell_type": "code",
   "execution_count": 51,
   "id": "658a56e6",
   "metadata": {},
   "outputs": [],
   "source": [
    "Each_model_accuracy['Grandient Boosting Classifier aftr_cv'] = gbrt_cv.score(x_test,y_test)"
   ]
  },
  {
   "cell_type": "code",
   "execution_count": null,
   "id": "d78f7cd4",
   "metadata": {},
   "outputs": [],
   "source": []
  },
  {
   "cell_type": "markdown",
   "id": "343d14c0",
   "metadata": {},
   "source": [
    "# AdaBoost Classifier"
   ]
  },
  {
   "cell_type": "code",
   "execution_count": 52,
   "id": "a1489470",
   "metadata": {},
   "outputs": [
    {
     "name": "stdout",
     "output_type": "stream",
     "text": [
      "Training Accuracy 0.943\n",
      "Testing Accuracy 0.803\n"
     ]
    }
   ],
   "source": [
    "from sklearn.ensemble import AdaBoostClassifier\n",
    "ada = AdaBoostClassifier(n_estimators=1000,learning_rate=0.05)\n",
    "ada.fit(x_train,y_train)\n",
    "print(\"Training Accuracy {:.3f}\".format(ada.score(x_train,y_train)))\n",
    "print(\"Testing Accuracy {:.3f}\".format(ada.score(x_test,y_test)))"
   ]
  },
  {
   "cell_type": "code",
   "execution_count": 53,
   "id": "5db481e2",
   "metadata": {},
   "outputs": [],
   "source": [
    "Each_model_name.append('AdaBoost Classifier')\n",
    "Each_model_dict['AdaBoost Classifier'] = ada"
   ]
  },
  {
   "cell_type": "code",
   "execution_count": 54,
   "id": "6a088ad4",
   "metadata": {},
   "outputs": [],
   "source": [
    "Each_model_accuracy['AdaBoost Classifier'] = ada.score(x_test,y_test)"
   ]
  },
  {
   "cell_type": "code",
   "execution_count": null,
   "id": "48175567",
   "metadata": {},
   "outputs": [],
   "source": []
  },
  {
   "cell_type": "markdown",
   "id": "93a46e57",
   "metadata": {},
   "source": [
    "# LightGBM"
   ]
  },
  {
   "cell_type": "code",
   "execution_count": 55,
   "id": "f4bd377b",
   "metadata": {},
   "outputs": [
    {
     "name": "stdout",
     "output_type": "stream",
     "text": [
      "Training Accuracy 0.885\n",
      "Testing Accuracy 0.842\n"
     ]
    }
   ],
   "source": [
    "import lightgbm\n",
    "from lightgbm import LGBMClassifier\n",
    "lgbm = LGBMClassifier(max_depth=1,learning_rate=0.1,reg_alpha=0.05,reg_lambda=0.01)\n",
    "lgbm.fit(x_train, y_train)\n",
    "print(\"Training Accuracy {:.3f}\".format(lgbm.score(x_train,y_train)))\n",
    "print(\"Testing Accuracy {:.3f}\".format(lgbm.score(x_test,y_test)))"
   ]
  },
  {
   "cell_type": "code",
   "execution_count": 56,
   "id": "984fe9ce",
   "metadata": {},
   "outputs": [],
   "source": [
    "Each_model_name.append('LightGBM')\n",
    "Each_model_dict['LightGBM'] = lgbm"
   ]
  },
  {
   "cell_type": "code",
   "execution_count": 57,
   "id": "f0013bda",
   "metadata": {},
   "outputs": [],
   "source": [
    "Each_model_accuracy['LightGBM'] = lgbm.score(x_test,y_test)"
   ]
  },
  {
   "cell_type": "markdown",
   "id": "b9ca8d46",
   "metadata": {},
   "source": [
    "# Ensemble Bagging"
   ]
  },
  {
   "cell_type": "code",
   "execution_count": 58,
   "id": "0fed0ebc",
   "metadata": {},
   "outputs": [],
   "source": [
    "from sklearn.ensemble import BaggingClassifier\n",
    "from sklearn.naive_bayes import GaussianNB\n",
    "Ensemble_base_dict = {'DecisionTreeClassifier':DecisionTreeClassifier(), 'LinearSVC':LinearSVC(), 'GaussianNB':GaussianNB()}\n"
   ]
  },
  {
   "cell_type": "code",
   "execution_count": 59,
   "id": "8103c00e",
   "metadata": {},
   "outputs": [
    {
     "name": "stdout",
     "output_type": "stream",
     "text": [
      "Bagging Model : DecisionTreeClassifier\n",
      "Training Accuracy 0.960\n",
      "Testing Accuracy 0.776\n",
      "\n",
      "Bagging Model : LinearSVC\n",
      "Training Accuracy 0.784\n",
      "Testing Accuracy 0.842\n",
      "\n",
      "Bagging Model : GaussianNB\n",
      "Training Accuracy 0.824\n",
      "Testing Accuracy 0.868\n",
      "\n"
     ]
    }
   ],
   "source": [
    "for clf in Ensemble_base_dict:\n",
    "    bagging=BaggingClassifier(base_estimator=Ensemble_base_dict[clf],n_estimators=10,\n",
    "                          bootstrap=True,bootstrap_features=True,max_features=3,max_samples=0.7)\n",
    "    bagging.fit(x_train, y_train)\n",
    "    print('Bagging Model :', clf)\n",
    "    print(\"Training Accuracy {:.3f}\".format(bagging.score(x_train,y_train)))\n",
    "    print(\"Testing Accuracy {:.3f}\\n\".format(bagging.score(x_test,y_test)))\n",
    "    Each_model_dict[f'En_bagging({clf})'] = bagging\n",
    "    Each_model_name.append(f'En_bagging({clf})')\n",
    "    Each_model_accuracy[f'En_bagging({clf})'] = bagging.score(x_test,y_test)\n",
    "    "
   ]
  },
  {
   "cell_type": "code",
   "execution_count": null,
   "id": "088f1b7a",
   "metadata": {},
   "outputs": [],
   "source": []
  },
  {
   "cell_type": "markdown",
   "id": "229e5322",
   "metadata": {},
   "source": [
    "# Each Model ROC\n"
   ]
  },
  {
   "cell_type": "code",
   "execution_count": 61,
   "id": "e9af7818",
   "metadata": {},
   "outputs": [
    {
     "name": "stdout",
     "output_type": "stream",
     "text": [
      "knn_model (k= 3) : KNeighborsClassifier(n_neighbors=3)\n",
      "Logistic Regression : LogisticRegression(C=10)\n",
      "Linear SVC : LinearSVC()\n",
      "Decision Tree Classifier-after cv : GridSearchCV(cv=5, estimator=DecisionTreeClassifier(), n_jobs=-1,\n",
      "             param_grid={'max_depth': [2, 3, 4, 5, 6, 7],\n",
      "                         'min_samples_leaf': [2, 3, 4, 5],\n",
      "                         'min_samples_split': [2, 3, 4, 5]},\n",
      "             scoring='accuracy')\n",
      "MLP Classifier-after cv : GridSearchCV(cv=5, estimator=MLPClassifier(), n_jobs=-1,\n",
      "             param_grid={'activation': ['logistic', 'tanh', 'relu'],\n",
      "                         'alpha': [0.01, 0.1, 0.5, 1],\n",
      "                         'learning_rate': ['adaptive']},\n",
      "             scoring='accuracy')\n",
      "Random Forest Classifier-after cv : GridSearchCV(cv=5, estimator=RandomForestClassifier(n_estimators=500),\n",
      "             n_jobs=-1,\n",
      "             param_grid={'max_depth': [2, 3, 4, 5, 6, 7],\n",
      "                         'min_samples_leaf': [2, 3, 4, 5],\n",
      "                         'min_samples_split': [2, 3, 4, 5]},\n",
      "             scoring='accuracy')\n",
      "Grandient Boosting Classifier aftr_cv : GridSearchCV(cv=5, estimator=GradientBoostingClassifier(n_estimators=1000),\n",
      "             n_jobs=-1,\n",
      "             param_grid={'max_depth': [2, 3, 4, 5, 6, 7],\n",
      "                         'min_samples_leaf': array([1, 4, 7]),\n",
      "                         'min_samples_split': array([ 2,  5,  8, 11])},\n",
      "             scoring='accuracy')\n",
      "AdaBoost Classifier : AdaBoostClassifier(learning_rate=0.05, n_estimators=1000)\n",
      "LightGBM : LGBMClassifier(max_depth=1, reg_alpha=0.05, reg_lambda=0.01)\n",
      "En_bagging(DecisionTreeClassifier) : BaggingClassifier(base_estimator=DecisionTreeClassifier(),\n",
      "                  bootstrap_features=True, max_features=3, max_samples=0.7)\n",
      "En_bagging(LinearSVC) : BaggingClassifier(base_estimator=LinearSVC(), bootstrap_features=True,\n",
      "                  max_features=3, max_samples=0.7)\n",
      "En_bagging(GaussianNB) : BaggingClassifier(base_estimator=GaussianNB(), bootstrap_features=True,\n",
      "                  max_features=3, max_samples=0.7)\n"
     ]
    }
   ],
   "source": [
    "for name in Each_model_dict:\n",
    "    print(name, ':',Each_model_dict[name])"
   ]
  },
  {
   "cell_type": "code",
   "execution_count": 62,
   "id": "d643d3c4",
   "metadata": {},
   "outputs": [
    {
     "data": {
      "image/png": "[encoded data removed]",
      "text/plain": [
       "<Figure size 432x288 with 1 Axes>"
      ]
     },
     "metadata": {
      "needs_background": "light"
     },
     "output_type": "display_data"
    }
   ],
   "source": [
    "from sklearn.metrics import plot_roc_curve, roc_curve, roc_auc_score, auc\n",
    "\n",
    "for name in Each_model_dict:\n",
    "    Each_model_dict[name].fit(x_test, y_test)\n",
    "    ax = plt.gca()\n",
    "    plt.plot(ax=ax, alpha=0.8)\n",
    "    plot_roc_curve(Each_model_dict[name], x_test, y_test, ax=ax, alpha=0.8)\n",
    "plt.plot([0, 1], [0, 1],'r--',label ='AUC = 0.50')\n",
    "plt.show()"
   ]
  },
  {
   "cell_type": "code",
   "execution_count": 64,
   "id": "dfb5339d",
   "metadata": {},
   "outputs": [
    {
     "data": {
      "image/png": "[encoded data removed]",
      "text/plain": [
       "<Figure size 432x288 with 1 Axes>"
      ]
     },
     "metadata": {
      "needs_background": "light"
     },
     "output_type": "display_data"
    }
   ],
   "source": [
    "#change marking model name and legend area make it more clear \n",
    "for name in Each_model_dict:\n",
    "    Each_model_dict[name].fit(x_test, y_test)\n",
    "    ax = plt.gca()\n",
    "    plt.plot(ax=ax, alpha=0.8)\n",
    "    plot_roc_curve(Each_model_dict[name], x_test, y_test, ax=ax, alpha=0.8)\n",
    "plt.plot([0, 1], [0, 1],'r--',label ='AUC = 0.50')\n",
    "ax.legend(Each_model_name,bbox_to_anchor=(1.05, 1), loc='upper left', borderaxespad=0.)\n",
    "plt.show()\n",
    "\n"
   ]
  },
  {
   "cell_type": "code",
   "execution_count": null,
   "id": "e6406e3a",
   "metadata": {},
   "outputs": [],
   "source": []
  },
  {
   "cell_type": "markdown",
   "id": "2a0c6377",
   "metadata": {},
   "source": [
    "# Final score of models"
   ]
  },
  {
   "cell_type": "code",
   "execution_count": 65,
   "id": "fc6ab4de",
   "metadata": {},
   "outputs": [
    {
     "data": {
      "text/plain": [
       "['knn_model (k= 3)',\n",
       " 'Logistic Regression',\n",
       " 'Linear SVC',\n",
       " 'Decision Tree Classifier-after cv',\n",
       " 'MLP Classifier-after cv',\n",
       " 'Random Forest Classifier-after cv',\n",
       " 'Grandient Boosting Classifier aftr_cv',\n",
       " 'AdaBoost Classifier',\n",
       " 'LightGBM',\n",
       " 'En_bagging(DecisionTreeClassifier)',\n",
       " 'En_bagging(LinearSVC)',\n",
       " 'En_bagging(GaussianNB)']"
      ]
     },
     "execution_count": 65,
     "metadata": {},
     "output_type": "execute_result"
    }
   ],
   "source": [
    "Each_model_name"
   ]
  },
  {
   "cell_type": "code",
   "execution_count": 67,
   "id": "38d51933",
   "metadata": {},
   "outputs": [
    {
     "name": "stdout",
     "output_type": "stream",
     "text": [
      "The score of knn_model (k= 3)                           : 0.868\n",
      "The score of Logistic Regression                        : 0.842\n",
      "The score of Linear SVC                                 : 0.842\n",
      "The score of Decision Tree Classifier-after cv          : 0.816\n",
      "The score of MLP Classifier-after cv                    : 0.829\n",
      "The score of Random Forest Classifier-after cv          : 0.855\n",
      "The score of Grandient Boosting Classifier aftr_cv      : 0.789\n",
      "The score of AdaBoost Classifier                        : 0.803\n",
      "The score of LightGBM                                   : 0.842\n",
      "The score of En_bagging(DecisionTreeClassifier)         : 0.776\n",
      "The score of En_bagging(LinearSVC)                      : 0.842\n",
      "The score of En_bagging(GaussianNB)                     : 0.868\n"
     ]
    }
   ],
   "source": [
    "for fun_name in Each_model_name:\n",
    "    print('The score of {:<40}   : {:.3f}'.format(fun_name, Each_model_accuracy[fun_name]))"
   ]
  },
  {
   "cell_type": "code",
   "execution_count": 69,
   "id": "50b78945",
   "metadata": {},
   "outputs": [
    {
     "name": "stdout",
     "output_type": "stream",
     "text": [
      "knn_model (k= 3)                        : 0.868421052631579\n",
      "En_bagging(GaussianNB)                  : 0.868421052631579\n",
      "Random Forest Classifier-after cv       : 0.8552631578947368\n",
      "Logistic Regression                     : 0.8421052631578947\n",
      "Linear SVC                              : 0.8421052631578947\n",
      "LightGBM                                : 0.8421052631578947\n",
      "En_bagging(LinearSVC)                   : 0.8421052631578947\n",
      "MLP Classifier-after cv                 : 0.8289473684210527\n",
      "Decision Tree Classifier-after cv       : 0.8157894736842105\n",
      "AdaBoost Classifier                     : 0.8026315789473685\n",
      "Grandient Boosting Classifier aftr_cv   : 0.7894736842105263\n",
      "En_bagging(DecisionTreeClassifier)      : 0.7763157894736842\n"
     ]
    }
   ],
   "source": [
    "Function_sorted_by_accuracy = sorted(Each_model_accuracy.items(), key=lambda x:x[1], reverse=True)\n",
    "for name in Function_sorted_by_accuracy:\n",
    "    print('{:<40}: {}'.format(name[0], name[1]))"
   ]
  },
  {
   "cell_type": "code",
   "execution_count": 71,
   "id": "318d78eb",
   "metadata": {},
   "outputs": [
    {
     "data": {
      "image/png": "[encoded data removed]",
      "text/plain": [
       "<Figure size 432x288 with 1 Axes>"
      ]
     },
     "metadata": {},
     "output_type": "display_data"
    }
   ],
   "source": [
    "plt.clf() #clean old plot\n",
    "Each_model_accuracy_list = [] \n",
    "Sorted_model_name_list = []\n",
    "for name in Function_sorted_by_accuracy:\n",
    "    Each_model_accuracy_list.append(Each_model_accuracy[name[0]])\n",
    "    Sorted_model_name_list.append(name[0])\n",
    "    \n",
    "## let picture from high to low\n",
    "Sorted_model_name_list.reverse()  \n",
    "Each_model_accuracy_list.reverse()\n",
    "\n",
    "plt.barh(Sorted_model_name_list, height =0.35, width = Each_model_accuracy_list, alpha = 0.8)\n",
    "plt.title('Each model accuracy')\n",
    "sns.set(color_codes=True)\n",
    "plt.show()"
   ]
  },
  {
   "cell_type": "code",
   "execution_count": 79,
   "id": "5c0c4f2c",
   "metadata": {},
   "outputs": [
    {
     "name": "stdout",
     "output_type": "stream",
     "text": [
      "For best 5 accuracy model in this test:\n",
      "    Model name    |     Accuracy    \n",
      "('knn_model (k= 3)', 0.868421052631579)\n",
      "('En_bagging(GaussianNB)', 0.868421052631579)\n",
      "('Random Forest Classifier-after cv', 0.8552631578947368)\n",
      "('Logistic Regression', 0.8421052631578947)\n",
      "('Linear SVC', 0.8421052631578947)\n"
     ]
    }
   ],
   "source": [
    "print('For best 5 accuracy model in this test:')\n",
    "print('    Model name    |     Accuracy    ')\n",
    "for i in range(5):\n",
    "    print(Function_sorted_by_accuracy[i])"
   ]
  },
  {
   "cell_type": "code",
   "execution_count": null,
   "id": "e995b19e",
   "metadata": {},
   "outputs": [],
   "source": []
  },
  {
   "cell_type": "code",
   "execution_count": null,
   "id": "b1964618",
   "metadata": {},
   "outputs": [],
   "source": []
  },
  {
   "cell_type": "code",
   "execution_count": null,
   "id": "c897f498",
   "metadata": {},
   "outputs": [],
   "source": []
  }
 ],
 "metadata": {
  "kernelspec": {
   "display_name": "Python 3",
   "language": "python",
   "name": "python3"
  },
  "language_info": {
   "codemirror_mode": {
    "name": "ipython",
    "version": 3
   },
   "file_extension": ".py",
   "mimetype": "text/x-python",
   "name": "python",
   "nbconvert_exporter": "python",
   "pygments_lexer": "ipython3",
   "version": "3.8.8"
  }
 },
 "nbformat": 4,
 "nbformat_minor": 5
}
