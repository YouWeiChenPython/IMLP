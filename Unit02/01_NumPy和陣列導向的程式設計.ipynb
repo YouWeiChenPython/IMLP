{
 "cells": [
  {
   "cell_type": "markdown",
   "metadata": {},
   "source": [
    "# NumPy 和陣列導向的程式設計\n",
    "\n",
    "`NumPy` 可以說是 Python 中最最標準的科學計算、數據分析套件。也因為 `NumPy` 的出現, 讓 Python 有了非常好的數據分析基礎, 一直到現在成為數據分析覇主。"
   ]
  },
  {
   "cell_type": "code",
   "execution_count": 1,
   "metadata": {},
   "outputs": [],
   "source": [
    "import numpy as np"
   ]
  },
  {
   "cell_type": "markdown",
   "metadata": {},
   "source": [
    "## 1. 陣列導向 101\n",
    "\n",
    "科學計算一個很核心的概念叫 \"array oriented\" 的寫法。Array 是 `numpy` 標準的資料結構, 和 list 很像, 但就差了那麼一點點。而這一點點讓我們在計算上是無比的方便。"
   ]
  },
  {
   "cell_type": "markdown",
   "metadata": {},
   "source": [
    "### 【暖身】 計算平均\n",
    "\n",
    "某位同學期中考各科成績如下, 請幫他計算成績。\n",
    "\n",
    "    grades = [77, 85, 56, 90, 66]\n",
    "    \n",
    "請計算平均。"
   ]
  },
  {
   "cell_type": "code",
   "execution_count": 5,
   "metadata": {},
   "outputs": [
    {
     "name": "stdout",
     "output_type": "stream",
     "text": [
      "平均:  74.8\n"
     ]
    }
   ],
   "source": [
    "grades = [77, 85, 56, 90, 66]\n",
    "grades_sum = sum(grades)\n",
    "grades_mean = grades_sum / len(grades)\n",
    "print('平均: ', grades_mean)"
   ]
  },
  {
   "cell_type": "markdown",
   "metadata": {},
   "source": [
    "### 【示範】陣列導向"
   ]
  },
  {
   "cell_type": "code",
   "execution_count": 4,
   "metadata": {},
   "outputs": [
    {
     "name": "stdout",
     "output_type": "stream",
     "text": [
      "平均:  74.8\n"
     ]
    }
   ],
   "source": [
    "grades = np.array([77, 85, 56, 90, 66])\n",
    "print('平均: ', np.mean(grades))"
   ]
  },
  {
   "cell_type": "markdown",
   "metadata": {},
   "source": [
    "最大值"
   ]
  },
  {
   "cell_type": "code",
   "execution_count": 7,
   "metadata": {},
   "outputs": [
    {
     "name": "stdout",
     "output_type": "stream",
     "text": [
      "最大值:  90\n"
     ]
    }
   ],
   "source": [
    "print('最大值: ', np.max(grades))"
   ]
  },
  {
   "cell_type": "markdown",
   "metadata": {},
   "source": [
    "標準差"
   ]
  },
  {
   "cell_type": "code",
   "execution_count": 8,
   "metadata": {},
   "outputs": [
    {
     "name": "stdout",
     "output_type": "stream",
     "text": [
      "標準差:  12.416118556135006\n"
     ]
    }
   ],
   "source": [
    "print('標準差: ', np.std(grades))"
   ]
  },
  {
   "cell_type": "markdown",
   "metadata": {},
   "source": [
    "### 【暖身】 換算匯率\n",
    "\n",
    "假設今天我想查查號稱 Pentax 三公主的 31mm, 43mm, 77mm 三隻 limited 鏡頭在美國賣多少。於是我去 B&H 查了他們的價格分別是:\n",
    "\n",
    "    prices = [1096.95, 596.95, 896.95]\n",
    "    \n",
    "我又查了 Google 匯率 1 美金為 31.71 元。請把三支鏡頭的價格換算為台幣。"
   ]
  },
  {
   "cell_type": "code",
   "execution_count": 11,
   "metadata": {},
   "outputs": [
    {
     "name": "stdout",
     "output_type": "stream",
     "text": [
      "價格是 :  [34784.2845, 18929.2845, 28442.2845]\n"
     ]
    }
   ],
   "source": [
    "prices = [1096.95, 596.95, 896.95]\n",
    "us_exchange_rate = 31.71\n",
    "prices_us = []\n",
    "for price in prices:\n",
    "    prices_us.append(price*us_exchange_rate)\n",
    "print('價格是 : ', prices_us)"
   ]
  },
  {
   "cell_type": "markdown",
   "metadata": {},
   "source": [
    "先不管這實在有夠醜的數字, 我們要記得在科學計算中:\n",
    "\n",
    "### 儘可能不要使用迴圈\n",
    "\n",
    "這可能嗎?"
   ]
  },
  {
   "cell_type": "markdown",
   "metadata": {},
   "source": [
    "### 【示範】陣列換算匯率"
   ]
  },
  {
   "cell_type": "code",
   "execution_count": 13,
   "metadata": {},
   "outputs": [
    {
     "name": "stdout",
     "output_type": "stream",
     "text": [
      "價格是: [34784.2845 18929.2845 28442.2845]\n"
     ]
    }
   ],
   "source": [
    "prices = np.array([1096.95, 596.95, 896.95])\n",
    "us_exchange_rate = 31.71\n",
    "print('價格是:', prices*us_exchange_rate )"
   ]
  },
  {
   "cell_type": "markdown",
   "metadata": {},
   "source": [
    "哦哦, 傑克, 這太神奇了!"
   ]
  },
  {
   "cell_type": "markdown",
   "metadata": {},
   "source": [
    "## 2. 其實 array 還有很多功能\n",
    "\n",
    "### 【練習】 成績計算\n",
    "\n",
    "一位老師成績這樣算的:\n",
    "\n",
    "* 平時成績 20%\n",
    "* 期中考   35%\n",
    "* 期未考   45%\n",
    "\n",
    "有位同學\n",
    "\n",
    "* 平時成績 85 分\n",
    "* 期中 70 分\n",
    "* 期末 80 分\n",
    "\n",
    "這位同學的學期成績是多少?"
   ]
  },
  {
   "cell_type": "code",
   "execution_count": 14,
   "metadata": {},
   "outputs": [],
   "source": [
    "grades = np.array([85,70,80])\n",
    "weights = np.array([0.2, 0.35, 0.45])"
   ]
  },
  {
   "cell_type": "markdown",
   "metadata": {},
   "source": [
    "這還不是我們要的最終成績啊!"
   ]
  },
  {
   "cell_type": "code",
   "execution_count": 18,
   "metadata": {},
   "outputs": [
    {
     "data": {
      "text/plain": [
       "array([17. , 24.5, 36. ])"
      ]
     },
     "execution_count": 18,
     "metadata": {},
     "output_type": "execute_result"
    }
   ],
   "source": [
    "weights_grades = grades*weights\n",
    "weights_grades"
   ]
  },
  {
   "cell_type": "markdown",
   "metadata": {},
   "source": [
    "### 【提示】 array 還有很多函數可以用\n",
    "\n",
    "可以先打入\n",
    "\n",
    "    weighted_grades.\n",
    "    \n",
    "先不要按 `enter` 或 `shift-enter`, 而是按 `tab`...\n"
   ]
  },
  {
   "cell_type": "code",
   "execution_count": 19,
   "metadata": {},
   "outputs": [
    {
     "name": "stdout",
     "output_type": "stream",
     "text": [
      "學期成績是: 77.5\n"
     ]
    }
   ],
   "source": [
    "print('學期成績是:', weights_grades.sum())"
   ]
  },
  {
   "cell_type": "markdown",
   "metadata": {},
   "source": [
    "### 【技巧】 一行完成成績計算"
   ]
  },
  {
   "cell_type": "code",
   "execution_count": 20,
   "metadata": {},
   "outputs": [
    {
     "name": "stdout",
     "output_type": "stream",
     "text": [
      "學期成績是: 77.5\n"
     ]
    }
   ],
   "source": [
    "print('學期成績是:', grades.dot(weights))"
   ]
  },
  {
   "cell_type": "markdown",
   "metadata": {},
   "source": [
    "## 3. 重要的 array 大變身!\n",
    "\n",
    "我們在數據分析, 常常要改 array 的型式。"
   ]
  },
  {
   "cell_type": "markdown",
   "metadata": {},
   "source": [
    "### 【練習】 一個 50 個數字的 array\n",
    "\n",
    "先想辦法、用亂數做出 50 個數字的 array, 叫做 A 好了。"
   ]
  },
  {
   "cell_type": "code",
   "execution_count": 21,
   "metadata": {},
   "outputs": [
    {
     "data": {
      "text/plain": [
       "array([0.96522587, 0.03047427, 0.38174842, 0.67584046, 0.62636938,\n",
       "       0.16663746, 0.05416443, 0.28057919, 0.19422794, 0.61597246,\n",
       "       0.91709227, 0.33624407, 0.56200576, 0.49618563, 0.97997417,\n",
       "       0.57148204, 0.46801601, 0.11837769, 0.34260019, 0.18917094,\n",
       "       0.86161108, 0.68959719, 0.52383363, 0.88314194, 0.38000624,\n",
       "       0.12117765, 0.46574906, 0.77864383, 0.6056969 , 0.28416255,\n",
       "       0.92287997, 0.58839154, 0.85321409, 0.99889314, 0.92921384,\n",
       "       0.80816348, 0.68829285, 0.0723219 , 0.7662367 , 0.64012979,\n",
       "       0.74161973, 0.09064452, 0.33256158, 0.80934536, 0.10814302,\n",
       "       0.30772727, 0.38572029, 0.92092131, 0.93506478, 0.02009238])"
      ]
     },
     "execution_count": 21,
     "metadata": {},
     "output_type": "execute_result"
    }
   ],
   "source": [
    "A = np.random.rand(50)\n",
    "A"
   ]
  },
  {
   "cell_type": "code",
   "execution_count": 30,
   "metadata": {},
   "outputs": [
    {
     "data": {
      "text/plain": [
       "0.737223397267063"
      ]
     },
     "execution_count": 30,
     "metadata": {},
     "output_type": "execute_result"
    }
   ],
   "source": []
  },
  {
   "cell_type": "markdown",
   "metadata": {},
   "source": [
    "### 【技巧】 檢查 A 的 `shape`"
   ]
  },
  {
   "cell_type": "code",
   "execution_count": 22,
   "metadata": {},
   "outputs": [
    {
     "data": {
      "text/plain": [
       "(50,)"
      ]
     },
     "execution_count": 22,
     "metadata": {},
     "output_type": "execute_result"
    }
   ],
   "source": [
    "A.shape"
   ]
  },
  {
   "cell_type": "markdown",
   "metadata": {},
   "source": [
    "### 【技巧】 更改 A 的 shape"
   ]
  },
  {
   "cell_type": "code",
   "execution_count": 23,
   "metadata": {},
   "outputs": [
    {
     "data": {
      "text/plain": [
       "array([[0.96522587, 0.03047427, 0.38174842, 0.67584046, 0.62636938,\n",
       "        0.16663746, 0.05416443, 0.28057919, 0.19422794, 0.61597246],\n",
       "       [0.91709227, 0.33624407, 0.56200576, 0.49618563, 0.97997417,\n",
       "        0.57148204, 0.46801601, 0.11837769, 0.34260019, 0.18917094],\n",
       "       [0.86161108, 0.68959719, 0.52383363, 0.88314194, 0.38000624,\n",
       "        0.12117765, 0.46574906, 0.77864383, 0.6056969 , 0.28416255],\n",
       "       [0.92287997, 0.58839154, 0.85321409, 0.99889314, 0.92921384,\n",
       "        0.80816348, 0.68829285, 0.0723219 , 0.7662367 , 0.64012979],\n",
       "       [0.74161973, 0.09064452, 0.33256158, 0.80934536, 0.10814302,\n",
       "        0.30772727, 0.38572029, 0.92092131, 0.93506478, 0.02009238]])"
      ]
     },
     "execution_count": 23,
     "metadata": {},
     "output_type": "execute_result"
    }
   ],
   "source": [
    "A.shape = 5,-1\n",
    "A"
   ]
  },
  {
   "cell_type": "markdown",
   "metadata": {},
   "source": [
    "### 【技巧】 也可以用 `reshape`\n",
    "\n",
    "但要注意, reshape 並沒有改原來的陣列。"
   ]
  },
  {
   "cell_type": "code",
   "execution_count": 24,
   "metadata": {},
   "outputs": [
    {
     "data": {
      "text/plain": [
       "array([[0.96522587, 0.03047427, 0.38174842, 0.67584046, 0.62636938],\n",
       "       [0.16663746, 0.05416443, 0.28057919, 0.19422794, 0.61597246],\n",
       "       [0.91709227, 0.33624407, 0.56200576, 0.49618563, 0.97997417],\n",
       "       [0.57148204, 0.46801601, 0.11837769, 0.34260019, 0.18917094],\n",
       "       [0.86161108, 0.68959719, 0.52383363, 0.88314194, 0.38000624],\n",
       "       [0.12117765, 0.46574906, 0.77864383, 0.6056969 , 0.28416255],\n",
       "       [0.92287997, 0.58839154, 0.85321409, 0.99889314, 0.92921384],\n",
       "       [0.80816348, 0.68829285, 0.0723219 , 0.7662367 , 0.64012979],\n",
       "       [0.74161973, 0.09064452, 0.33256158, 0.80934536, 0.10814302],\n",
       "       [0.30772727, 0.38572029, 0.92092131, 0.93506478, 0.02009238]])"
      ]
     },
     "execution_count": 24,
     "metadata": {},
     "output_type": "execute_result"
    }
   ],
   "source": [
    "A.reshape(10,-1)"
   ]
  },
  {
   "cell_type": "markdown",
   "metadata": {},
   "source": [
    "### 【技巧】 拉平 `ravel`\n",
    "\n",
    "雖然你想一想就知道可以用 `shape` 或 `reshape` 把多維陣列拉成一維。不過用 `ravel` 很潮。"
   ]
  },
  {
   "cell_type": "code",
   "execution_count": 25,
   "metadata": {},
   "outputs": [
    {
     "data": {
      "text/plain": [
       "array([0.96522587, 0.03047427, 0.38174842, 0.67584046, 0.62636938,\n",
       "       0.16663746, 0.05416443, 0.28057919, 0.19422794, 0.61597246,\n",
       "       0.91709227, 0.33624407, 0.56200576, 0.49618563, 0.97997417,\n",
       "       0.57148204, 0.46801601, 0.11837769, 0.34260019, 0.18917094,\n",
       "       0.86161108, 0.68959719, 0.52383363, 0.88314194, 0.38000624,\n",
       "       0.12117765, 0.46574906, 0.77864383, 0.6056969 , 0.28416255,\n",
       "       0.92287997, 0.58839154, 0.85321409, 0.99889314, 0.92921384,\n",
       "       0.80816348, 0.68829285, 0.0723219 , 0.7662367 , 0.64012979,\n",
       "       0.74161973, 0.09064452, 0.33256158, 0.80934536, 0.10814302,\n",
       "       0.30772727, 0.38572029, 0.92092131, 0.93506478, 0.02009238])"
      ]
     },
     "execution_count": 25,
     "metadata": {},
     "output_type": "execute_result"
    }
   ],
   "source": [
    "A.ravel()"
   ]
  },
  {
   "cell_type": "markdown",
   "metadata": {},
   "source": [
    "## 4. 快速 array 生成法"
   ]
  },
  {
   "cell_type": "markdown",
   "metadata": {},
   "source": [
    "### 【技巧】 都是 0 的 array"
   ]
  },
  {
   "cell_type": "code",
   "execution_count": 26,
   "metadata": {},
   "outputs": [
    {
     "data": {
      "text/plain": [
       "array([0., 0., 0., 0., 0., 0., 0., 0., 0., 0., 0., 0., 0., 0., 0., 0., 0.,\n",
       "       0., 0., 0., 0., 0., 0., 0., 0., 0., 0., 0., 0., 0., 0., 0., 0., 0.,\n",
       "       0., 0., 0., 0., 0., 0., 0., 0., 0., 0., 0., 0., 0., 0., 0., 0.])"
      ]
     },
     "execution_count": 26,
     "metadata": {},
     "output_type": "execute_result"
    }
   ],
   "source": [
    "A = np.zeros(50)\n",
    "A"
   ]
  },
  {
   "cell_type": "markdown",
   "metadata": {},
   "source": [
    "### 【技巧】 都是 1 的 array"
   ]
  },
  {
   "cell_type": "code",
   "execution_count": 27,
   "metadata": {},
   "outputs": [
    {
     "data": {
      "text/plain": [
       "array([1., 1., 1., 1., 1., 1., 1., 1., 1., 1., 1., 1., 1., 1., 1., 1., 1.,\n",
       "       1., 1., 1., 1., 1., 1., 1., 1., 1., 1., 1., 1., 1., 1., 1., 1., 1.,\n",
       "       1., 1., 1., 1., 1., 1., 1., 1., 1., 1., 1., 1., 1., 1., 1., 1.])"
      ]
     },
     "execution_count": 27,
     "metadata": {},
     "output_type": "execute_result"
    }
   ],
   "source": [
    "A = np.ones(50)\n",
    "A"
   ]
  },
  {
   "cell_type": "markdown",
   "metadata": {},
   "source": [
    "### 【技巧】單位矩陣"
   ]
  },
  {
   "cell_type": "code",
   "execution_count": 29,
   "metadata": {},
   "outputs": [
    {
     "data": {
      "text/plain": [
       "array([[1., 0., 0., 0., 0., 0., 0., 0., 0., 0.],\n",
       "       [0., 1., 0., 0., 0., 0., 0., 0., 0., 0.],\n",
       "       [0., 0., 1., 0., 0., 0., 0., 0., 0., 0.],\n",
       "       [0., 0., 0., 1., 0., 0., 0., 0., 0., 0.],\n",
       "       [0., 0., 0., 0., 1., 0., 0., 0., 0., 0.],\n",
       "       [0., 0., 0., 0., 0., 1., 0., 0., 0., 0.],\n",
       "       [0., 0., 0., 0., 0., 0., 1., 0., 0., 0.],\n",
       "       [0., 0., 0., 0., 0., 0., 0., 1., 0., 0.],\n",
       "       [0., 0., 0., 0., 0., 0., 0., 0., 1., 0.],\n",
       "       [0., 0., 0., 0., 0., 0., 0., 0., 0., 1.]])"
      ]
     },
     "execution_count": 29,
     "metadata": {},
     "output_type": "execute_result"
    }
   ],
   "source": [
    "A = np.eye(10)\n",
    "A"
   ]
  },
  {
   "cell_type": "markdown",
   "metadata": {},
   "source": [
    "### 【技巧】給定範圍均勻生出 n 個點"
   ]
  },
  {
   "cell_type": "code",
   "execution_count": 30,
   "metadata": {},
   "outputs": [
    {
     "data": {
      "text/plain": [
       "array([  0.,  25.,  50.,  75., 100.])"
      ]
     },
     "execution_count": 30,
     "metadata": {},
     "output_type": "execute_result"
    }
   ],
   "source": [
    "np.linspace(0,100,5)"
   ]
  },
  {
   "cell_type": "markdown",
   "metadata": {},
   "source": [
    "### 【技巧】`range` 的 array 版\n",
    "\n",
    "就是 `arange`。"
   ]
  },
  {
   "cell_type": "code",
   "execution_count": 31,
   "metadata": {},
   "outputs": [
    {
     "data": {
      "text/plain": [
       "array([ 1,  2,  3,  4,  5,  6,  7,  8,  9, 10, 11, 12, 13, 14, 15, 16, 17,\n",
       "       18, 19, 20, 21, 22, 23, 24, 25, 26, 27, 28, 29, 30, 31, 32, 33, 34,\n",
       "       35, 36, 37, 38, 39, 40, 41, 42, 43, 44, 45, 46, 47, 48, 49, 50, 51,\n",
       "       52, 53, 54, 55, 56, 57, 58, 59, 60, 61, 62, 63, 64, 65, 66, 67, 68,\n",
       "       69, 70, 71, 72, 73, 74, 75, 76, 77, 78, 79, 80, 81, 82, 83, 84, 85,\n",
       "       86, 87, 88, 89, 90, 91, 92, 93, 94, 95, 96, 97, 98, 99])"
      ]
     },
     "execution_count": 31,
     "metadata": {},
     "output_type": "execute_result"
    }
   ],
   "source": [
    "np.arange(1,100)"
   ]
  },
  {
   "cell_type": "markdown",
   "metadata": {},
   "source": [
    "## 5. 超重要 `axis` 觀念\n",
    "\n",
    "初學 `numpy` 很多人有點弄不清楚 `axis` 概念。其實掌握矩陣, 或很像矩陣的陣列都是「先列後行」就可以!\n",
    "\n",
    "我們先弄個 array 來練習。"
   ]
  },
  {
   "cell_type": "code",
   "execution_count": 34,
   "metadata": {},
   "outputs": [
    {
     "data": {
      "text/plain": [
       "array([[ 0,  1,  2,  3,  4,  5,  6,  7,  8,  9],\n",
       "       [10, 11, 12, 13, 14, 15, 16, 17, 18, 19]])"
      ]
     },
     "execution_count": 34,
     "metadata": {},
     "output_type": "execute_result"
    }
   ],
   "source": [
    "A = np.arange(0,20).reshape(2,-1)\n",
    "A"
   ]
  },
  {
   "cell_type": "markdown",
   "metadata": {},
   "source": [
    "### 【重點】 一列一列算下來是 `axis=0`"
   ]
  },
  {
   "cell_type": "markdown",
   "metadata": {},
   "source": [
    "![axis=0](images/axis0.png)"
   ]
  },
  {
   "cell_type": "code",
   "execution_count": 35,
   "metadata": {},
   "outputs": [
    {
     "data": {
      "text/plain": [
       "array([10, 12, 14, 16, 18, 20, 22, 24, 26, 28])"
      ]
     },
     "execution_count": 35,
     "metadata": {},
     "output_type": "execute_result"
    }
   ],
   "source": [
    "A.sum(axis=0)"
   ]
  },
  {
   "cell_type": "markdown",
   "metadata": {},
   "source": [
    "### 【重點】 一行一行算過去是 `axis=1`\n",
    "\n",
    "![axis=1](images/axis1.png)"
   ]
  },
  {
   "cell_type": "code",
   "execution_count": 36,
   "metadata": {},
   "outputs": [
    {
     "data": {
      "text/plain": [
       "array([ 45, 145])"
      ]
     },
     "execution_count": 36,
     "metadata": {},
     "output_type": "execute_result"
    }
   ],
   "source": [
    "A.sum(axis = 1)"
   ]
  },
  {
   "cell_type": "markdown",
   "metadata": {},
   "source": [
    "### 【提示】當然也有可能全部算"
   ]
  },
  {
   "cell_type": "code",
   "execution_count": 37,
   "metadata": {},
   "outputs": [
    {
     "data": {
      "text/plain": [
       "190"
      ]
     },
     "execution_count": 37,
     "metadata": {},
     "output_type": "execute_result"
    }
   ],
   "source": [
    "A.sum()"
   ]
  },
  {
   "cell_type": "markdown",
   "metadata": {},
   "source": [
    "## 6. array 過濾器\n",
    "\n",
    "篩出我們要的資料, 這樣的技巧非常重要!"
   ]
  },
  {
   "cell_type": "markdown",
   "metadata": {},
   "source": [
    "### 【例子】篩出大於 0 的數\n",
    "\n",
    "我們有個陣列, 想找出大於 0 的數。<br>\n",
    "L = np.array([3, -2, -1, 5, 7, -3])"
   ]
  },
  {
   "cell_type": "code",
   "execution_count": 39,
   "metadata": {},
   "outputs": [],
   "source": [
    "L = np.array([3, -2, -1, 5, 7, -3])"
   ]
  },
  {
   "cell_type": "markdown",
   "metadata": {},
   "source": [
    "我們可以很白痴的自己判斷...<br>\n",
    "c = np.array([True,False,False,True,True,False])"
   ]
  },
  {
   "cell_type": "code",
   "execution_count": 40,
   "metadata": {},
   "outputs": [],
   "source": [
    "c = np.array([True,False,False,True,True,False])"
   ]
  },
  {
   "cell_type": "markdown",
   "metadata": {},
   "source": [
    "這是做啥呢? 我們可以瞬間..."
   ]
  },
  {
   "cell_type": "code",
   "execution_count": 41,
   "metadata": {},
   "outputs": [
    {
     "data": {
      "text/plain": [
       "array([3, 5, 7])"
      ]
     },
     "execution_count": 41,
     "metadata": {},
     "output_type": "execute_result"
    }
   ],
   "source": [
    "L[c]"
   ]
  },
  {
   "cell_type": "markdown",
   "metadata": {},
   "source": [
    "除了自己做很白痴, 這看來很厲害!"
   ]
  },
  {
   "cell_type": "markdown",
   "metadata": {},
   "source": [
    "事實上我們可以叫 `numpy` 做!"
   ]
  },
  {
   "cell_type": "code",
   "execution_count": 42,
   "metadata": {},
   "outputs": [
    {
     "data": {
      "text/plain": [
       "array([ True, False, False,  True,  True, False])"
      ]
     },
     "execution_count": 42,
     "metadata": {},
     "output_type": "execute_result"
    }
   ],
   "source": [
    "L>0"
   ]
  },
  {
   "cell_type": "markdown",
   "metadata": {},
   "source": [
    "這有點強, 我們還可以一次到位!"
   ]
  },
  {
   "cell_type": "code",
   "execution_count": 43,
   "metadata": {
    "scrolled": true
   },
   "outputs": [
    {
     "data": {
      "text/plain": [
       "array([3, 5, 7])"
      ]
     },
     "execution_count": 43,
     "metadata": {},
     "output_type": "execute_result"
    }
   ],
   "source": [
    "L[L>0]"
   ]
  },
  {
   "cell_type": "markdown",
   "metadata": {},
   "source": [
    "## 7. 次元切割刀\n",
    "\n",
    "`numpy` 中 array 的切割法和 list 很像。"
   ]
  },
  {
   "cell_type": "code",
   "execution_count": 20,
   "metadata": {},
   "outputs": [
    {
     "data": {
      "text/plain": [
       "array([0, 1, 2, 3, 4, 5, 6, 7, 8, 9])"
      ]
     },
     "execution_count": 20,
     "metadata": {},
     "output_type": "execute_result"
    }
   ],
   "source": [
    "A = np.arange(10)\n",
    "A"
   ]
  },
  {
   "cell_type": "code",
   "execution_count": 19,
   "metadata": {},
   "outputs": [
    {
     "data": {
      "text/plain": [
       "array([2, 3, 4])"
      ]
     },
     "execution_count": 19,
     "metadata": {},
     "output_type": "execute_result"
    }
   ],
   "source": [
    "A[2:5]"
   ]
  },
  {
   "cell_type": "markdown",
   "metadata": {},
   "source": [
    "### 【技巧】2維陣列切法\n",
    "\n",
    "記得先列後行!"
   ]
  },
  {
   "cell_type": "code",
   "execution_count": 26,
   "metadata": {},
   "outputs": [
    {
     "data": {
      "text/plain": [
       "array([[0, 1, 2, 3, 4],\n",
       "       [5, 6, 7, 8, 9]])"
      ]
     },
     "execution_count": 26,
     "metadata": {},
     "output_type": "execute_result"
    }
   ],
   "source": [
    "A.reshape(2,5)\n",
    "A"
   ]
  },
  {
   "cell_type": "markdown",
   "metadata": {},
   "source": [
    "要所有的row, 切出行 1-3 位置。"
   ]
  },
  {
   "cell_type": "code",
   "execution_count": 27,
   "metadata": {},
   "outputs": [
    {
     "data": {
      "text/plain": [
       "array([[1, 2],\n",
       "       [6, 7]])"
      ]
     },
     "execution_count": 27,
     "metadata": {},
     "output_type": "execute_result"
    }
   ],
   "source": [
    "A[:,1:3]"
   ]
  },
  {
   "cell_type": "markdown",
   "metadata": {},
   "source": [
    "要所有的行col, 切出第 1 列row!"
   ]
  },
  {
   "cell_type": "code",
   "execution_count": 28,
   "metadata": {},
   "outputs": [
    {
     "data": {
      "text/plain": [
       "array([5, 6, 7, 8, 9])"
      ]
     },
     "execution_count": 28,
     "metadata": {},
     "output_type": "execute_result"
    }
   ],
   "source": [
    "A[1,:]"
   ]
  },
  {
   "cell_type": "markdown",
   "metadata": {},
   "source": [
    "## 8. `NumPy` 的 `zip` 和 `unzip`"
   ]
  },
  {
   "cell_type": "markdown",
   "metadata": {},
   "source": [
    "之前我們介紹 list 可以用 `zip` 和 `unzip` (其實還是 `zip`) 做到的資料格式變換, 在 array 中怎麼做呢?\n",
    "\n",
    "![zip and unzip](images/zip.png)"
   ]
  },
  {
   "cell_type": "markdown",
   "metadata": {},
   "source": [
    "### 【重點】array 的 `zip`\n",
    "\n",
    "![array zip](images/arrzip.png)"
   ]
  },
  {
   "cell_type": "code",
   "execution_count": 30,
   "metadata": {},
   "outputs": [],
   "source": [
    "x = np.array([1,2,3,4])\n",
    "y = np.array([5,6,7,8])"
   ]
  },
  {
   "cell_type": "code",
   "execution_count": 37,
   "metadata": {},
   "outputs": [
    {
     "data": {
      "text/plain": [
       "array([[1, 5],\n",
       "       [2, 6],\n",
       "       [3, 7],\n",
       "       [4, 8]])"
      ]
     },
     "execution_count": 37,
     "metadata": {},
     "output_type": "execute_result"
    }
   ],
   "source": [
    "X = np.c_[x,y]\n",
    "X"
   ]
  },
  {
   "cell_type": "code",
   "execution_count": 47,
   "metadata": {},
   "outputs": [
    {
     "name": "stdout",
     "output_type": "stream",
     "text": [
      "<class 'module'>\n"
     ]
    }
   ],
   "source": [
    "Y = np.r_[x,y]\n",
    "Y\n",
    "print(type(np))"
   ]
  },
  {
   "cell_type": "markdown",
   "metadata": {},
   "source": [
    "### 【重點】array 的 `unzip`\n",
    "\n",
    "這裡其實只需要用到 array 的切割法...\n",
    "\n",
    "![array zip](images/arrunzip.png)"
   ]
  },
  {
   "cell_type": "code",
   "execution_count": 38,
   "metadata": {},
   "outputs": [
    {
     "data": {
      "text/plain": [
       "array([5, 6, 7, 8])"
      ]
     },
     "execution_count": 38,
     "metadata": {},
     "output_type": "execute_result"
    }
   ],
   "source": [
    "X[:,1]"
   ]
  },
  {
   "cell_type": "code",
   "execution_count": null,
   "metadata": {},
   "outputs": [],
   "source": []
  }
 ],
 "metadata": {
  "kernelspec": {
   "display_name": "Python 3",
   "language": "python",
   "name": "python3"
  },
  "language_info": {
   "codemirror_mode": {
    "name": "ipython",
    "version": 3
   },
   "file_extension": ".py",
   "mimetype": "text/x-python",
   "name": "python",
   "nbconvert_exporter": "python",
   "pygments_lexer": "ipython3",
   "version": "3.8.8"
  }
 },
 "nbformat": 4,
 "nbformat_minor": 2
}
