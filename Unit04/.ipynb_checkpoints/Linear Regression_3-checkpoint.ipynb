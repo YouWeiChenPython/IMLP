{
 "cells": [
  {
   "cell_type": "markdown",
   "metadata": {},
   "source": [
    "# Linear Regression\n"
   ]
  },
  {
   "cell_type": "code",
   "execution_count": 1,
   "metadata": {},
   "outputs": [],
   "source": [
    "%matplotlib inline\n",
    "import numpy as np\n",
    "import matplotlib.pyplot as plt\n",
    "from sklearn.linear_model import LinearRegression"
   ]
  },
  {
   "cell_type": "markdown",
   "metadata": {},
   "source": [
    "## 3. Nonlinear\n",
    "\n",
    "$$f(x) = \\sin(3.2x) + 0.8x$$\n"
   ]
  },
  {
   "cell_type": "markdown",
   "metadata": {},
   "source": [
    "### 3. 生成假資料"
   ]
  },
  {
   "cell_type": "code",
   "execution_count": 2,
   "metadata": {},
   "outputs": [],
   "source": [
    "x = np.linspace(0, 5, 100)\n",
    "y = np.sin(3.2*x) + 0.8*x + 0.3*np.random.randn(100)"
   ]
  },
  {
   "cell_type": "code",
   "execution_count": 3,
   "metadata": {},
   "outputs": [
    {
     "data": {
      "text/plain": [
       "<matplotlib.collections.PathCollection at 0x7f8b57341460>"
      ]
     },
     "execution_count": 3,
     "metadata": {},
     "output_type": "execute_result"
    },
    {
     "data": {
      "image/png": "[encoded data removed]",
      "text/plain": [
       "<Figure size 432x288 with 1 Axes>"
      ]
     },
     "metadata": {
      "needs_background": "light"
     },
     "output_type": "display_data"
    }
   ],
   "source": [
    "plt.scatter(x,y)"
   ]
  },
  {
   "cell_type": "markdown",
   "metadata": {},
   "source": [
    "#### nonlinear"
   ]
  },
  {
   "cell_type": "code",
   "execution_count": 4,
   "metadata": {},
   "outputs": [],
   "source": [
    "regr_lin = LinearRegression()"
   ]
  },
  {
   "cell_type": "code",
   "execution_count": 5,
   "metadata": {},
   "outputs": [
    {
     "name": "stdout",
     "output_type": "stream",
     "text": [
      "(100, 1)\n"
     ]
    }
   ],
   "source": [
    "X = x.reshape(-1, 1)\n",
    "print(X.shape)"
   ]
  },
  {
   "cell_type": "code",
   "execution_count": 6,
   "metadata": {},
   "outputs": [
    {
     "data": {
      "text/plain": [
       "LinearRegression()"
      ]
     },
     "execution_count": 6,
     "metadata": {},
     "output_type": "execute_result"
    }
   ],
   "source": [
    "regr_lin.fit(X,y)"
   ]
  },
  {
   "cell_type": "code",
   "execution_count": 7,
   "metadata": {},
   "outputs": [
    {
     "name": "stdout",
     "output_type": "stream",
     "text": [
      "0.5303772648606961\n"
     ]
    },
    {
     "data": {
      "image/png": "[encoded data removed]",
      "text/plain": [
       "<Figure size 432x288 with 1 Axes>"
      ]
     },
     "metadata": {
      "needs_background": "light"
     },
     "output_type": "display_data"
    }
   ],
   "source": [
    "Y=regr_lin.predict(X)\n",
    "plt.scatter(x,y)\n",
    "plt.plot(x,Y , color='r')\n",
    "mse = np.sum((Y-y)**2) / len(y)\n",
    "print(mse)"
   ]
  },
  {
   "cell_type": "markdown",
   "metadata": {},
   "source": [
    "果然超級不準, 該如何是好?"
   ]
  },
  {
   "cell_type": "markdown",
   "metadata": {},
   "source": [
    "#### 多項式\n",
    "\n",
    "多項式5次方"
   ]
  },
  {
   "cell_type": "markdown",
   "metadata": {},
   "source": [
    "$$\\widehat{y}=xw+b=w_{1}x_{1}+w_{2}x_{1}^{2}+w_{3}x_{1}^{3}+w_{4}x_{1}^{4}+w_{5}x_{1}^{5}+b$$"
   ]
  },
  {
   "cell_type": "code",
   "execution_count": 8,
   "metadata": {},
   "outputs": [
    {
     "name": "stdout",
     "output_type": "stream",
     "text": [
      "(100,)\n"
     ]
    }
   ],
   "source": [
    "print(x.shape)"
   ]
  },
  {
   "cell_type": "code",
   "execution_count": 9,
   "metadata": {},
   "outputs": [
    {
     "name": "stdout",
     "output_type": "stream",
     "text": [
      "(100, 5)\n"
     ]
    }
   ],
   "source": [
    "X_poly = np.array([[k, k**2, k**3, k**4, k**5] for k in x])  # add k**6 to try it\n",
    "print(X_poly.shape)"
   ]
  },
  {
   "cell_type": "code",
   "execution_count": 10,
   "metadata": {},
   "outputs": [],
   "source": [
    "regr_poly = LinearRegression()"
   ]
  },
  {
   "cell_type": "code",
   "execution_count": 11,
   "metadata": {},
   "outputs": [
    {
     "data": {
      "text/plain": [
       "LinearRegression()"
      ]
     },
     "execution_count": 11,
     "metadata": {},
     "output_type": "execute_result"
    }
   ],
   "source": [
    "regr_poly.fit(X_poly, y)"
   ]
  },
  {
   "cell_type": "code",
   "execution_count": 12,
   "metadata": {},
   "outputs": [
    {
     "data": {
      "text/plain": [
       "[<matplotlib.lines.Line2D at 0x7f8b57449dc0>]"
      ]
     },
     "execution_count": 12,
     "metadata": {},
     "output_type": "execute_result"
    },
    {
     "data": {
      "image/png": "[encoded data removed]",
      "text/plain": [
       "<Figure size 432x288 with 1 Axes>"
      ]
     },
     "metadata": {
      "needs_background": "light"
     },
     "output_type": "display_data"
    }
   ],
   "source": [
    "plt.scatter(x,y)\n",
    "plt.plot(x, regr_poly.predict(X_poly), 'r')"
   ]
  },
  {
   "cell_type": "code",
   "execution_count": 13,
   "metadata": {},
   "outputs": [
    {
     "name": "stdout",
     "output_type": "stream",
     "text": [
      "Coefficients:  [-1.38355605  1.85943736 -0.77254147  0.15337356 -0.01131786]\n",
      "interception:  0.93022365562795\n"
     ]
    }
   ],
   "source": [
    "print('Coefficients: ', regr_poly.coef_)\n",
    "print('interception: ', regr_poly.intercept_)"
   ]
  },
  {
   "cell_type": "code",
   "execution_count": 14,
   "metadata": {},
   "outputs": [
    {
     "data": {
      "text/plain": [
       "array([0.93022366, 0.86499154, 0.80866209, 0.76067355, 0.72048718,\n",
       "       0.6875869 , 0.66147874, 0.64169049, 0.6277712 , 0.61929074,\n",
       "       0.61583936, 0.61702724, 0.62248407, 0.63185856, 0.64481801,\n",
       "       0.66104787, 0.68025131, 0.70214874, 0.72647738, 0.75299081,\n",
       "       0.78145854, 0.81166553, 0.84341179, 0.87651188, 0.9107945 ,\n",
       "       0.94610206, 0.98229016, 1.01922725, 1.05679407, 1.0948833 ,\n",
       "       1.13339906, 1.17225647, 1.21138122, 1.25070912, 1.29018563,\n",
       "       1.32976545, 1.36941205, 1.40909722, 1.44880065, 1.48850946,\n",
       "       1.52821775, 1.56792618, 1.6076415 , 1.64737611, 1.68714762,\n",
       "       1.7269784 , 1.76689514, 1.80692837, 1.84711206, 1.88748317,\n",
       "       1.92808115, 1.96894755, 2.01012557, 2.05165958, 2.0935947 ,\n",
       "       2.13597633, 2.17884974, 2.2222596 , 2.26624954, 2.31086168,\n",
       "       2.35613624, 2.40211102, 2.44882102, 2.49629795, 2.54456982,\n",
       "       2.59366045, 2.64358906, 2.69436981, 2.74601134, 2.79851637,\n",
       "       2.85188118, 2.90609524, 2.96114071, 3.01699203, 3.07361544,\n",
       "       3.13096856, 3.18899993, 3.24764856, 3.30684352, 3.36650342,\n",
       "       3.42653605, 3.48683788, 3.54729361, 3.60777577, 3.66814421,\n",
       "       3.72824572, 3.78791352, 3.84696688, 3.9052106 , 3.96243463,\n",
       "       4.01841359, 4.07290633, 4.12565547, 4.17638698, 4.22480973,\n",
       "       4.27061501, 4.31347612, 4.35304793, 4.38896638, 4.4208481 ])"
      ]
     },
     "execution_count": 14,
     "metadata": {},
     "output_type": "execute_result"
    }
   ],
   "source": [
    "W=regr_poly.coef_\n",
    "b=regr_poly.intercept_\n",
    "np.dot(X_poly,W.T)+b"
   ]
  },
  {
   "cell_type": "code",
   "execution_count": 18,
   "metadata": {},
   "outputs": [
    {
     "data": {
      "text/plain": [
       "array([0.93022366, 0.86499154, 0.80866209, 0.76067355, 0.72048718,\n",
       "       0.6875869 , 0.66147874, 0.64169049, 0.6277712 , 0.61929074,\n",
       "       0.61583936, 0.61702724, 0.62248407, 0.63185856, 0.64481801,\n",
       "       0.66104787, 0.68025131, 0.70214874, 0.72647738, 0.75299081,\n",
       "       0.78145854, 0.81166553, 0.84341179, 0.87651188, 0.9107945 ,\n",
       "       0.94610206, 0.98229016, 1.01922725, 1.05679407, 1.0948833 ,\n",
       "       1.13339906, 1.17225647, 1.21138122, 1.25070912, 1.29018563,\n",
       "       1.32976545, 1.36941205, 1.40909722, 1.44880065, 1.48850946,\n",
       "       1.52821775, 1.56792618, 1.6076415 , 1.64737611, 1.68714762,\n",
       "       1.7269784 , 1.76689514, 1.80692837, 1.84711206, 1.88748317,\n",
       "       1.92808115, 1.96894755, 2.01012557, 2.05165958, 2.0935947 ,\n",
       "       2.13597633, 2.17884974, 2.2222596 , 2.26624954, 2.31086168,\n",
       "       2.35613624, 2.40211102, 2.44882102, 2.49629795, 2.54456982,\n",
       "       2.59366045, 2.64358906, 2.69436981, 2.74601134, 2.79851637,\n",
       "       2.85188118, 2.90609524, 2.96114071, 3.01699203, 3.07361544,\n",
       "       3.13096856, 3.18899993, 3.24764856, 3.30684352, 3.36650342,\n",
       "       3.42653605, 3.48683788, 3.54729361, 3.60777577, 3.66814421,\n",
       "       3.72824572, 3.78791352, 3.84696688, 3.9052106 , 3.96243463,\n",
       "       4.01841359, 4.07290633, 4.12565547, 4.17638698, 4.22480973,\n",
       "       4.27061501, 4.31347612, 4.35304793, 4.38896638, 4.4208481 ])"
      ]
     },
     "execution_count": 18,
     "metadata": {},
     "output_type": "execute_result"
    }
   ],
   "source": [
    "predict_Y = regr_poly.predict(X_poly)\n",
    "predict_Y"
   ]
  },
  {
   "cell_type": "code",
   "execution_count": 21,
   "metadata": {},
   "outputs": [
    {
     "data": {
      "text/plain": [
       "0.4764255379481031"
      ]
     },
     "execution_count": 21,
     "metadata": {},
     "output_type": "execute_result"
    }
   ],
   "source": [
    "mse = np.sum((predict_Y - y)**2)/len(y)\n",
    "mse"
   ]
  },
  {
   "cell_type": "markdown",
   "metadata": {},
   "source": [
    "#### RBF\n",
    "\n",
    "$$\\phi_i = e^{-\\| x - c_i \\|^2/2\\sigma^2}$$"
   ]
  },
  {
   "cell_type": "code",
   "execution_count": 23,
   "metadata": {},
   "outputs": [],
   "source": [
    "# normal distrubution\n",
    "def RBF(x, center, sigma):\n",
    "    k = np.exp(-(x - center)**2/(2*sigma**2))\n",
    "    return k"
   ]
  },
  {
   "cell_type": "code",
   "execution_count": 24,
   "metadata": {},
   "outputs": [],
   "source": [
    "sigma = 0.3"
   ]
  },
  {
   "cell_type": "code",
   "execution_count": 25,
   "metadata": {},
   "outputs": [
    {
     "data": {
      "text/plain": [
       "array([[2.49352209e-01, 3.72665317e-06, 8.32396968e-16, 2.77873902e-30,\n",
       "        1.38634329e-49],\n",
       "       [3.25472872e-01, 8.52574586e-06, 3.33776477e-15, 1.95292168e-29,\n",
       "        1.70773187e-48],\n",
       "       [4.12959721e-01, 1.89599467e-05, 1.30098499e-14, 1.33417628e-28,\n",
       "        2.04484269e-47],\n",
       "       [5.09321387e-01, 4.09857759e-05, 4.92924229e-14, 8.85998378e-28,\n",
       "        2.38007940e-46],\n",
       "       [6.10614979e-01, 8.61232743e-05, 1.81542941e-13, 5.71931425e-27,\n",
       "        2.69286330e-45],\n",
       "       [7.11597342e-01, 1.75913523e-04, 6.49934950e-13, 3.58877569e-26,\n",
       "        2.96161426e-44],\n",
       "       [8.06106646e-01, 3.49276399e-04, 2.26178717e-12, 2.18897091e-25,\n",
       "        3.16616832e-43],\n",
       "       [8.87650512e-01, 6.74109702e-04, 7.65111808e-12, 1.29785145e-24,\n",
       "        3.29026462e-42],\n",
       "       [9.50129573e-01, 1.26468753e-03, 2.51587693e-11, 7.47999499e-24,\n",
       "        3.32367827e-41],\n",
       "       [9.88587205e-01, 2.30636063e-03, 8.04165068e-11, 4.19052994e-23,\n",
       "        3.26361145e-40],\n",
       "       [9.99858301e-01, 4.08848603e-03, 2.49857469e-10, 2.28206448e-22,\n",
       "        3.11508027e-39],\n",
       "       [9.82999393e-01, 7.04513211e-03, 7.54624307e-10, 1.20803132e-21,\n",
       "        2.89022303e-38],\n",
       "       [9.39419053e-01, 1.18006814e-02, 2.21544292e-09, 6.21612589e-21,\n",
       "        2.60666244e-37],\n",
       "       [8.72683572e-01, 1.92139366e-02, 6.32239555e-09, 3.10922914e-20,\n",
       "        2.28522808e-36],\n",
       "       [7.88035094e-01, 3.04100365e-02, 1.75385660e-08, 1.51173956e-19,\n",
       "        1.94744693e-35],\n",
       "       [6.91712523e-01, 4.67852390e-02, 4.72931044e-08, 7.14484069e-19,\n",
       "        1.61321790e-34],\n",
       "       [5.90197058e-01, 6.99668117e-02, 1.23963230e-07, 3.28246000e-18,\n",
       "        1.29900779e-33],\n",
       "       [4.89507966e-01, 1.01710699e-01, 3.15848828e-07, 1.46587743e-17,\n",
       "        1.01676784e-32],\n",
       "       [3.94651546e-01, 1.43725065e-01, 7.82270540e-07, 6.36337025e-17,\n",
       "        7.73611948e-32],\n",
       "       [3.09285226e-01, 1.97419347e-01, 1.88332817e-06, 2.68514691e-16,\n",
       "        5.72157845e-31],\n",
       "       [2.35611163e-01, 2.63595644e-01, 4.40743942e-06, 1.10138772e-15,\n",
       "        4.11338980e-30],\n",
       "       [1.74471250e-01, 3.42119690e-01, 1.00262383e-05, 4.39140743e-15,\n",
       "        2.87458529e-29],\n",
       "       [1.25586572e-01, 4.31627624e-01, 2.21707822e-05, 1.70199608e-14,\n",
       "        1.95272844e-28],\n",
       "       [8.78726771e-02, 5.29336346e-01, 4.76557523e-05, 6.41216516e-14,\n",
       "        1.28943611e-27],\n",
       "       [5.97662260e-02, 6.31023482e-01, 9.95728564e-05, 2.34823830e-13,\n",
       "        8.27654584e-27],\n",
       "       [3.95138302e-02, 7.31224355e-01, 2.02235747e-04, 8.35932008e-13,\n",
       "        5.16404173e-26],\n",
       "       [2.53941539e-02, 8.23658334e-01, 3.99269561e-04, 2.89261787e-12,\n",
       "        3.13199950e-25],\n",
       "       [1.58638899e-02, 9.01851159e-01, 7.66241736e-04, 9.72976825e-12,\n",
       "        1.84648144e-24],\n",
       "       [9.63334136e-03, 9.59873407e-01, 1.42940970e-03, 3.18130457e-11,\n",
       "        1.05817995e-23],\n",
       "       [5.68637548e-03, 9.93080316e-01, 2.59202372e-03, 1.01111214e-10,\n",
       "        5.89475059e-23],\n",
       "       [3.26276232e-03, 9.98725433e-01, 4.56890930e-03, 3.12381079e-10,\n",
       "        3.19199838e-22],\n",
       "       [1.81981259e-03, 9.76335694e-01, 7.82847961e-03, 9.38126576e-10,\n",
       "        1.68016220e-21],\n",
       "       [9.86641126e-04, 9.27776880e-01, 1.30386802e-02, 2.73860552e-09,\n",
       "        8.59668633e-21],\n",
       "       [5.19975743e-04, 8.56996891e-01, 2.11096565e-02, 7.77121351e-09,\n",
       "        4.27565124e-20],\n",
       "       [2.66377952e-04, 7.69495827e-01, 3.32215597e-02, 2.14357915e-08,\n",
       "        2.06711571e-19],\n",
       "       [1.32649247e-04, 6.71621535e-01, 5.08218176e-02, 5.74753374e-08,\n",
       "        9.71445906e-19],\n",
       "       [6.42099934e-05, 5.69815527e-01, 7.55738747e-02, 1.49801050e-07,\n",
       "        4.43775968e-18],\n",
       "       [3.02128561e-05, 4.69932268e-01, 1.09240708e-01, 3.79524227e-07,\n",
       "        1.97060808e-17],\n",
       "       [1.38188614e-05, 3.76727719e-01, 1.53493026e-01, 9.34663912e-07,\n",
       "        8.50605251e-17],\n",
       "       [6.14389891e-06, 2.93569685e-01, 2.09644807e-01, 2.23749857e-06,\n",
       "        3.56900521e-16],\n",
       "       [2.65526080e-06, 2.22375101e-01, 2.78336968e-01, 5.20668591e-06,\n",
       "        1.45565222e-15],\n",
       "       [1.11547959e-06, 1.63739113e-01, 3.59210478e-01, 1.17774513e-05,\n",
       "        5.77111052e-15],\n",
       "       [4.55519940e-07, 1.17195255e-01, 4.50628259e-01, 2.58959932e-05,\n",
       "        2.22409062e-14],\n",
       "       [1.80819174e-07, 8.15377921e-02, 5.49514518e-01, 5.53484102e-05,\n",
       "        8.33176262e-14],\n",
       "       [6.97706693e-08, 5.51441169e-02, 6.51375232e-01, 1.14992377e-04,\n",
       "        3.03397934e-13],\n",
       "       [2.61693310e-08, 3.62518979e-02, 7.50541364e-01, 2.32233182e-04,\n",
       "        1.07393914e-12],\n",
       "       [9.54121477e-09, 2.31661375e-02, 8.40638634e-01, 4.55901286e-04,\n",
       "        3.69520082e-12],\n",
       "       [3.38147395e-09, 1.43902333e-02, 9.15240817e-01, 8.69978826e-04,\n",
       "        1.23591255e-11],\n",
       "       [1.16492976e-09, 8.68907130e-03, 9.68618450e-01, 1.61375600e-03,\n",
       "        4.01817418e-11],\n",
       "       [3.90107912e-10, 5.10000038e-03, 9.96463546e-01, 2.90976810e-03,\n",
       "        1.26987536e-10],\n",
       "       [1.26987536e-10, 2.90976810e-03, 9.96463546e-01, 5.10000038e-03,\n",
       "        3.90107912e-10],\n",
       "       [4.01817418e-11, 1.61375600e-03, 9.68618450e-01, 8.68907130e-03,\n",
       "        1.16492976e-09],\n",
       "       [1.23591255e-11, 8.69978826e-04, 9.15240817e-01, 1.43902333e-02,\n",
       "        3.38147395e-09],\n",
       "       [3.69520082e-12, 4.55901286e-04, 8.40638634e-01, 2.31661375e-02,\n",
       "        9.54121477e-09],\n",
       "       [1.07393914e-12, 2.32233182e-04, 7.50541364e-01, 3.62518979e-02,\n",
       "        2.61693310e-08],\n",
       "       [3.03397934e-13, 1.14992377e-04, 6.51375232e-01, 5.51441169e-02,\n",
       "        6.97706693e-08],\n",
       "       [8.33176262e-14, 5.53484102e-05, 5.49514518e-01, 8.15377921e-02,\n",
       "        1.80819174e-07],\n",
       "       [2.22409062e-14, 2.58959932e-05, 4.50628259e-01, 1.17195255e-01,\n",
       "        4.55519940e-07],\n",
       "       [5.77111052e-15, 1.17774513e-05, 3.59210478e-01, 1.63739113e-01,\n",
       "        1.11547959e-06],\n",
       "       [1.45565222e-15, 5.20668591e-06, 2.78336968e-01, 2.22375101e-01,\n",
       "        2.65526080e-06],\n",
       "       [3.56900521e-16, 2.23749857e-06, 2.09644807e-01, 2.93569685e-01,\n",
       "        6.14389891e-06],\n",
       "       [8.50605251e-17, 9.34663912e-07, 1.53493026e-01, 3.76727719e-01,\n",
       "        1.38188614e-05],\n",
       "       [1.97060808e-17, 3.79524227e-07, 1.09240708e-01, 4.69932268e-01,\n",
       "        3.02128561e-05],\n",
       "       [4.43775968e-18, 1.49801050e-07, 7.55738747e-02, 5.69815527e-01,\n",
       "        6.42099934e-05],\n",
       "       [9.71445906e-19, 5.74753374e-08, 5.08218176e-02, 6.71621535e-01,\n",
       "        1.32649247e-04],\n",
       "       [2.06711571e-19, 2.14357915e-08, 3.32215597e-02, 7.69495827e-01,\n",
       "        2.66377952e-04],\n",
       "       [4.27565124e-20, 7.77121351e-09, 2.11096565e-02, 8.56996891e-01,\n",
       "        5.19975743e-04],\n",
       "       [8.59668633e-21, 2.73860552e-09, 1.30386802e-02, 9.27776880e-01,\n",
       "        9.86641126e-04],\n",
       "       [1.68016220e-21, 9.38126576e-10, 7.82847961e-03, 9.76335694e-01,\n",
       "        1.81981259e-03],\n",
       "       [3.19199838e-22, 3.12381079e-10, 4.56890930e-03, 9.98725433e-01,\n",
       "        3.26276232e-03],\n",
       "       [5.89475059e-23, 1.01111214e-10, 2.59202372e-03, 9.93080316e-01,\n",
       "        5.68637548e-03],\n",
       "       [1.05817995e-23, 3.18130457e-11, 1.42940970e-03, 9.59873407e-01,\n",
       "        9.63334136e-03],\n",
       "       [1.84648144e-24, 9.72976825e-12, 7.66241736e-04, 9.01851159e-01,\n",
       "        1.58638899e-02],\n",
       "       [3.13199950e-25, 2.89261787e-12, 3.99269561e-04, 8.23658334e-01,\n",
       "        2.53941539e-02],\n",
       "       [5.16404173e-26, 8.35932008e-13, 2.02235747e-04, 7.31224355e-01,\n",
       "        3.95138302e-02],\n",
       "       [8.27654584e-27, 2.34823830e-13, 9.95728564e-05, 6.31023482e-01,\n",
       "        5.97662260e-02],\n",
       "       [1.28943611e-27, 6.41216516e-14, 4.76557523e-05, 5.29336346e-01,\n",
       "        8.78726771e-02],\n",
       "       [1.95272844e-28, 1.70199608e-14, 2.21707822e-05, 4.31627624e-01,\n",
       "        1.25586572e-01],\n",
       "       [2.87458529e-29, 4.39140743e-15, 1.00262383e-05, 3.42119690e-01,\n",
       "        1.74471250e-01],\n",
       "       [4.11338980e-30, 1.10138772e-15, 4.40743942e-06, 2.63595644e-01,\n",
       "        2.35611163e-01],\n",
       "       [5.72157845e-31, 2.68514691e-16, 1.88332817e-06, 1.97419347e-01,\n",
       "        3.09285226e-01],\n",
       "       [7.73611948e-32, 6.36337025e-17, 7.82270540e-07, 1.43725065e-01,\n",
       "        3.94651546e-01],\n",
       "       [1.01676784e-32, 1.46587743e-17, 3.15848828e-07, 1.01710699e-01,\n",
       "        4.89507966e-01],\n",
       "       [1.29900779e-33, 3.28246000e-18, 1.23963230e-07, 6.99668117e-02,\n",
       "        5.90197058e-01],\n",
       "       [1.61321790e-34, 7.14484069e-19, 4.72931044e-08, 4.67852390e-02,\n",
       "        6.91712523e-01],\n",
       "       [1.94744693e-35, 1.51173956e-19, 1.75385660e-08, 3.04100365e-02,\n",
       "        7.88035094e-01],\n",
       "       [2.28522808e-36, 3.10922914e-20, 6.32239555e-09, 1.92139366e-02,\n",
       "        8.72683572e-01],\n",
       "       [2.60666244e-37, 6.21612589e-21, 2.21544292e-09, 1.18006814e-02,\n",
       "        9.39419053e-01],\n",
       "       [2.89022303e-38, 1.20803132e-21, 7.54624307e-10, 7.04513211e-03,\n",
       "        9.82999393e-01],\n",
       "       [3.11508027e-39, 2.28206448e-22, 2.49857469e-10, 4.08848603e-03,\n",
       "        9.99858301e-01],\n",
       "       [3.26361145e-40, 4.19052994e-23, 8.04165068e-11, 2.30636063e-03,\n",
       "        9.88587205e-01],\n",
       "       [3.32367827e-41, 7.47999499e-24, 2.51587693e-11, 1.26468753e-03,\n",
       "        9.50129573e-01],\n",
       "       [3.29026462e-42, 1.29785145e-24, 7.65111808e-12, 6.74109702e-04,\n",
       "        8.87650512e-01],\n",
       "       [3.16616832e-43, 2.18897091e-25, 2.26178717e-12, 3.49276399e-04,\n",
       "        8.06106646e-01],\n",
       "       [2.96161426e-44, 3.58877569e-26, 6.49934950e-13, 1.75913523e-04,\n",
       "        7.11597342e-01],\n",
       "       [2.69286330e-45, 5.71931425e-27, 1.81542941e-13, 8.61232743e-05,\n",
       "        6.10614979e-01],\n",
       "       [2.38007940e-46, 8.85998378e-28, 4.92924229e-14, 4.09857759e-05,\n",
       "        5.09321387e-01],\n",
       "       [2.04484269e-47, 1.33417628e-28, 1.30098499e-14, 1.89599467e-05,\n",
       "        4.12959721e-01],\n",
       "       [1.70773187e-48, 1.95292168e-29, 3.33776477e-15, 8.52574586e-06,\n",
       "        3.25472872e-01],\n",
       "       [1.38634329e-49, 2.77873902e-30, 8.32396968e-16, 3.72665317e-06,\n",
       "        2.49352209e-01]])"
      ]
     },
     "execution_count": 25,
     "metadata": {},
     "output_type": "execute_result"
    }
   ],
   "source": [
    "X_rbf = np.array([[RBF(k, .5, sigma), \n",
    "                  RBF(k, 1.5, sigma),\n",
    "                  RBF(k, 2.5, sigma),\n",
    "                  RBF(k, 3.5, sigma),\n",
    "                  RBF(k, 4.5, sigma)] for k in x])\n",
    "\n",
    "X_rbf"
   ]
  },
  {
   "cell_type": "code",
   "execution_count": 22,
   "metadata": {},
   "outputs": [],
   "source": [
    "regr_rbf = LinearRegression()"
   ]
  },
  {
   "cell_type": "code",
   "execution_count": 23,
   "metadata": {},
   "outputs": [
    {
     "data": {
      "text/plain": [
       "LinearRegression()"
      ]
     },
     "execution_count": 23,
     "metadata": {},
     "output_type": "execute_result"
    }
   ],
   "source": [
    "regr_rbf.fit(X_rbf, y)"
   ]
  },
  {
   "cell_type": "code",
   "execution_count": 24,
   "metadata": {
    "scrolled": true
   },
   "outputs": [
    {
     "data": {
      "text/plain": [
       "[<matplotlib.lines.Line2D at 0x1c94bd06250>]"
      ]
     },
     "execution_count": 24,
     "metadata": {},
     "output_type": "execute_result"
    },
    {
     "data": {
      "image/png": "[encoded data removed]",
      "text/plain": [
       "<Figure size 432x288 with 1 Axes>"
      ]
     },
     "metadata": {
      "needs_background": "light"
     },
     "output_type": "display_data"
    }
   ],
   "source": [
    "plt.scatter(x,y)\n",
    "plt.plot(x, regr_rbf.predict(X_rbf), 'r')"
   ]
  },
  {
   "cell_type": "code",
   "execution_count": 25,
   "metadata": {},
   "outputs": [
    {
     "name": "stdout",
     "output_type": "stream",
     "text": [
      "Coefficients:  [-0.72620466 -1.83462409  1.09615001 -0.01194894  3.09093005]\n",
      "interception:  1.877906975572715\n"
     ]
    }
   ],
   "source": [
    "print('Coefficients: ', regr_rbf.coef_)\n",
    "print('interception: ', regr_rbf.intercept_)"
   ]
  },
  {
   "cell_type": "markdown",
   "metadata": {},
   "source": [
    "#### Comparison"
   ]
  },
  {
   "cell_type": "code",
   "execution_count": 26,
   "metadata": {},
   "outputs": [],
   "source": [
    "Y_lin = regr_lin.predict(X)\n",
    "Y_poly = regr_poly.predict(X_poly)\n",
    "Y_rbf = regr_rbf.predict(X_rbf)"
   ]
  },
  {
   "cell_type": "code",
   "execution_count": 27,
   "metadata": {
    "scrolled": true
   },
   "outputs": [
    {
     "data": {
      "text/plain": [
       "<matplotlib.legend.Legend at 0x1c94bd62100>"
      ]
     },
     "execution_count": 27,
     "metadata": {},
     "output_type": "execute_result"
    },
    {
     "data": {
      "image/png": "[encoded data removed]",
      "text/plain": [
       "<Figure size 432x288 with 1 Axes>"
      ]
     },
     "metadata": {
      "needs_background": "light"
     },
     "output_type": "display_data"
    }
   ],
   "source": [
    "plt.scatter(x,y)\n",
    "\n",
    "plt.plot(x, Y_lin, label='linear')\n",
    "plt.plot(x, Y_poly, label='polynomial')\n",
    "plt.plot(x, Y_rbf, label='rbf')\n",
    "plt.legend()"
   ]
  },
  {
   "cell_type": "markdown",
   "metadata": {
    "collapsed": true
   },
   "source": [
    "## 請計算模型的MSE"
   ]
  },
  {
   "cell_type": "code",
   "execution_count": 28,
   "metadata": {},
   "outputs": [
    {
     "name": "stdout",
     "output_type": "stream",
     "text": [
      "0.6099512206136817\n"
     ]
    }
   ],
   "source": [
    "print(np.sum((regr_lin.predict(X)-y)**2) / len(y))"
   ]
  },
  {
   "cell_type": "code",
   "execution_count": 29,
   "metadata": {},
   "outputs": [
    {
     "name": "stdout",
     "output_type": "stream",
     "text": [
      "0.5531666918302569\n"
     ]
    }
   ],
   "source": [
    "print(np.sum((regr_poly.predict(X_poly)-y)**2) / len(y))"
   ]
  },
  {
   "cell_type": "code",
   "execution_count": 30,
   "metadata": {},
   "outputs": [
    {
     "name": "stdout",
     "output_type": "stream",
     "text": [
      "0.28356996943295043\n"
     ]
    }
   ],
   "source": [
    "print(np.sum((regr_rbf.predict(X_rbf)-y)**2) / len(y))"
   ]
  },
  {
   "cell_type": "code",
   "execution_count": null,
   "metadata": {},
   "outputs": [],
   "source": []
  },
  {
   "cell_type": "code",
   "execution_count": null,
   "metadata": {},
   "outputs": [],
   "source": []
  }
 ],
 "metadata": {
  "anaconda-cloud": {},
  "kernelspec": {
   "display_name": "Python 3",
   "language": "python",
   "name": "python3"
  },
  "language_info": {
   "codemirror_mode": {
    "name": "ipython",
    "version": 3
   },
   "file_extension": ".py",
   "mimetype": "text/x-python",
   "name": "python",
   "nbconvert_exporter": "python",
   "pygments_lexer": "ipython3",
   "version": "3.8.8"
  }
 },
 "nbformat": 4,
 "nbformat_minor": 1
}
